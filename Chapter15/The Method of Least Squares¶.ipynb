{
 "cells": [
  {
   "cell_type": "markdown",
   "metadata": {},
   "source": [
    "We have retraced the steps that Galton and Pearson took to develop the equation of the\n",
    "regression line that runs through a football shaped scatter plot. But not all scatter plots are\n",
    "football shaped, not even linear ones. Does every scatter plot have a \"best\" line that goes\n",
    "through it? If so, can we still use the formulas for the slope and intercept developed in the\n",
    "previous section, or do we need new ones?\n",
    "To address these questions, we need a reasonable definition of \"best\". Recall that the\n",
    "purpose of the line is to predict or estimate values of , given values of . Estimates\n",
    "typically aren't perfect. Each one is off the true value by an error. A reasonable criterion for a\n",
    "line to be the \"best\" is for it to have the smallest possible overall error among all straight\n",
    "lines.\n",
    "In this section we will make this criterion precise and see if we can identify the best straight\n",
    "line under the criterion.\n",
    "Our first example is a dataset that has one row for every chapter of the novel \"Little\n",
    "Women.\" The goal is to estimate the number of characters (that is, letters, spaces\n",
    "punctuation marks, and so on) based on the number of periods. Recall that we attempted to\n",
    "do this in the very first lecture of this course"
   ]
  },
  {
   "cell_type": "code",
   "execution_count": 1,
   "metadata": {},
   "outputs": [],
   "source": [
    "import  pandas as pd\n",
    "import numpy as np\n",
    "import matplotlib.ticker as tick\n",
    "import matplotlib.pyplot as plt\n",
    "import pylab as pl\n",
    "plt.style.use('fivethirtyeight')\n",
    "import matplotlib.patches as mpatches\n",
    "import functools\n",
    "from scipy import optimize"
   ]
  },
  {
   "cell_type": "code",
   "execution_count": 2,
   "metadata": {},
   "outputs": [],
   "source": [
    "def standard_units(xyz):\n",
    "    \"Convert any array of numbers to standard units.\"\n",
    "    return (xyz - np.mean(xyz))/np.std(xyz)  \n",
    "def fit(table, x, y):\n",
    "    a = slope(table, x, y)\n",
    "    b = intercept(table, x, y)\n",
    "    return a * table[x] + b\n"
   ]
  },
  {
   "cell_type": "code",
   "execution_count": 3,
   "metadata": {},
   "outputs": [],
   "source": [
    "def correlation(t, label_x, label_y):\n",
    "    \n",
    "    return np.mean(standard_units(t[label_x])*standard_units(t[label_y]))\n",
    "def slope(t, label_x, label_y):\n",
    "    r = correlation(t, label_x, label_y)\n",
    "    return r*np.std(t[label_y])/np.std(t[label_x])\n",
    "\n",
    "def intercept(t, label_x, label_y):\n",
    "    return np.mean(t[label_y]) - slope(t, label_x, label_y)*np.mean(t[label_x])\n",
    "def minimize(f, start=None, smooth=False, log=None, array=False, **vargs):\n",
    "    \"\"\"Minimize a function f of one or more arguments.\n",
    "\n",
    "    Args:\n",
    "        f: A function that takes numbers and returns a number\n",
    "\n",
    "        start: A starting value or list of starting values\n",
    "\n",
    "        smooth: Whether to assume that f is smooth and use first-order info\n",
    "\n",
    "        log: Logging function called on the result of optimization (e.g. print)\n",
    "\n",
    "        vargs: Other named arguments passed to scipy.optimize.minimize\n",
    "\n",
    "    Returns either:\n",
    "        (a) the minimizing argument of a one-argument function\n",
    "        (b) an array of minimizing arguments of a multi-argument function\n",
    "    \"\"\"\n",
    "    if start is None:\n",
    "        assert not array, \"Please pass starting values explicitly when array=True\"\n",
    "        arg_count = f.__code__.co_argcount\n",
    "        assert arg_count > 0, \"Please pass starting values explicitly for variadic functions\"\n",
    "        start = [0] * arg_count\n",
    "    if not hasattr(start, '__len__'):\n",
    "        start = [start]\n",
    "\n",
    "    if array:\n",
    "        objective = f\n",
    "    else:\n",
    "        @functools.wraps(f)\n",
    "        def objective(args):\n",
    "            return f(*args)\n",
    "\n",
    "    if not smooth and 'method' not in vargs:\n",
    "        vargs['method'] = 'Powell'\n",
    "    result = optimize.minimize(objective, start, **vargs)\n",
    "    if log is not None:\n",
    "        log(result)\n",
    "    if len(start) == 1:\n",
    "        return result.x.item(0)\n",
    "    else:\n",
    "        return result.x"
   ]
  },
  {
   "cell_type": "code",
   "execution_count": 4,
   "metadata": {},
   "outputs": [
    {
     "data": {
      "text/html": [
       "<div>\n",
       "<style scoped>\n",
       "    .dataframe tbody tr th:only-of-type {\n",
       "        vertical-align: middle;\n",
       "    }\n",
       "\n",
       "    .dataframe tbody tr th {\n",
       "        vertical-align: top;\n",
       "    }\n",
       "\n",
       "    .dataframe thead th {\n",
       "        text-align: right;\n",
       "    }\n",
       "</style>\n",
       "<table border=\"1\" class=\"dataframe\">\n",
       "  <thead>\n",
       "    <tr style=\"text-align: right;\">\n",
       "      <th></th>\n",
       "      <th>Characters</th>\n",
       "      <th>Periods</th>\n",
       "    </tr>\n",
       "  </thead>\n",
       "  <tbody>\n",
       "    <tr>\n",
       "      <th>0</th>\n",
       "      <td>21759</td>\n",
       "      <td>189</td>\n",
       "    </tr>\n",
       "    <tr>\n",
       "      <th>1</th>\n",
       "      <td>22148</td>\n",
       "      <td>188</td>\n",
       "    </tr>\n",
       "    <tr>\n",
       "      <th>2</th>\n",
       "      <td>20558</td>\n",
       "      <td>231</td>\n",
       "    </tr>\n",
       "    <tr>\n",
       "      <th>3</th>\n",
       "      <td>25526</td>\n",
       "      <td>195</td>\n",
       "    </tr>\n",
       "    <tr>\n",
       "      <th>4</th>\n",
       "      <td>23395</td>\n",
       "      <td>255</td>\n",
       "    </tr>\n",
       "    <tr>\n",
       "      <th>5</th>\n",
       "      <td>14622</td>\n",
       "      <td>140</td>\n",
       "    </tr>\n",
       "    <tr>\n",
       "      <th>6</th>\n",
       "      <td>14431</td>\n",
       "      <td>131</td>\n",
       "    </tr>\n",
       "    <tr>\n",
       "      <th>7</th>\n",
       "      <td>22476</td>\n",
       "      <td>214</td>\n",
       "    </tr>\n",
       "    <tr>\n",
       "      <th>8</th>\n",
       "      <td>33767</td>\n",
       "      <td>337</td>\n",
       "    </tr>\n",
       "    <tr>\n",
       "      <th>9</th>\n",
       "      <td>18508</td>\n",
       "      <td>185</td>\n",
       "    </tr>\n",
       "    <tr>\n",
       "      <th>10</th>\n",
       "      <td>23024</td>\n",
       "      <td>193</td>\n",
       "    </tr>\n",
       "    <tr>\n",
       "      <th>11</th>\n",
       "      <td>39363</td>\n",
       "      <td>429</td>\n",
       "    </tr>\n",
       "    <tr>\n",
       "      <th>12</th>\n",
       "      <td>18669</td>\n",
       "      <td>175</td>\n",
       "    </tr>\n",
       "    <tr>\n",
       "      <th>13</th>\n",
       "      <td>17924</td>\n",
       "      <td>180</td>\n",
       "    </tr>\n",
       "    <tr>\n",
       "      <th>14</th>\n",
       "      <td>17385</td>\n",
       "      <td>181</td>\n",
       "    </tr>\n",
       "    <tr>\n",
       "      <th>15</th>\n",
       "      <td>15353</td>\n",
       "      <td>172</td>\n",
       "    </tr>\n",
       "    <tr>\n",
       "      <th>16</th>\n",
       "      <td>13879</td>\n",
       "      <td>155</td>\n",
       "    </tr>\n",
       "    <tr>\n",
       "      <th>17</th>\n",
       "      <td>17432</td>\n",
       "      <td>144</td>\n",
       "    </tr>\n",
       "    <tr>\n",
       "      <th>18</th>\n",
       "      <td>17338</td>\n",
       "      <td>121</td>\n",
       "    </tr>\n",
       "    <tr>\n",
       "      <th>19</th>\n",
       "      <td>14252</td>\n",
       "      <td>145</td>\n",
       "    </tr>\n",
       "    <tr>\n",
       "      <th>20</th>\n",
       "      <td>23545</td>\n",
       "      <td>269</td>\n",
       "    </tr>\n",
       "    <tr>\n",
       "      <th>21</th>\n",
       "      <td>13708</td>\n",
       "      <td>120</td>\n",
       "    </tr>\n",
       "    <tr>\n",
       "      <th>22</th>\n",
       "      <td>23015</td>\n",
       "      <td>247</td>\n",
       "    </tr>\n",
       "    <tr>\n",
       "      <th>23</th>\n",
       "      <td>24239</td>\n",
       "      <td>182</td>\n",
       "    </tr>\n",
       "    <tr>\n",
       "      <th>24</th>\n",
       "      <td>13526</td>\n",
       "      <td>91</td>\n",
       "    </tr>\n",
       "    <tr>\n",
       "      <th>25</th>\n",
       "      <td>21739</td>\n",
       "      <td>150</td>\n",
       "    </tr>\n",
       "    <tr>\n",
       "      <th>26</th>\n",
       "      <td>15754</td>\n",
       "      <td>109</td>\n",
       "    </tr>\n",
       "    <tr>\n",
       "      <th>27</th>\n",
       "      <td>30992</td>\n",
       "      <td>271</td>\n",
       "    </tr>\n",
       "    <tr>\n",
       "      <th>28</th>\n",
       "      <td>26254</td>\n",
       "      <td>233</td>\n",
       "    </tr>\n",
       "    <tr>\n",
       "      <th>29</th>\n",
       "      <td>24137</td>\n",
       "      <td>218</td>\n",
       "    </tr>\n",
       "    <tr>\n",
       "      <th>30</th>\n",
       "      <td>20723</td>\n",
       "      <td>178</td>\n",
       "    </tr>\n",
       "    <tr>\n",
       "      <th>31</th>\n",
       "      <td>23158</td>\n",
       "      <td>224</td>\n",
       "    </tr>\n",
       "    <tr>\n",
       "      <th>32</th>\n",
       "      <td>25777</td>\n",
       "      <td>232</td>\n",
       "    </tr>\n",
       "    <tr>\n",
       "      <th>33</th>\n",
       "      <td>32496</td>\n",
       "      <td>257</td>\n",
       "    </tr>\n",
       "    <tr>\n",
       "      <th>34</th>\n",
       "      <td>21310</td>\n",
       "      <td>201</td>\n",
       "    </tr>\n",
       "    <tr>\n",
       "      <th>35</th>\n",
       "      <td>11441</td>\n",
       "      <td>100</td>\n",
       "    </tr>\n",
       "    <tr>\n",
       "      <th>36</th>\n",
       "      <td>23524</td>\n",
       "      <td>157</td>\n",
       "    </tr>\n",
       "    <tr>\n",
       "      <th>37</th>\n",
       "      <td>26091</td>\n",
       "      <td>206</td>\n",
       "    </tr>\n",
       "    <tr>\n",
       "      <th>38</th>\n",
       "      <td>27473</td>\n",
       "      <td>263</td>\n",
       "    </tr>\n",
       "    <tr>\n",
       "      <th>39</th>\n",
       "      <td>11368</td>\n",
       "      <td>61</td>\n",
       "    </tr>\n",
       "    <tr>\n",
       "      <th>40</th>\n",
       "      <td>26464</td>\n",
       "      <td>187</td>\n",
       "    </tr>\n",
       "    <tr>\n",
       "      <th>41</th>\n",
       "      <td>16753</td>\n",
       "      <td>118</td>\n",
       "    </tr>\n",
       "    <tr>\n",
       "      <th>42</th>\n",
       "      <td>33202</td>\n",
       "      <td>305</td>\n",
       "    </tr>\n",
       "    <tr>\n",
       "      <th>43</th>\n",
       "      <td>10289</td>\n",
       "      <td>95</td>\n",
       "    </tr>\n",
       "    <tr>\n",
       "      <th>44</th>\n",
       "      <td>12558</td>\n",
       "      <td>96</td>\n",
       "    </tr>\n",
       "    <tr>\n",
       "      <th>45</th>\n",
       "      <td>27094</td>\n",
       "      <td>234</td>\n",
       "    </tr>\n",
       "    <tr>\n",
       "      <th>46</th>\n",
       "      <td>40935</td>\n",
       "      <td>392</td>\n",
       "    </tr>\n",
       "  </tbody>\n",
       "</table>\n",
       "</div>"
      ],
      "text/plain": [
       "    Characters  Periods\n",
       "0        21759      189\n",
       "1        22148      188\n",
       "2        20558      231\n",
       "3        25526      195\n",
       "4        23395      255\n",
       "5        14622      140\n",
       "6        14431      131\n",
       "7        22476      214\n",
       "8        33767      337\n",
       "9        18508      185\n",
       "10       23024      193\n",
       "11       39363      429\n",
       "12       18669      175\n",
       "13       17924      180\n",
       "14       17385      181\n",
       "15       15353      172\n",
       "16       13879      155\n",
       "17       17432      144\n",
       "18       17338      121\n",
       "19       14252      145\n",
       "20       23545      269\n",
       "21       13708      120\n",
       "22       23015      247\n",
       "23       24239      182\n",
       "24       13526       91\n",
       "25       21739      150\n",
       "26       15754      109\n",
       "27       30992      271\n",
       "28       26254      233\n",
       "29       24137      218\n",
       "30       20723      178\n",
       "31       23158      224\n",
       "32       25777      232\n",
       "33       32496      257\n",
       "34       21310      201\n",
       "35       11441      100\n",
       "36       23524      157\n",
       "37       26091      206\n",
       "38       27473      263\n",
       "39       11368       61\n",
       "40       26464      187\n",
       "41       16753      118\n",
       "42       33202      305\n",
       "43       10289       95\n",
       "44       12558       96\n",
       "45       27094      234\n",
       "46       40935      392"
      ]
     },
     "execution_count": 4,
     "metadata": {},
     "output_type": "execute_result"
    }
   ],
   "source": [
    "little_women=pd.read_csv('little_women.csv')\n",
    "little_women"
   ]
  },
  {
   "cell_type": "code",
   "execution_count": 5,
   "metadata": {},
   "outputs": [
    {
     "data": {
      "text/html": [
       "<div>\n",
       "<style scoped>\n",
       "    .dataframe tbody tr th:only-of-type {\n",
       "        vertical-align: middle;\n",
       "    }\n",
       "\n",
       "    .dataframe tbody tr th {\n",
       "        vertical-align: top;\n",
       "    }\n",
       "\n",
       "    .dataframe thead th {\n",
       "        text-align: right;\n",
       "    }\n",
       "</style>\n",
       "<table border=\"1\" class=\"dataframe\">\n",
       "  <thead>\n",
       "    <tr style=\"text-align: right;\">\n",
       "      <th></th>\n",
       "      <th>Characters</th>\n",
       "    </tr>\n",
       "    <tr>\n",
       "      <th>Periods</th>\n",
       "      <th></th>\n",
       "    </tr>\n",
       "  </thead>\n",
       "  <tbody>\n",
       "    <tr>\n",
       "      <th>189</th>\n",
       "      <td>21759</td>\n",
       "    </tr>\n",
       "    <tr>\n",
       "      <th>188</th>\n",
       "      <td>22148</td>\n",
       "    </tr>\n",
       "    <tr>\n",
       "      <th>231</th>\n",
       "      <td>20558</td>\n",
       "    </tr>\n",
       "    <tr>\n",
       "      <th>195</th>\n",
       "      <td>25526</td>\n",
       "    </tr>\n",
       "    <tr>\n",
       "      <th>255</th>\n",
       "      <td>23395</td>\n",
       "    </tr>\n",
       "    <tr>\n",
       "      <th>140</th>\n",
       "      <td>14622</td>\n",
       "    </tr>\n",
       "    <tr>\n",
       "      <th>131</th>\n",
       "      <td>14431</td>\n",
       "    </tr>\n",
       "    <tr>\n",
       "      <th>214</th>\n",
       "      <td>22476</td>\n",
       "    </tr>\n",
       "    <tr>\n",
       "      <th>337</th>\n",
       "      <td>33767</td>\n",
       "    </tr>\n",
       "    <tr>\n",
       "      <th>185</th>\n",
       "      <td>18508</td>\n",
       "    </tr>\n",
       "    <tr>\n",
       "      <th>193</th>\n",
       "      <td>23024</td>\n",
       "    </tr>\n",
       "    <tr>\n",
       "      <th>429</th>\n",
       "      <td>39363</td>\n",
       "    </tr>\n",
       "    <tr>\n",
       "      <th>175</th>\n",
       "      <td>18669</td>\n",
       "    </tr>\n",
       "    <tr>\n",
       "      <th>180</th>\n",
       "      <td>17924</td>\n",
       "    </tr>\n",
       "    <tr>\n",
       "      <th>181</th>\n",
       "      <td>17385</td>\n",
       "    </tr>\n",
       "    <tr>\n",
       "      <th>172</th>\n",
       "      <td>15353</td>\n",
       "    </tr>\n",
       "    <tr>\n",
       "      <th>155</th>\n",
       "      <td>13879</td>\n",
       "    </tr>\n",
       "    <tr>\n",
       "      <th>144</th>\n",
       "      <td>17432</td>\n",
       "    </tr>\n",
       "    <tr>\n",
       "      <th>121</th>\n",
       "      <td>17338</td>\n",
       "    </tr>\n",
       "    <tr>\n",
       "      <th>145</th>\n",
       "      <td>14252</td>\n",
       "    </tr>\n",
       "    <tr>\n",
       "      <th>269</th>\n",
       "      <td>23545</td>\n",
       "    </tr>\n",
       "    <tr>\n",
       "      <th>120</th>\n",
       "      <td>13708</td>\n",
       "    </tr>\n",
       "    <tr>\n",
       "      <th>247</th>\n",
       "      <td>23015</td>\n",
       "    </tr>\n",
       "    <tr>\n",
       "      <th>182</th>\n",
       "      <td>24239</td>\n",
       "    </tr>\n",
       "    <tr>\n",
       "      <th>91</th>\n",
       "      <td>13526</td>\n",
       "    </tr>\n",
       "    <tr>\n",
       "      <th>150</th>\n",
       "      <td>21739</td>\n",
       "    </tr>\n",
       "    <tr>\n",
       "      <th>109</th>\n",
       "      <td>15754</td>\n",
       "    </tr>\n",
       "    <tr>\n",
       "      <th>271</th>\n",
       "      <td>30992</td>\n",
       "    </tr>\n",
       "    <tr>\n",
       "      <th>233</th>\n",
       "      <td>26254</td>\n",
       "    </tr>\n",
       "    <tr>\n",
       "      <th>218</th>\n",
       "      <td>24137</td>\n",
       "    </tr>\n",
       "    <tr>\n",
       "      <th>178</th>\n",
       "      <td>20723</td>\n",
       "    </tr>\n",
       "    <tr>\n",
       "      <th>224</th>\n",
       "      <td>23158</td>\n",
       "    </tr>\n",
       "    <tr>\n",
       "      <th>232</th>\n",
       "      <td>25777</td>\n",
       "    </tr>\n",
       "    <tr>\n",
       "      <th>257</th>\n",
       "      <td>32496</td>\n",
       "    </tr>\n",
       "    <tr>\n",
       "      <th>201</th>\n",
       "      <td>21310</td>\n",
       "    </tr>\n",
       "    <tr>\n",
       "      <th>100</th>\n",
       "      <td>11441</td>\n",
       "    </tr>\n",
       "    <tr>\n",
       "      <th>157</th>\n",
       "      <td>23524</td>\n",
       "    </tr>\n",
       "    <tr>\n",
       "      <th>206</th>\n",
       "      <td>26091</td>\n",
       "    </tr>\n",
       "    <tr>\n",
       "      <th>263</th>\n",
       "      <td>27473</td>\n",
       "    </tr>\n",
       "    <tr>\n",
       "      <th>61</th>\n",
       "      <td>11368</td>\n",
       "    </tr>\n",
       "    <tr>\n",
       "      <th>187</th>\n",
       "      <td>26464</td>\n",
       "    </tr>\n",
       "    <tr>\n",
       "      <th>118</th>\n",
       "      <td>16753</td>\n",
       "    </tr>\n",
       "    <tr>\n",
       "      <th>305</th>\n",
       "      <td>33202</td>\n",
       "    </tr>\n",
       "    <tr>\n",
       "      <th>95</th>\n",
       "      <td>10289</td>\n",
       "    </tr>\n",
       "    <tr>\n",
       "      <th>96</th>\n",
       "      <td>12558</td>\n",
       "    </tr>\n",
       "    <tr>\n",
       "      <th>234</th>\n",
       "      <td>27094</td>\n",
       "    </tr>\n",
       "    <tr>\n",
       "      <th>392</th>\n",
       "      <td>40935</td>\n",
       "    </tr>\n",
       "  </tbody>\n",
       "</table>\n",
       "</div>"
      ],
      "text/plain": [
       "         Characters\n",
       "Periods            \n",
       "189           21759\n",
       "188           22148\n",
       "231           20558\n",
       "195           25526\n",
       "255           23395\n",
       "140           14622\n",
       "131           14431\n",
       "214           22476\n",
       "337           33767\n",
       "185           18508\n",
       "193           23024\n",
       "429           39363\n",
       "175           18669\n",
       "180           17924\n",
       "181           17385\n",
       "172           15353\n",
       "155           13879\n",
       "144           17432\n",
       "121           17338\n",
       "145           14252\n",
       "269           23545\n",
       "120           13708\n",
       "247           23015\n",
       "182           24239\n",
       "91            13526\n",
       "150           21739\n",
       "109           15754\n",
       "271           30992\n",
       "233           26254\n",
       "218           24137\n",
       "178           20723\n",
       "224           23158\n",
       "232           25777\n",
       "257           32496\n",
       "201           21310\n",
       "100           11441\n",
       "157           23524\n",
       "206           26091\n",
       "263           27473\n",
       "61            11368\n",
       "187           26464\n",
       "118           16753\n",
       "305           33202\n",
       "95            10289\n",
       "96            12558\n",
       "234           27094\n",
       "392           40935"
      ]
     },
     "execution_count": 5,
     "metadata": {},
     "output_type": "execute_result"
    }
   ],
   "source": [
    "little_womens = little_women.set_index('Periods')\n",
    "little_womens"
   ]
  },
  {
   "cell_type": "code",
   "execution_count": 6,
   "metadata": {},
   "outputs": [
    {
     "data": {
      "text/html": [
       "<div>\n",
       "<style scoped>\n",
       "    .dataframe tbody tr th:only-of-type {\n",
       "        vertical-align: middle;\n",
       "    }\n",
       "\n",
       "    .dataframe tbody tr th {\n",
       "        vertical-align: top;\n",
       "    }\n",
       "\n",
       "    .dataframe thead th {\n",
       "        text-align: right;\n",
       "    }\n",
       "</style>\n",
       "<table border=\"1\" class=\"dataframe\">\n",
       "  <thead>\n",
       "    <tr style=\"text-align: right;\">\n",
       "      <th></th>\n",
       "      <th>Characters</th>\n",
       "      <th>Periods</th>\n",
       "    </tr>\n",
       "  </thead>\n",
       "  <tbody>\n",
       "    <tr>\n",
       "      <th>0</th>\n",
       "      <td>21759</td>\n",
       "      <td>189</td>\n",
       "    </tr>\n",
       "    <tr>\n",
       "      <th>1</th>\n",
       "      <td>22148</td>\n",
       "      <td>188</td>\n",
       "    </tr>\n",
       "    <tr>\n",
       "      <th>2</th>\n",
       "      <td>20558</td>\n",
       "      <td>231</td>\n",
       "    </tr>\n",
       "  </tbody>\n",
       "</table>\n",
       "</div>"
      ],
      "text/plain": [
       "   Characters  Periods\n",
       "0       21759      189\n",
       "1       22148      188\n",
       "2       20558      231"
      ]
     },
     "execution_count": 6,
     "metadata": {},
     "output_type": "execute_result"
    }
   ],
   "source": [
    "\n",
    "little_women.head(3)"
   ]
  },
  {
   "cell_type": "code",
   "execution_count": 7,
   "metadata": {},
   "outputs": [
    {
     "data": {
      "text/plain": [
       "<matplotlib.axes._subplots.AxesSubplot at 0x23155c4c4f0>"
      ]
     },
     "execution_count": 7,
     "metadata": {},
     "output_type": "execute_result"
    },
    {
     "data": {
      "image/png": "[encoded data removed]",
      "text/plain": [
       "<Figure size 432x288 with 1 Axes>"
      ]
     },
     "metadata": {},
     "output_type": "display_data"
    }
   ],
   "source": [
    "little_women.plot.scatter('Periods', 'Characters')\n"
   ]
  },
  {
   "cell_type": "markdown",
   "metadata": {},
   "source": [
    "To explore the data, we will need to use the functions correlation , slope , intercept ,\n",
    "and fit defined in the previous section."
   ]
  },
  {
   "cell_type": "code",
   "execution_count": 8,
   "metadata": {},
   "outputs": [
    {
     "data": {
      "text/plain": [
       "0.9229576895854817"
      ]
     },
     "execution_count": 8,
     "metadata": {},
     "output_type": "execute_result"
    }
   ],
   "source": [
    "correlation(little_women, 'Periods', 'Characters')"
   ]
  },
  {
   "cell_type": "markdown",
   "metadata": {},
   "source": [
    "The scatter plot is remarkably close to linear, and the correlation is more than 0.92.\n"
   ]
  },
  {
   "cell_type": "markdown",
   "metadata": {},
   "source": [
    "## Error in Estimation¶\n",
    "The graph below shows the scatter plot and line that we developed in the previous section.\n",
    "We don't yet know if that's the best among all lines. We first have to say precisely what\n",
    "\"best\" means."
   ]
  },
  {
   "cell_type": "code",
   "execution_count": 9,
   "metadata": {},
   "outputs": [],
   "source": [
    "def fit(table, x, y):\n",
    "    a = slope(table, x, y)\n",
    "    b = intercept(table, x, y)\n",
    "    return a * table[x] + b\n"
   ]
  },
  {
   "cell_type": "code",
   "execution_count": 10,
   "metadata": {},
   "outputs": [
    {
     "data": {
      "text/plain": [
       "<matplotlib.legend.Legend at 0x23156437fd0>"
      ]
     },
     "execution_count": 10,
     "metadata": {},
     "output_type": "execute_result"
    },
    {
     "data": {
      "image/png": "[encoded data removed]",
      "text/plain": [
       "<Figure size 432x288 with 1 Axes>"
      ]
     },
     "metadata": {},
     "output_type": "display_data"
    }
   ],
   "source": [
    "lw_with_predictions=little_women.copy()\n",
    "lw_with_predictions['Linear Prediction']=fit(little_women, 'Periods', 'Characters')\n",
    "lw_with_predictions.plot.scatter('Periods', 'Characters')\n",
    "plt.scatter(lw_with_predictions['Periods'],lw_with_predictions['Linear Prediction'],color='red')\n",
    "red_patch = mpatches.Patch(color='red', label='Linear Prediction')\n",
    "blue_patch = mpatches.Patch(color='blue', label='Characters')\n",
    "plt.legend(handles=[blue_patch,red_patch ])"
   ]
  },
  {
   "cell_type": "markdown",
   "metadata": {},
   "source": [
    "Corresponding to each point on the scatter plot, there is an error of prediction calculated as\n",
    "the actual value minus the predicted value. It is the vertical distance between the point and\n",
    "the line, with a negative sign if the point is below the line."
   ]
  },
  {
   "cell_type": "code",
   "execution_count": 11,
   "metadata": {},
   "outputs": [],
   "source": [
    "actual = lw_with_predictions['Characters']\n",
    "predicted = lw_with_predictions['Linear Prediction']\n",
    "errors = actual - predicted"
   ]
  },
  {
   "cell_type": "code",
   "execution_count": 12,
   "metadata": {},
   "outputs": [
    {
     "data": {
      "text/html": [
       "<div>\n",
       "<style scoped>\n",
       "    .dataframe tbody tr th:only-of-type {\n",
       "        vertical-align: middle;\n",
       "    }\n",
       "\n",
       "    .dataframe tbody tr th {\n",
       "        vertical-align: top;\n",
       "    }\n",
       "\n",
       "    .dataframe thead th {\n",
       "        text-align: right;\n",
       "    }\n",
       "</style>\n",
       "<table border=\"1\" class=\"dataframe\">\n",
       "  <thead>\n",
       "    <tr style=\"text-align: right;\">\n",
       "      <th></th>\n",
       "      <th>Characters</th>\n",
       "      <th>Periods</th>\n",
       "      <th>Linear Prediction</th>\n",
       "      <th>Error</th>\n",
       "    </tr>\n",
       "  </thead>\n",
       "  <tbody>\n",
       "    <tr>\n",
       "      <th>0</th>\n",
       "      <td>21759</td>\n",
       "      <td>189</td>\n",
       "      <td>21183.596794</td>\n",
       "      <td>575.403206</td>\n",
       "    </tr>\n",
       "    <tr>\n",
       "      <th>1</th>\n",
       "      <td>22148</td>\n",
       "      <td>188</td>\n",
       "      <td>21096.618953</td>\n",
       "      <td>1051.381047</td>\n",
       "    </tr>\n",
       "    <tr>\n",
       "      <th>2</th>\n",
       "      <td>20558</td>\n",
       "      <td>231</td>\n",
       "      <td>24836.666127</td>\n",
       "      <td>-4278.666127</td>\n",
       "    </tr>\n",
       "    <tr>\n",
       "      <th>3</th>\n",
       "      <td>25526</td>\n",
       "      <td>195</td>\n",
       "      <td>21705.463842</td>\n",
       "      <td>3820.536158</td>\n",
       "    </tr>\n",
       "    <tr>\n",
       "      <th>4</th>\n",
       "      <td>23395</td>\n",
       "      <td>255</td>\n",
       "      <td>26924.134317</td>\n",
       "      <td>-3529.134317</td>\n",
       "    </tr>\n",
       "    <tr>\n",
       "      <th>5</th>\n",
       "      <td>14622</td>\n",
       "      <td>140</td>\n",
       "      <td>16921.682573</td>\n",
       "      <td>-2299.682573</td>\n",
       "    </tr>\n",
       "    <tr>\n",
       "      <th>6</th>\n",
       "      <td>14431</td>\n",
       "      <td>131</td>\n",
       "      <td>16138.882001</td>\n",
       "      <td>-1707.882001</td>\n",
       "    </tr>\n",
       "    <tr>\n",
       "      <th>7</th>\n",
       "      <td>22476</td>\n",
       "      <td>214</td>\n",
       "      <td>23358.042826</td>\n",
       "      <td>-882.042826</td>\n",
       "    </tr>\n",
       "    <tr>\n",
       "      <th>8</th>\n",
       "      <td>33767</td>\n",
       "      <td>337</td>\n",
       "      <td>34056.317301</td>\n",
       "      <td>-289.317301</td>\n",
       "    </tr>\n",
       "    <tr>\n",
       "      <th>9</th>\n",
       "      <td>18508</td>\n",
       "      <td>185</td>\n",
       "      <td>20835.685429</td>\n",
       "      <td>-2327.685429</td>\n",
       "    </tr>\n",
       "    <tr>\n",
       "      <th>10</th>\n",
       "      <td>23024</td>\n",
       "      <td>193</td>\n",
       "      <td>21531.508159</td>\n",
       "      <td>1492.491841</td>\n",
       "    </tr>\n",
       "    <tr>\n",
       "      <th>11</th>\n",
       "      <td>39363</td>\n",
       "      <td>429</td>\n",
       "      <td>42058.278696</td>\n",
       "      <td>-2695.278696</td>\n",
       "    </tr>\n",
       "    <tr>\n",
       "      <th>12</th>\n",
       "      <td>18669</td>\n",
       "      <td>175</td>\n",
       "      <td>19965.907017</td>\n",
       "      <td>-1296.907017</td>\n",
       "    </tr>\n",
       "    <tr>\n",
       "      <th>13</th>\n",
       "      <td>17924</td>\n",
       "      <td>180</td>\n",
       "      <td>20400.796223</td>\n",
       "      <td>-2476.796223</td>\n",
       "    </tr>\n",
       "    <tr>\n",
       "      <th>14</th>\n",
       "      <td>17385</td>\n",
       "      <td>181</td>\n",
       "      <td>20487.774064</td>\n",
       "      <td>-3102.774064</td>\n",
       "    </tr>\n",
       "    <tr>\n",
       "      <th>15</th>\n",
       "      <td>15353</td>\n",
       "      <td>172</td>\n",
       "      <td>19704.973493</td>\n",
       "      <td>-4351.973493</td>\n",
       "    </tr>\n",
       "    <tr>\n",
       "      <th>16</th>\n",
       "      <td>13879</td>\n",
       "      <td>155</td>\n",
       "      <td>18226.350192</td>\n",
       "      <td>-4347.350192</td>\n",
       "    </tr>\n",
       "    <tr>\n",
       "      <th>17</th>\n",
       "      <td>17432</td>\n",
       "      <td>144</td>\n",
       "      <td>17269.593938</td>\n",
       "      <td>162.406062</td>\n",
       "    </tr>\n",
       "    <tr>\n",
       "      <th>18</th>\n",
       "      <td>17338</td>\n",
       "      <td>121</td>\n",
       "      <td>15269.103589</td>\n",
       "      <td>2068.896411</td>\n",
       "    </tr>\n",
       "    <tr>\n",
       "      <th>19</th>\n",
       "      <td>14252</td>\n",
       "      <td>145</td>\n",
       "      <td>17356.571779</td>\n",
       "      <td>-3104.571779</td>\n",
       "    </tr>\n",
       "    <tr>\n",
       "      <th>20</th>\n",
       "      <td>23545</td>\n",
       "      <td>269</td>\n",
       "      <td>28141.824095</td>\n",
       "      <td>-4596.824095</td>\n",
       "    </tr>\n",
       "    <tr>\n",
       "      <th>21</th>\n",
       "      <td>13708</td>\n",
       "      <td>120</td>\n",
       "      <td>15182.125748</td>\n",
       "      <td>-1474.125748</td>\n",
       "    </tr>\n",
       "    <tr>\n",
       "      <th>22</th>\n",
       "      <td>23015</td>\n",
       "      <td>247</td>\n",
       "      <td>26228.311587</td>\n",
       "      <td>-3213.311587</td>\n",
       "    </tr>\n",
       "    <tr>\n",
       "      <th>23</th>\n",
       "      <td>24239</td>\n",
       "      <td>182</td>\n",
       "      <td>20574.751906</td>\n",
       "      <td>3664.248094</td>\n",
       "    </tr>\n",
       "    <tr>\n",
       "      <th>24</th>\n",
       "      <td>13526</td>\n",
       "      <td>91</td>\n",
       "      <td>12659.768351</td>\n",
       "      <td>866.231649</td>\n",
       "    </tr>\n",
       "    <tr>\n",
       "      <th>25</th>\n",
       "      <td>21739</td>\n",
       "      <td>150</td>\n",
       "      <td>17791.460985</td>\n",
       "      <td>3947.539015</td>\n",
       "    </tr>\n",
       "    <tr>\n",
       "      <th>26</th>\n",
       "      <td>15754</td>\n",
       "      <td>109</td>\n",
       "      <td>14225.369494</td>\n",
       "      <td>1528.630506</td>\n",
       "    </tr>\n",
       "    <tr>\n",
       "      <th>27</th>\n",
       "      <td>30992</td>\n",
       "      <td>271</td>\n",
       "      <td>28315.779778</td>\n",
       "      <td>2676.220222</td>\n",
       "    </tr>\n",
       "    <tr>\n",
       "      <th>28</th>\n",
       "      <td>26254</td>\n",
       "      <td>233</td>\n",
       "      <td>25010.621810</td>\n",
       "      <td>1243.378190</td>\n",
       "    </tr>\n",
       "    <tr>\n",
       "      <th>29</th>\n",
       "      <td>24137</td>\n",
       "      <td>218</td>\n",
       "      <td>23705.954191</td>\n",
       "      <td>431.045809</td>\n",
       "    </tr>\n",
       "    <tr>\n",
       "      <th>30</th>\n",
       "      <td>20723</td>\n",
       "      <td>178</td>\n",
       "      <td>20226.840541</td>\n",
       "      <td>496.159459</td>\n",
       "    </tr>\n",
       "    <tr>\n",
       "      <th>31</th>\n",
       "      <td>23158</td>\n",
       "      <td>224</td>\n",
       "      <td>24227.821238</td>\n",
       "      <td>-1069.821238</td>\n",
       "    </tr>\n",
       "    <tr>\n",
       "      <th>32</th>\n",
       "      <td>25777</td>\n",
       "      <td>232</td>\n",
       "      <td>24923.643969</td>\n",
       "      <td>853.356031</td>\n",
       "    </tr>\n",
       "    <tr>\n",
       "      <th>33</th>\n",
       "      <td>32496</td>\n",
       "      <td>257</td>\n",
       "      <td>27098.090000</td>\n",
       "      <td>5397.910000</td>\n",
       "    </tr>\n",
       "    <tr>\n",
       "      <th>34</th>\n",
       "      <td>21310</td>\n",
       "      <td>201</td>\n",
       "      <td>22227.330889</td>\n",
       "      <td>-917.330889</td>\n",
       "    </tr>\n",
       "    <tr>\n",
       "      <th>35</th>\n",
       "      <td>11441</td>\n",
       "      <td>100</td>\n",
       "      <td>13442.568922</td>\n",
       "      <td>-2001.568922</td>\n",
       "    </tr>\n",
       "    <tr>\n",
       "      <th>36</th>\n",
       "      <td>23524</td>\n",
       "      <td>157</td>\n",
       "      <td>18400.305874</td>\n",
       "      <td>5123.694126</td>\n",
       "    </tr>\n",
       "    <tr>\n",
       "      <th>37</th>\n",
       "      <td>26091</td>\n",
       "      <td>206</td>\n",
       "      <td>22662.220096</td>\n",
       "      <td>3428.779904</td>\n",
       "    </tr>\n",
       "    <tr>\n",
       "      <th>38</th>\n",
       "      <td>27473</td>\n",
       "      <td>263</td>\n",
       "      <td>27619.957048</td>\n",
       "      <td>-146.957048</td>\n",
       "    </tr>\n",
       "    <tr>\n",
       "      <th>39</th>\n",
       "      <td>11368</td>\n",
       "      <td>61</td>\n",
       "      <td>10050.433113</td>\n",
       "      <td>1317.566887</td>\n",
       "    </tr>\n",
       "    <tr>\n",
       "      <th>40</th>\n",
       "      <td>26464</td>\n",
       "      <td>187</td>\n",
       "      <td>21009.641112</td>\n",
       "      <td>5454.358888</td>\n",
       "    </tr>\n",
       "    <tr>\n",
       "      <th>41</th>\n",
       "      <td>16753</td>\n",
       "      <td>118</td>\n",
       "      <td>15008.170065</td>\n",
       "      <td>1744.829935</td>\n",
       "    </tr>\n",
       "    <tr>\n",
       "      <th>42</th>\n",
       "      <td>33202</td>\n",
       "      <td>305</td>\n",
       "      <td>31273.026380</td>\n",
       "      <td>1928.973620</td>\n",
       "    </tr>\n",
       "    <tr>\n",
       "      <th>43</th>\n",
       "      <td>10289</td>\n",
       "      <td>95</td>\n",
       "      <td>13007.679716</td>\n",
       "      <td>-2718.679716</td>\n",
       "    </tr>\n",
       "    <tr>\n",
       "      <th>44</th>\n",
       "      <td>12558</td>\n",
       "      <td>96</td>\n",
       "      <td>13094.657557</td>\n",
       "      <td>-536.657557</td>\n",
       "    </tr>\n",
       "    <tr>\n",
       "      <th>45</th>\n",
       "      <td>27094</td>\n",
       "      <td>234</td>\n",
       "      <td>25097.599651</td>\n",
       "      <td>1996.400349</td>\n",
       "    </tr>\n",
       "    <tr>\n",
       "      <th>46</th>\n",
       "      <td>40935</td>\n",
       "      <td>392</td>\n",
       "      <td>38840.098570</td>\n",
       "      <td>2094.901430</td>\n",
       "    </tr>\n",
       "  </tbody>\n",
       "</table>\n",
       "</div>"
      ],
      "text/plain": [
       "    Characters  Periods  Linear Prediction        Error\n",
       "0        21759      189       21183.596794   575.403206\n",
       "1        22148      188       21096.618953  1051.381047\n",
       "2        20558      231       24836.666127 -4278.666127\n",
       "3        25526      195       21705.463842  3820.536158\n",
       "4        23395      255       26924.134317 -3529.134317\n",
       "5        14622      140       16921.682573 -2299.682573\n",
       "6        14431      131       16138.882001 -1707.882001\n",
       "7        22476      214       23358.042826  -882.042826\n",
       "8        33767      337       34056.317301  -289.317301\n",
       "9        18508      185       20835.685429 -2327.685429\n",
       "10       23024      193       21531.508159  1492.491841\n",
       "11       39363      429       42058.278696 -2695.278696\n",
       "12       18669      175       19965.907017 -1296.907017\n",
       "13       17924      180       20400.796223 -2476.796223\n",
       "14       17385      181       20487.774064 -3102.774064\n",
       "15       15353      172       19704.973493 -4351.973493\n",
       "16       13879      155       18226.350192 -4347.350192\n",
       "17       17432      144       17269.593938   162.406062\n",
       "18       17338      121       15269.103589  2068.896411\n",
       "19       14252      145       17356.571779 -3104.571779\n",
       "20       23545      269       28141.824095 -4596.824095\n",
       "21       13708      120       15182.125748 -1474.125748\n",
       "22       23015      247       26228.311587 -3213.311587\n",
       "23       24239      182       20574.751906  3664.248094\n",
       "24       13526       91       12659.768351   866.231649\n",
       "25       21739      150       17791.460985  3947.539015\n",
       "26       15754      109       14225.369494  1528.630506\n",
       "27       30992      271       28315.779778  2676.220222\n",
       "28       26254      233       25010.621810  1243.378190\n",
       "29       24137      218       23705.954191   431.045809\n",
       "30       20723      178       20226.840541   496.159459\n",
       "31       23158      224       24227.821238 -1069.821238\n",
       "32       25777      232       24923.643969   853.356031\n",
       "33       32496      257       27098.090000  5397.910000\n",
       "34       21310      201       22227.330889  -917.330889\n",
       "35       11441      100       13442.568922 -2001.568922\n",
       "36       23524      157       18400.305874  5123.694126\n",
       "37       26091      206       22662.220096  3428.779904\n",
       "38       27473      263       27619.957048  -146.957048\n",
       "39       11368       61       10050.433113  1317.566887\n",
       "40       26464      187       21009.641112  5454.358888\n",
       "41       16753      118       15008.170065  1744.829935\n",
       "42       33202      305       31273.026380  1928.973620\n",
       "43       10289       95       13007.679716 -2718.679716\n",
       "44       12558       96       13094.657557  -536.657557\n",
       "45       27094      234       25097.599651  1996.400349\n",
       "46       40935      392       38840.098570  2094.901430"
      ]
     },
     "execution_count": 12,
     "metadata": {},
     "output_type": "execute_result"
    }
   ],
   "source": [
    "lw_with_predictions['Error']= errors\n",
    "lw_with_predictions"
   ]
  },
  {
   "cell_type": "markdown",
   "metadata": {},
   "source": [
    "We can use slope and intercept to calculate the slope and intercept of the fitted line. The\n",
    "graph below shows the line (in light blue). The errors corresponding to four of the points are\n",
    "shown in red. There is nothing special about those four points. They were just chosen for\n",
    "clarity of the display. The function lw_errors takes a slope and an intercept (in that order)\n",
    "as its arguments and draws the figure"
   ]
  },
  {
   "cell_type": "code",
   "execution_count": 13,
   "metadata": {},
   "outputs": [],
   "source": [
    "lw_reg_slope = slope(little_women, 'Periods', 'Characters')\n",
    "lw_reg_intercept = intercept(little_women, 'Periods',\n",
    "'Characters')\n"
   ]
  },
  {
   "cell_type": "code",
   "execution_count": 14,
   "metadata": {},
   "outputs": [],
   "source": [
    "sample = [[131, 14431], [231, 20558], [392, 40935], [157, 23524]]\n",
    "def lw_errors(slope, intercept):\n",
    "    plt.scatter(little_women['Periods'], little_women['Characters'])\n",
    "    xlims = np.array([50, 450])\n",
    "    plt.plot(xlims, slope * xlims + intercept, lw=2)\n",
    "    for x, y in sample:\n",
    "        plt.plot([x, x], [y, slope * x + intercept], color='r', lw=2)"
   ]
  },
  {
   "cell_type": "code",
   "execution_count": 15,
   "metadata": {},
   "outputs": [
    {
     "name": "stdout",
     "output_type": "stream",
     "text": [
      "Slope of Regression Line:  87.0 characters per period\n",
      "Intercept of Regression Line: 4745.0 characters\n"
     ]
    },
    {
     "data": {
      "image/png": "[encoded data removed]",
      "text/plain": [
       "<Figure size 432x288 with 1 Axes>"
      ]
     },
     "metadata": {},
     "output_type": "display_data"
    }
   ],
   "source": [
    "print('Slope of Regression Line: ', np.round(lw_reg_slope),'characters per period')\n",
    "print('Intercept of Regression Line:',np.round(lw_reg_intercept), 'characters')\n",
    "lw_errors(lw_reg_slope, lw_reg_intercept)"
   ]
  },
  {
   "cell_type": "markdown",
   "metadata": {},
   "source": [
    "Had we used a different line to create our estimates, the errors would have been different.\n",
    "The graph below shows how big the errors would be if we were to use another line for\n",
    "estimation. The second graph shows large errors obtained by using a line that is downright"
   ]
  },
  {
   "cell_type": "code",
   "execution_count": 16,
   "metadata": {},
   "outputs": [
    {
     "data": {
      "image/png": "[encoded data removed]",
      "text/plain": [
       "<Figure size 432x288 with 1 Axes>"
      ]
     },
     "metadata": {},
     "output_type": "display_data"
    }
   ],
   "source": [
    " lw_errors(50, 10000)"
   ]
  },
  {
   "cell_type": "code",
   "execution_count": 17,
   "metadata": {},
   "outputs": [
    {
     "data": {
      "image/png": "[encoded data removed]",
      "text/plain": [
       "<Figure size 432x288 with 1 Axes>"
      ]
     },
     "metadata": {},
     "output_type": "display_data"
    }
   ],
   "source": [
    "lw_errors(-100, 50000)"
   ]
  },
  {
   "cell_type": "markdown",
   "metadata": {},
   "source": [
    "What we need now is one overall measure of the rough size of the errors. You will recognize\n",
    "the approach to creating this – it's exactly the way we developed the SD.\n",
    "If you use any arbitrary line to calculate your estimates, then some of your errors are likely to\n",
    "be positive and others negative. To avoid cancellation when measuring the rough size of the\n",
    "errors, we will take the mean of the sqaured errors rather than the mean of the errors\n",
    "themselves.\n",
    "The mean squared error of estimation is a measure of roughly how big the squared errors\n",
    "are, but as we have noted earlier, its units are hard to interpret. Taking the square root yields\n",
    "the root mean square error (rmse), which is in the same units as the variable being predicted\n",
    "and therefore much easier to understand"
   ]
  },
  {
   "cell_type": "markdown",
   "metadata": {},
   "source": [
    "Minimizing the Root Mean Squared Error¶\n",
    "Our observations so far can be summarized as follows.\n",
    "To get estimates of based on , you can use any line you want.\n",
    "Every line has a root mean squared error of estimation.\n",
    "\"Better\" lines have smaller errors.\n",
    "Is there a \"best\" line? That is, is there a line that minimizes the root mean squared error\n",
    "among all lines?\n",
    "To answer this question, we will start by defining a function lw_rmse to compute the root\n",
    "mean squared error of any line through the Little Women scatter diagram. The function takes\n",
    "the slope and the intercept (in that order) as its arguments."
   ]
  },
  {
   "cell_type": "code",
   "execution_count": 18,
   "metadata": {},
   "outputs": [],
   "source": [
    "def lw_rmse(slope, intercept):\n",
    "    lw_errors(slope, intercept)\n",
    "    x = little_women['Periods']\n",
    "    y = little_women['Characters']\n",
    "    fitted = slope * x + intercept\n",
    "    mse = np.mean((y - fitted) ** 2)\n",
    "    print(\"Root mean squared error:\", mse ** 0.5)"
   ]
  },
  {
   "cell_type": "code",
   "execution_count": 19,
   "metadata": {},
   "outputs": [
    {
     "name": "stdout",
     "output_type": "stream",
     "text": [
      "Root mean squared error: 4322.167831766537\n"
     ]
    },
    {
     "data": {
      "image/png": "[encoded data removed]",
      "text/plain": [
       "<Figure size 432x288 with 1 Axes>"
      ]
     },
     "metadata": {},
     "output_type": "display_data"
    }
   ],
   "source": [
    " lw_rmse(50, 10000)"
   ]
  },
  {
   "cell_type": "code",
   "execution_count": 20,
   "metadata": {},
   "outputs": [
    {
     "name": "stdout",
     "output_type": "stream",
     "text": [
      "Root mean squared error: 16710.11983735375\n"
     ]
    },
    {
     "data": {
      "image/png": "[encoded data removed]",
      "text/plain": [
       "<Figure size 432x288 with 1 Axes>"
      ]
     },
     "metadata": {},
     "output_type": "display_data"
    }
   ],
   "source": [
    "lw_rmse(-100, 50000)"
   ]
  },
  {
   "cell_type": "markdown",
   "metadata": {},
   "source": [
    "Bad lines have big values of rmse, as expected. But the rmse is much smaller if we choose a slope and intercept close to those of the regression line."
   ]
  },
  {
   "cell_type": "code",
   "execution_count": 21,
   "metadata": {},
   "outputs": [
    {
     "name": "stdout",
     "output_type": "stream",
     "text": [
      "Root mean squared error: 2715.5391063834586\n"
     ]
    },
    {
     "data": {
      "image/png": "[encoded data removed]",
      "text/plain": [
       "<Figure size 432x288 with 1 Axes>"
      ]
     },
     "metadata": {},
     "output_type": "display_data"
    }
   ],
   "source": [
    "lw_rmse(90, 4000)"
   ]
  },
  {
   "cell_type": "markdown",
   "metadata": {},
   "source": [
    "Here is the root mean squared error corresponding to the regression line. By a remarkable fact of mathematics, no other line can beat this one.\n",
    "\n",
    "## The regression line is the unique straight line that minimizes the mean squared error of estimation among all straight lines."
   ]
  },
  {
   "cell_type": "code",
   "execution_count": 22,
   "metadata": {},
   "outputs": [
    {
     "name": "stdout",
     "output_type": "stream",
     "text": [
      "Root mean squared error: 2701.6907853118555\n"
     ]
    },
    {
     "data": {
      "image/png": "[encoded data removed]",
      "text/plain": [
       "<Figure size 432x288 with 1 Axes>"
      ]
     },
     "metadata": {},
     "output_type": "display_data"
    }
   ],
   "source": [
    "lw_rmse(lw_reg_slope, lw_reg_intercept)"
   ]
  },
  {
   "cell_type": "markdown",
   "metadata": {},
   "source": [
    "The proof of this statement requires abstract mathematics that is beyond the scope of this course. On the other hand, we do have a powerful tool – Python – that performs large numerical computations with ease. So we can use Python to confirm that the regression line minimizes the mean squared error.\n",
    "\n"
   ]
  },
  {
   "cell_type": "markdown",
   "metadata": {},
   "source": [
    "## Numerical Optimization \n",
    "First note that a line that minimizes the root mean squared error is also a line that minimizes the squared error. The square root makes no difference to the minimization. So we will save ourselves a step of computation and just minimize the mean squared error (mse).\n",
    "\n",
    "We are trying to predict the number of characters ( y ) based on the number of periods ( x ) in chapters of Little Women. If we use the line\n",
    "prediction = ax+b\n",
    " \n",
    "it will have an mse that depends on the slope  a  and the intercept  b . The function lw_mse takes the slope and intercept as its arguments and returns the corresponding mse."
   ]
  },
  {
   "cell_type": "code",
   "execution_count": 23,
   "metadata": {},
   "outputs": [],
   "source": [
    "def lw_mse(any_slope, any_intercept):\n",
    "    x = little_women['Periods']\n",
    "    y = little_women['Characters']\n",
    "    fitted = any_slope*x + any_intercept\n",
    "    return np.mean((y - fitted) ** 2)"
   ]
  },
  {
   "cell_type": "markdown",
   "metadata": {},
   "source": [
    "Let's check that lw_mse gets the right answer for the root mean squared error of the regression line. Remember that lw_mse returns the mean squared error, so we have to take the square root to get the rmse."
   ]
  },
  {
   "cell_type": "code",
   "execution_count": 24,
   "metadata": {},
   "outputs": [
    {
     "data": {
      "text/plain": [
       "2701.6907853118555"
      ]
     },
     "execution_count": 24,
     "metadata": {},
     "output_type": "execute_result"
    }
   ],
   "source": [
    "lw_mse(lw_reg_slope, lw_reg_intercept)**0.5"
   ]
  },
  {
   "cell_type": "markdown",
   "metadata": {},
   "source": [
    "That's the same as the value we got by using lw_rmse earlier:"
   ]
  },
  {
   "cell_type": "code",
   "execution_count": 25,
   "metadata": {},
   "outputs": [
    {
     "name": "stdout",
     "output_type": "stream",
     "text": [
      "Root mean squared error: 2701.6907853118555\n"
     ]
    },
    {
     "data": {
      "image/png": "[encoded data removed]",
      "text/plain": [
       "<Figure size 432x288 with 1 Axes>"
      ]
     },
     "metadata": {},
     "output_type": "display_data"
    }
   ],
   "source": [
    "lw_rmse(lw_reg_slope, lw_reg_intercept)"
   ]
  },
  {
   "cell_type": "markdown",
   "metadata": {},
   "source": [
    "You can confirm that lw_mse returns the correct value for other slopes and intercepts too. For example, here is the rmse of the extremely bad line that we tried earlier."
   ]
  },
  {
   "cell_type": "code",
   "execution_count": 26,
   "metadata": {},
   "outputs": [
    {
     "data": {
      "text/plain": [
       "16710.11983735375"
      ]
     },
     "execution_count": 26,
     "metadata": {},
     "output_type": "execute_result"
    }
   ],
   "source": [
    "lw_mse(-100, 50000)**0.5"
   ]
  },
  {
   "cell_type": "markdown",
   "metadata": {},
   "source": [
    "And here is the rmse for a line that is close to the regression line."
   ]
  },
  {
   "cell_type": "code",
   "execution_count": 27,
   "metadata": {},
   "outputs": [
    {
     "data": {
      "text/plain": [
       "2715.5391063834586"
      ]
     },
     "execution_count": 27,
     "metadata": {},
     "output_type": "execute_result"
    }
   ],
   "source": [
    "lw_mse(90, 4000)**0.5"
   ]
  },
  {
   "cell_type": "markdown",
   "metadata": {},
   "source": [
    "If we experiment with different values, we can find a low-error slope and intercept through trial and error, but that would take a while. Fortunately, there is a Python function that does all the trial and error for us.\n",
    "\n",
    "The minimize function can be used to find the arguments of a function for which the function returns its minimum value. Python uses a similar trial-and-error approach, following the changes that lead to incrementally lower output values.\n",
    "\n",
    "The argument of minimize is a function that itself takes numerical arguments and returns a numerical value. For example, the function lw_mse takes a numerical slope and intercept as its arguments and returns the corresponding mse.\n",
    "\n",
    "The call minimize(lw_mse) returns an array consisting of the slope and the intercept that minimize the mse. These minimizing values are excellent approximations arrived at by intelligent trial-and-error, not exact values based on formulas."
   ]
  },
  {
   "cell_type": "code",
   "execution_count": 28,
   "metadata": {},
   "outputs": [
    {
     "data": {
      "text/plain": [
       "array([  86.97784101, 4744.78484127])"
      ]
     },
     "execution_count": 28,
     "metadata": {},
     "output_type": "execute_result"
    }
   ],
   "source": [
    "best = minimize(lw_mse)\n",
    "best\n"
   ]
  },
  {
   "cell_type": "markdown",
   "metadata": {},
   "source": [
    "These values are the same as the values we calculated earlier by using the slope and intercept functions. We see small deviations due to the inexact nature of minimize, but the values are essentially the same.\n",
    "\n"
   ]
  },
  {
   "cell_type": "code",
   "execution_count": 29,
   "metadata": {},
   "outputs": [
    {
     "name": "stdout",
     "output_type": "stream",
     "text": [
      "slope from formula:         86.97784125829823\n",
      "slope from minimize:        86.97784101391096\n",
      "intercept from formula:     4744.784796574924\n",
      "intercept from minimize:    4744.784841267639\n"
     ]
    }
   ],
   "source": [
    "print(\"slope from formula:        \", lw_reg_slope)\n",
    "print(\"slope from minimize:       \", best.item(0))\n",
    "print(\"intercept from formula:    \", lw_reg_intercept)\n",
    "print(\"intercept from minimize:   \", best.item(1))"
   ]
  },
  {
   "cell_type": "markdown",
   "metadata": {},
   "source": [
    "The Least Squares Line \n",
    "Therefore, we have found not only that the regression line minimizes mean squared error, but also that minimizing mean squared error gives us the regression line. The regression line is the only line that minimizes mean squared error.\n",
    "\n",
    "That is why the regression line is sometimes called the \"least squares line.\""
   ]
  }
 ],
 "metadata": {
  "kernelspec": {
   "display_name": "Python 3",
   "language": "python",
   "name": "python3"
  },
  "language_info": {
   "codemirror_mode": {
    "name": "ipython",
    "version": 3
   },
   "file_extension": ".py",
   "mimetype": "text/x-python",
   "name": "python",
   "nbconvert_exporter": "python",
   "pygments_lexer": "ipython3",
   "version": "3.8.3"
  }
 },
 "nbformat": 4,
 "nbformat_minor": 4
}

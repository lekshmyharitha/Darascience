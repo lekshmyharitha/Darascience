{
 "cells": [
  {
   "cell_type": "markdown",
   "metadata": {},
   "source": [
    "## 2. Functions and CEO Incomes\n",
    "\n",
    "In this question, we'll look at the 2015 compensation of CEOs at the 100 largest companies in California. The data was compiled from a [Los Angeles Times analysis](http://spreadsheets.latimes.com/california-ceo-compensation/), and ultimately came from [filings](https://www.sec.gov/answers/proxyhtf.htm) mandated by the SEC from all publicly-traded companies. Two companies have two CEOs, so there are 102 CEOs in the dataset.\n",
    "\n",
    "We've copied the raw data from the LA Times page into a file called `raw_compensation.csv`. (The page notes that all dollar amounts are in **millions of dollars**.)"
   ]
  },
  {
   "cell_type": "code",
   "execution_count": 416,
   "metadata": {},
   "outputs": [],
   "source": [
    "import numpy as np\n",
    "import pandas as pd\n",
    "\n",
    "# These lines set up graphing capabilities.\n",
    "import matplotlib\n",
    "%matplotlib inline\n",
    "import matplotlib.pyplot as plt\n",
    "plt.style.use('fivethirtyeight')\n",
    "import warnings\n",
    "warnings.simplefilter('ignore', FutureWarning)\n",
    "\n",
    "from ipywidgets import interact, interactive, fixed, interact_manual\n",
    "import ipywidgets as widgets"
   ]
  },
  {
   "cell_type": "code",
   "execution_count": 417,
   "metadata": {},
   "outputs": [],
   "source": [
    "raw_compensation = pd.read_csv(r'C:\\Users\\LEKSHMI HARITHA\\Desktop\\AI\\New folder\\raw_compensation.csv')"
   ]
  },
  {
   "cell_type": "code",
   "execution_count": 418,
   "metadata": {},
   "outputs": [
    {
     "data": {
      "text/html": [
       "<div>\n",
       "<style scoped>\n",
       "    .dataframe tbody tr th:only-of-type {\n",
       "        vertical-align: middle;\n",
       "    }\n",
       "\n",
       "    .dataframe tbody tr th {\n",
       "        vertical-align: top;\n",
       "    }\n",
       "\n",
       "    .dataframe thead th {\n",
       "        text-align: right;\n",
       "    }\n",
       "</style>\n",
       "<table border=\"1\" class=\"dataframe\">\n",
       "  <thead>\n",
       "    <tr style=\"text-align: right;\">\n",
       "      <th></th>\n",
       "      <th>Rank</th>\n",
       "      <th>Name</th>\n",
       "      <th>Company (Headquarters)</th>\n",
       "      <th>Total Pay</th>\n",
       "      <th>% Change</th>\n",
       "      <th>Cash Pay</th>\n",
       "      <th>Equity Pay</th>\n",
       "      <th>Other Pay</th>\n",
       "      <th>Ratio of CEO pay to average industry worker pay</th>\n",
       "    </tr>\n",
       "  </thead>\n",
       "  <tbody>\n",
       "    <tr>\n",
       "      <th>0</th>\n",
       "      <td>1</td>\n",
       "      <td>Mark V. Hurd*</td>\n",
       "      <td>Oracle (Redwood City)</td>\n",
       "      <td>$53.25</td>\n",
       "      <td>(No previous year)</td>\n",
       "      <td>$0.95</td>\n",
       "      <td>$52.27</td>\n",
       "      <td>$0.02</td>\n",
       "      <td>362.00000</td>\n",
       "    </tr>\n",
       "    <tr>\n",
       "      <th>1</th>\n",
       "      <td>2</td>\n",
       "      <td>Safra A. Catz*</td>\n",
       "      <td>Oracle (Redwood City)</td>\n",
       "      <td>$53.24</td>\n",
       "      <td>(No previous year)</td>\n",
       "      <td>$0.95</td>\n",
       "      <td>$52.27</td>\n",
       "      <td>$0.02</td>\n",
       "      <td>362.00000</td>\n",
       "    </tr>\n",
       "    <tr>\n",
       "      <th>2</th>\n",
       "      <td>3</td>\n",
       "      <td>Robert A. Iger</td>\n",
       "      <td>Walt Disney (Burbank)</td>\n",
       "      <td>$44.91</td>\n",
       "      <td>-3%</td>\n",
       "      <td>$24.89</td>\n",
       "      <td>$17.28</td>\n",
       "      <td>$2.74</td>\n",
       "      <td>477.00000</td>\n",
       "    </tr>\n",
       "    <tr>\n",
       "      <th>3</th>\n",
       "      <td>4</td>\n",
       "      <td>Marissa A. Mayer</td>\n",
       "      <td>Yahoo! (Sunnyvale)</td>\n",
       "      <td>$35.98</td>\n",
       "      <td>-15%</td>\n",
       "      <td>$1.00</td>\n",
       "      <td>$34.43</td>\n",
       "      <td>$0.55</td>\n",
       "      <td>342.00000</td>\n",
       "    </tr>\n",
       "    <tr>\n",
       "      <th>4</th>\n",
       "      <td>5</td>\n",
       "      <td>Marc Benioff</td>\n",
       "      <td>salesforce.com (San Francisco)</td>\n",
       "      <td>$33.36</td>\n",
       "      <td>-16%</td>\n",
       "      <td>$4.65</td>\n",
       "      <td>$27.26</td>\n",
       "      <td>$1.45</td>\n",
       "      <td>338.00000</td>\n",
       "    </tr>\n",
       "    <tr>\n",
       "      <th>...</th>\n",
       "      <td>...</td>\n",
       "      <td>...</td>\n",
       "      <td>...</td>\n",
       "      <td>...</td>\n",
       "      <td>...</td>\n",
       "      <td>...</td>\n",
       "      <td>...</td>\n",
       "      <td>...</td>\n",
       "      <td>...</td>\n",
       "    </tr>\n",
       "    <tr>\n",
       "      <th>97</th>\n",
       "      <td>98</td>\n",
       "      <td>Gregory N. Roberts</td>\n",
       "      <td>A-Mark Precious Metals (Santa Monica)</td>\n",
       "      <td>$0.94</td>\n",
       "      <td>-11%</td>\n",
       "      <td>$0.93</td>\n",
       "      <td>$0.00</td>\n",
       "      <td>$0.02</td>\n",
       "      <td>17.00000</td>\n",
       "    </tr>\n",
       "    <tr>\n",
       "      <th>98</th>\n",
       "      <td>99</td>\n",
       "      <td>Jose L. Laparte</td>\n",
       "      <td>PriceSmart (San Diego)</td>\n",
       "      <td>$0.81</td>\n",
       "      <td>-7%</td>\n",
       "      <td>$0.71</td>\n",
       "      <td>$0.00</td>\n",
       "      <td>$0.10</td>\n",
       "      <td>32.00000</td>\n",
       "    </tr>\n",
       "    <tr>\n",
       "      <th>99</th>\n",
       "      <td>100</td>\n",
       "      <td>Jack Dorsey</td>\n",
       "      <td>Twitter (San Francisco)</td>\n",
       "      <td>$0.07</td>\n",
       "      <td>(No previous year)</td>\n",
       "      <td>$0.00</td>\n",
       "      <td>$0.00</td>\n",
       "      <td>$0.07</td>\n",
       "      <td>0.63000</td>\n",
       "    </tr>\n",
       "    <tr>\n",
       "      <th>100</th>\n",
       "      <td>101</td>\n",
       "      <td>Elon R. Musk</td>\n",
       "      <td>Tesla Motors (Palo Alto)</td>\n",
       "      <td>$0.04</td>\n",
       "      <td>6%</td>\n",
       "      <td>$0.04</td>\n",
       "      <td>$0.00</td>\n",
       "      <td>$0.00</td>\n",
       "      <td>0.46000</td>\n",
       "    </tr>\n",
       "    <tr>\n",
       "      <th>101</th>\n",
       "      <td>102</td>\n",
       "      <td>Lawrence Page***</td>\n",
       "      <td>Alphabet (Mountain View)</td>\n",
       "      <td>$0.00</td>\n",
       "      <td>0%</td>\n",
       "      <td>$0.00</td>\n",
       "      <td>$0.00</td>\n",
       "      <td>$0.00</td>\n",
       "      <td>0.00001</td>\n",
       "    </tr>\n",
       "  </tbody>\n",
       "</table>\n",
       "<p>102 rows × 9 columns</p>\n",
       "</div>"
      ],
      "text/plain": [
       "     Rank                Name                 Company (Headquarters)  \\\n",
       "0       1       Mark V. Hurd*                  Oracle (Redwood City)   \n",
       "1       2      Safra A. Catz*                  Oracle (Redwood City)   \n",
       "2       3      Robert A. Iger                  Walt Disney (Burbank)   \n",
       "3       4    Marissa A. Mayer                     Yahoo! (Sunnyvale)   \n",
       "4       5        Marc Benioff         salesforce.com (San Francisco)   \n",
       "..    ...                 ...                                    ...   \n",
       "97     98  Gregory N. Roberts  A-Mark Precious Metals (Santa Monica)   \n",
       "98     99     Jose L. Laparte                 PriceSmart (San Diego)   \n",
       "99    100         Jack Dorsey                Twitter (San Francisco)   \n",
       "100   101        Elon R. Musk               Tesla Motors (Palo Alto)   \n",
       "101   102    Lawrence Page***               Alphabet (Mountain View)   \n",
       "\n",
       "    Total Pay            % Change Cash Pay Equity Pay Other Pay  \\\n",
       "0     $53.25   (No previous year)   $0.95     $52.27     $0.02    \n",
       "1     $53.24   (No previous year)   $0.95     $52.27     $0.02    \n",
       "2     $44.91                  -3%  $24.89     $17.28     $2.74    \n",
       "3     $35.98                 -15%   $1.00     $34.43     $0.55    \n",
       "4     $33.36                 -16%   $4.65     $27.26     $1.45    \n",
       "..        ...                 ...      ...        ...       ...   \n",
       "97     $0.94                 -11%   $0.93      $0.00     $0.02    \n",
       "98     $0.81                  -7%   $0.71      $0.00     $0.10    \n",
       "99     $0.07   (No previous year)   $0.00      $0.00     $0.07    \n",
       "100    $0.04                   6%   $0.04      $0.00     $0.00    \n",
       "101     $0.00                  0%    $0.00      $0.00     $0.00   \n",
       "\n",
       "     Ratio of CEO pay to average industry worker pay  \n",
       "0                                          362.00000  \n",
       "1                                          362.00000  \n",
       "2                                          477.00000  \n",
       "3                                          342.00000  \n",
       "4                                          338.00000  \n",
       "..                                               ...  \n",
       "97                                          17.00000  \n",
       "98                                          32.00000  \n",
       "99                                           0.63000  \n",
       "100                                          0.46000  \n",
       "101                                          0.00001  \n",
       "\n",
       "[102 rows x 9 columns]"
      ]
     },
     "execution_count": 418,
     "metadata": {},
     "output_type": "execute_result"
    }
   ],
   "source": [
    "raw_compensation"
   ]
  },
  {
   "cell_type": "markdown",
   "metadata": {},
   "source": [
    "We want to compute the average of the CEOs pay. Try running the 2 cells below."
   ]
  },
  {
   "cell_type": "code",
   "execution_count": 419,
   "metadata": {},
   "outputs": [
    {
     "ename": "TypeError",
     "evalue": "unsupported operand type(s) for /: 'str' and 'int'",
     "output_type": "error",
     "traceback": [
      "\u001b[1;31m---------------------------------------------------------------------------\u001b[0m",
      "\u001b[1;31mTypeError\u001b[0m                                 Traceback (most recent call last)",
      "\u001b[1;32m<ipython-input-419-8219e2acdfb9>\u001b[0m in \u001b[0;36m<module>\u001b[1;34m\u001b[0m\n\u001b[1;32m----> 1\u001b[1;33m \u001b[0mnp\u001b[0m\u001b[1;33m.\u001b[0m\u001b[0maverage\u001b[0m\u001b[1;33m(\u001b[0m\u001b[0mraw_compensation\u001b[0m\u001b[1;33m[\u001b[0m\u001b[1;34m'Total Pay'\u001b[0m\u001b[1;33m]\u001b[0m\u001b[1;33m)\u001b[0m\u001b[1;33m\u001b[0m\u001b[1;33m\u001b[0m\u001b[0m\n\u001b[0m",
      "\u001b[1;32m<__array_function__ internals>\u001b[0m in \u001b[0;36maverage\u001b[1;34m(*args, **kwargs)\u001b[0m\n",
      "\u001b[1;32m~\\anaconda3\\lib\\site-packages\\numpy\\lib\\function_base.py\u001b[0m in \u001b[0;36maverage\u001b[1;34m(a, axis, weights, returned)\u001b[0m\n\u001b[0;32m    391\u001b[0m \u001b[1;33m\u001b[0m\u001b[0m\n\u001b[0;32m    392\u001b[0m     \u001b[1;32mif\u001b[0m \u001b[0mweights\u001b[0m \u001b[1;32mis\u001b[0m \u001b[1;32mNone\u001b[0m\u001b[1;33m:\u001b[0m\u001b[1;33m\u001b[0m\u001b[1;33m\u001b[0m\u001b[0m\n\u001b[1;32m--> 393\u001b[1;33m         \u001b[0mavg\u001b[0m \u001b[1;33m=\u001b[0m \u001b[0ma\u001b[0m\u001b[1;33m.\u001b[0m\u001b[0mmean\u001b[0m\u001b[1;33m(\u001b[0m\u001b[0maxis\u001b[0m\u001b[1;33m)\u001b[0m\u001b[1;33m\u001b[0m\u001b[1;33m\u001b[0m\u001b[0m\n\u001b[0m\u001b[0;32m    394\u001b[0m         \u001b[0mscl\u001b[0m \u001b[1;33m=\u001b[0m \u001b[0mavg\u001b[0m\u001b[1;33m.\u001b[0m\u001b[0mdtype\u001b[0m\u001b[1;33m.\u001b[0m\u001b[0mtype\u001b[0m\u001b[1;33m(\u001b[0m\u001b[0ma\u001b[0m\u001b[1;33m.\u001b[0m\u001b[0msize\u001b[0m\u001b[1;33m/\u001b[0m\u001b[0mavg\u001b[0m\u001b[1;33m.\u001b[0m\u001b[0msize\u001b[0m\u001b[1;33m)\u001b[0m\u001b[1;33m\u001b[0m\u001b[1;33m\u001b[0m\u001b[0m\n\u001b[0;32m    395\u001b[0m     \u001b[1;32melse\u001b[0m\u001b[1;33m:\u001b[0m\u001b[1;33m\u001b[0m\u001b[1;33m\u001b[0m\u001b[0m\n",
      "\u001b[1;32m~\\anaconda3\\lib\\site-packages\\numpy\\core\\_methods.py\u001b[0m in \u001b[0;36m_mean\u001b[1;34m(a, axis, dtype, out, keepdims)\u001b[0m\n\u001b[0;32m    161\u001b[0m             \u001b[0mret\u001b[0m \u001b[1;33m=\u001b[0m \u001b[0mret\u001b[0m\u001b[1;33m.\u001b[0m\u001b[0mdtype\u001b[0m\u001b[1;33m.\u001b[0m\u001b[0mtype\u001b[0m\u001b[1;33m(\u001b[0m\u001b[0mret\u001b[0m \u001b[1;33m/\u001b[0m \u001b[0mrcount\u001b[0m\u001b[1;33m)\u001b[0m\u001b[1;33m\u001b[0m\u001b[1;33m\u001b[0m\u001b[0m\n\u001b[0;32m    162\u001b[0m     \u001b[1;32melse\u001b[0m\u001b[1;33m:\u001b[0m\u001b[1;33m\u001b[0m\u001b[1;33m\u001b[0m\u001b[0m\n\u001b[1;32m--> 163\u001b[1;33m         \u001b[0mret\u001b[0m \u001b[1;33m=\u001b[0m \u001b[0mret\u001b[0m \u001b[1;33m/\u001b[0m \u001b[0mrcount\u001b[0m\u001b[1;33m\u001b[0m\u001b[1;33m\u001b[0m\u001b[0m\n\u001b[0m\u001b[0;32m    164\u001b[0m \u001b[1;33m\u001b[0m\u001b[0m\n\u001b[0;32m    165\u001b[0m     \u001b[1;32mreturn\u001b[0m \u001b[0mret\u001b[0m\u001b[1;33m\u001b[0m\u001b[1;33m\u001b[0m\u001b[0m\n",
      "\u001b[1;31mTypeError\u001b[0m: unsupported operand type(s) for /: 'str' and 'int'"
     ]
    }
   ],
   "source": [
    "np.average(raw_compensation['Total Pay'])"
   ]
  },
  {
   "cell_type": "code",
   "execution_count": 420,
   "metadata": {},
   "outputs": [
    {
     "ename": "TypeError",
     "evalue": "Could not convert $53.25 $53.24 $44.91 $35.98 $33.36 $24.84 $22.04 $19.86 $19.62 $19.32 $18.76 $18.61 $18.36 $18.09 $17.10 $16.63 $16.33 $16.14 $16.10 $16.02 $15.10 $14.98 $14.63 $14.51 $14.44 $14.36 $14.31 $14.09 $14.00 $13.67 $12.34 $12.20 $12.18 $12.13 $12.05 $11.84 $11.71 $11.63 $11.16 $11.11 $11.11 $10.73 $10.50 $10.43 $10.37 $10.28 $10.27 $10.18 $10.16 $9.97 $9.96 $9.86 $9.74 $9.42 $9.39 $9.22 $9.06 $9.03 $8.86 $8.76 $8.57 $8.38 $8.36 $8.35 $8.23 $7.86 $7.70 $7.58 $7.51 $7.23 $7.21 $7.12 $6.88 $6.77 $6.64 $6.56 $6.14 $5.92 $5.90 $5.89 $5.73 $5.42 $5.04 $4.92 $4.92 $4.47 $4.25 $4.08 $3.93 $3.72 $2.88 $2.83 $2.82 $2.45 $1.79 $1.68 $1.53 $0.94 $0.81 $0.07 $0.04 $0.00 to numeric",
     "output_type": "error",
     "traceback": [
      "\u001b[1;31m---------------------------------------------------------------------------\u001b[0m",
      "\u001b[1;31mValueError\u001b[0m                                Traceback (most recent call last)",
      "\u001b[1;32m~\\anaconda3\\lib\\site-packages\\pandas\\core\\nanops.py\u001b[0m in \u001b[0;36m_ensure_numeric\u001b[1;34m(x)\u001b[0m\n\u001b[0;32m   1302\u001b[0m         \u001b[1;32mtry\u001b[0m\u001b[1;33m:\u001b[0m\u001b[1;33m\u001b[0m\u001b[1;33m\u001b[0m\u001b[0m\n\u001b[1;32m-> 1303\u001b[1;33m             \u001b[0mx\u001b[0m \u001b[1;33m=\u001b[0m \u001b[0mfloat\u001b[0m\u001b[1;33m(\u001b[0m\u001b[0mx\u001b[0m\u001b[1;33m)\u001b[0m\u001b[1;33m\u001b[0m\u001b[1;33m\u001b[0m\u001b[0m\n\u001b[0m\u001b[0;32m   1304\u001b[0m         \u001b[1;32mexcept\u001b[0m \u001b[0mValueError\u001b[0m\u001b[1;33m:\u001b[0m\u001b[1;33m\u001b[0m\u001b[1;33m\u001b[0m\u001b[0m\n",
      "\u001b[1;31mValueError\u001b[0m: could not convert string to float: '$53.25 $53.24 $44.91 $35.98 $33.36 $24.84 $22.04 $19.86 $19.62 $19.32 $18.76 $18.61 $18.36 $18.09 $17.10 $16.63 $16.33 $16.14 $16.10 $16.02 $15.10 $14.98 $14.63 $14.51 $14.44 $14.36 $14.31 $14.09 $14.00 $13.67 $12.34 $12.20 $12.18 $12.13 $12.05 $11.84 $11.71 $11.63 $11.16 $11.11 $11.11 $10.73 $10.50 $10.43 $10.37 $10.28 $10.27 $10.18 $10.16 $9.97 $9.96 $9.86 $9.74 $9.42 $9.39 $9.22 $9.06 $9.03 $8.86 $8.76 $8.57 $8.38 $8.36 $8.35 $8.23 $7.86 $7.70 $7.58 $7.51 $7.23 $7.21 $7.12 $6.88 $6.77 $6.64 $6.56 $6.14 $5.92 $5.90 $5.89 $5.73 $5.42 $5.04 $4.92 $4.92 $4.47 $4.25 $4.08 $3.93 $3.72 $2.88 $2.83 $2.82 $2.45 $1.79 $1.68 $1.53 $0.94 $0.81 $0.07 $0.04 $0.00'",
      "\nDuring handling of the above exception, another exception occurred:\n",
      "\u001b[1;31mValueError\u001b[0m                                Traceback (most recent call last)",
      "\u001b[1;32m~\\anaconda3\\lib\\site-packages\\pandas\\core\\nanops.py\u001b[0m in \u001b[0;36m_ensure_numeric\u001b[1;34m(x)\u001b[0m\n\u001b[0;32m   1306\u001b[0m             \u001b[1;32mtry\u001b[0m\u001b[1;33m:\u001b[0m\u001b[1;33m\u001b[0m\u001b[1;33m\u001b[0m\u001b[0m\n\u001b[1;32m-> 1307\u001b[1;33m                 \u001b[0mx\u001b[0m \u001b[1;33m=\u001b[0m \u001b[0mcomplex\u001b[0m\u001b[1;33m(\u001b[0m\u001b[0mx\u001b[0m\u001b[1;33m)\u001b[0m\u001b[1;33m\u001b[0m\u001b[1;33m\u001b[0m\u001b[0m\n\u001b[0m\u001b[0;32m   1308\u001b[0m             \u001b[1;32mexcept\u001b[0m \u001b[0mValueError\u001b[0m\u001b[1;33m:\u001b[0m\u001b[1;33m\u001b[0m\u001b[1;33m\u001b[0m\u001b[0m\n",
      "\u001b[1;31mValueError\u001b[0m: complex() arg is a malformed string",
      "\nDuring handling of the above exception, another exception occurred:\n",
      "\u001b[1;31mTypeError\u001b[0m                                 Traceback (most recent call last)",
      "\u001b[1;32m<ipython-input-420-b4e8ef0abc13>\u001b[0m in \u001b[0;36m<module>\u001b[1;34m\u001b[0m\n\u001b[1;32m----> 1\u001b[1;33m \u001b[0mraw_compensation\u001b[0m\u001b[1;33m[\u001b[0m\u001b[1;34m'Total Pay'\u001b[0m\u001b[1;33m]\u001b[0m\u001b[1;33m.\u001b[0m\u001b[0mmean\u001b[0m\u001b[1;33m(\u001b[0m\u001b[1;33m)\u001b[0m\u001b[1;33m\u001b[0m\u001b[1;33m\u001b[0m\u001b[0m\n\u001b[0m",
      "\u001b[1;32m~\\anaconda3\\lib\\site-packages\\pandas\\core\\generic.py\u001b[0m in \u001b[0;36mstat_func\u001b[1;34m(self, axis, skipna, level, numeric_only, **kwargs)\u001b[0m\n\u001b[0;32m  11212\u001b[0m         \u001b[1;32mif\u001b[0m \u001b[0mlevel\u001b[0m \u001b[1;32mis\u001b[0m \u001b[1;32mnot\u001b[0m \u001b[1;32mNone\u001b[0m\u001b[1;33m:\u001b[0m\u001b[1;33m\u001b[0m\u001b[1;33m\u001b[0m\u001b[0m\n\u001b[0;32m  11213\u001b[0m             \u001b[1;32mreturn\u001b[0m \u001b[0mself\u001b[0m\u001b[1;33m.\u001b[0m\u001b[0m_agg_by_level\u001b[0m\u001b[1;33m(\u001b[0m\u001b[0mname\u001b[0m\u001b[1;33m,\u001b[0m \u001b[0maxis\u001b[0m\u001b[1;33m=\u001b[0m\u001b[0maxis\u001b[0m\u001b[1;33m,\u001b[0m \u001b[0mlevel\u001b[0m\u001b[1;33m=\u001b[0m\u001b[0mlevel\u001b[0m\u001b[1;33m,\u001b[0m \u001b[0mskipna\u001b[0m\u001b[1;33m=\u001b[0m\u001b[0mskipna\u001b[0m\u001b[1;33m)\u001b[0m\u001b[1;33m\u001b[0m\u001b[1;33m\u001b[0m\u001b[0m\n\u001b[1;32m> 11214\u001b[1;33m         return self._reduce(\n\u001b[0m\u001b[0;32m  11215\u001b[0m             \u001b[0mf\u001b[0m\u001b[1;33m,\u001b[0m \u001b[0mname\u001b[0m\u001b[1;33m,\u001b[0m \u001b[0maxis\u001b[0m\u001b[1;33m=\u001b[0m\u001b[0maxis\u001b[0m\u001b[1;33m,\u001b[0m \u001b[0mskipna\u001b[0m\u001b[1;33m=\u001b[0m\u001b[0mskipna\u001b[0m\u001b[1;33m,\u001b[0m \u001b[0mnumeric_only\u001b[0m\u001b[1;33m=\u001b[0m\u001b[0mnumeric_only\u001b[0m\u001b[1;33m\u001b[0m\u001b[1;33m\u001b[0m\u001b[0m\n\u001b[0;32m  11216\u001b[0m         )\n",
      "\u001b[1;32m~\\anaconda3\\lib\\site-packages\\pandas\\core\\series.py\u001b[0m in \u001b[0;36m_reduce\u001b[1;34m(self, op, name, axis, skipna, numeric_only, filter_type, **kwds)\u001b[0m\n\u001b[0;32m   3889\u001b[0m                 )\n\u001b[0;32m   3890\u001b[0m             \u001b[1;32mwith\u001b[0m \u001b[0mnp\u001b[0m\u001b[1;33m.\u001b[0m\u001b[0merrstate\u001b[0m\u001b[1;33m(\u001b[0m\u001b[0mall\u001b[0m\u001b[1;33m=\u001b[0m\u001b[1;34m\"ignore\"\u001b[0m\u001b[1;33m)\u001b[0m\u001b[1;33m:\u001b[0m\u001b[1;33m\u001b[0m\u001b[1;33m\u001b[0m\u001b[0m\n\u001b[1;32m-> 3891\u001b[1;33m                 \u001b[1;32mreturn\u001b[0m \u001b[0mop\u001b[0m\u001b[1;33m(\u001b[0m\u001b[0mdelegate\u001b[0m\u001b[1;33m,\u001b[0m \u001b[0mskipna\u001b[0m\u001b[1;33m=\u001b[0m\u001b[0mskipna\u001b[0m\u001b[1;33m,\u001b[0m \u001b[1;33m**\u001b[0m\u001b[0mkwds\u001b[0m\u001b[1;33m)\u001b[0m\u001b[1;33m\u001b[0m\u001b[1;33m\u001b[0m\u001b[0m\n\u001b[0m\u001b[0;32m   3892\u001b[0m \u001b[1;33m\u001b[0m\u001b[0m\n\u001b[0;32m   3893\u001b[0m         \u001b[1;31m# TODO(EA) dispatch to Index\u001b[0m\u001b[1;33m\u001b[0m\u001b[1;33m\u001b[0m\u001b[1;33m\u001b[0m\u001b[0m\n",
      "\u001b[1;32m~\\anaconda3\\lib\\site-packages\\pandas\\core\\nanops.py\u001b[0m in \u001b[0;36m_f\u001b[1;34m(*args, **kwargs)\u001b[0m\n\u001b[0;32m     67\u001b[0m             \u001b[1;32mtry\u001b[0m\u001b[1;33m:\u001b[0m\u001b[1;33m\u001b[0m\u001b[1;33m\u001b[0m\u001b[0m\n\u001b[0;32m     68\u001b[0m                 \u001b[1;32mwith\u001b[0m \u001b[0mnp\u001b[0m\u001b[1;33m.\u001b[0m\u001b[0merrstate\u001b[0m\u001b[1;33m(\u001b[0m\u001b[0minvalid\u001b[0m\u001b[1;33m=\u001b[0m\u001b[1;34m\"ignore\"\u001b[0m\u001b[1;33m)\u001b[0m\u001b[1;33m:\u001b[0m\u001b[1;33m\u001b[0m\u001b[1;33m\u001b[0m\u001b[0m\n\u001b[1;32m---> 69\u001b[1;33m                     \u001b[1;32mreturn\u001b[0m \u001b[0mf\u001b[0m\u001b[1;33m(\u001b[0m\u001b[1;33m*\u001b[0m\u001b[0margs\u001b[0m\u001b[1;33m,\u001b[0m \u001b[1;33m**\u001b[0m\u001b[0mkwargs\u001b[0m\u001b[1;33m)\u001b[0m\u001b[1;33m\u001b[0m\u001b[1;33m\u001b[0m\u001b[0m\n\u001b[0m\u001b[0;32m     70\u001b[0m             \u001b[1;32mexcept\u001b[0m \u001b[0mValueError\u001b[0m \u001b[1;32mas\u001b[0m \u001b[0me\u001b[0m\u001b[1;33m:\u001b[0m\u001b[1;33m\u001b[0m\u001b[1;33m\u001b[0m\u001b[0m\n\u001b[0;32m     71\u001b[0m                 \u001b[1;31m# we want to transform an object array\u001b[0m\u001b[1;33m\u001b[0m\u001b[1;33m\u001b[0m\u001b[1;33m\u001b[0m\u001b[0m\n",
      "\u001b[1;32m~\\anaconda3\\lib\\site-packages\\pandas\\core\\nanops.py\u001b[0m in \u001b[0;36mf\u001b[1;34m(values, axis, skipna, **kwds)\u001b[0m\n\u001b[0;32m    123\u001b[0m                     \u001b[0mresult\u001b[0m \u001b[1;33m=\u001b[0m \u001b[0malt\u001b[0m\u001b[1;33m(\u001b[0m\u001b[0mvalues\u001b[0m\u001b[1;33m,\u001b[0m \u001b[0maxis\u001b[0m\u001b[1;33m=\u001b[0m\u001b[0maxis\u001b[0m\u001b[1;33m,\u001b[0m \u001b[0mskipna\u001b[0m\u001b[1;33m=\u001b[0m\u001b[0mskipna\u001b[0m\u001b[1;33m,\u001b[0m \u001b[1;33m**\u001b[0m\u001b[0mkwds\u001b[0m\u001b[1;33m)\u001b[0m\u001b[1;33m\u001b[0m\u001b[1;33m\u001b[0m\u001b[0m\n\u001b[0;32m    124\u001b[0m             \u001b[1;32melse\u001b[0m\u001b[1;33m:\u001b[0m\u001b[1;33m\u001b[0m\u001b[1;33m\u001b[0m\u001b[0m\n\u001b[1;32m--> 125\u001b[1;33m                 \u001b[0mresult\u001b[0m \u001b[1;33m=\u001b[0m \u001b[0malt\u001b[0m\u001b[1;33m(\u001b[0m\u001b[0mvalues\u001b[0m\u001b[1;33m,\u001b[0m \u001b[0maxis\u001b[0m\u001b[1;33m=\u001b[0m\u001b[0maxis\u001b[0m\u001b[1;33m,\u001b[0m \u001b[0mskipna\u001b[0m\u001b[1;33m=\u001b[0m\u001b[0mskipna\u001b[0m\u001b[1;33m,\u001b[0m \u001b[1;33m**\u001b[0m\u001b[0mkwds\u001b[0m\u001b[1;33m)\u001b[0m\u001b[1;33m\u001b[0m\u001b[1;33m\u001b[0m\u001b[0m\n\u001b[0m\u001b[0;32m    126\u001b[0m \u001b[1;33m\u001b[0m\u001b[0m\n\u001b[0;32m    127\u001b[0m             \u001b[1;32mreturn\u001b[0m \u001b[0mresult\u001b[0m\u001b[1;33m\u001b[0m\u001b[1;33m\u001b[0m\u001b[0m\n",
      "\u001b[1;32m~\\anaconda3\\lib\\site-packages\\pandas\\core\\nanops.py\u001b[0m in \u001b[0;36mnanmean\u001b[1;34m(values, axis, skipna, mask)\u001b[0m\n\u001b[0;32m    540\u001b[0m         \u001b[0mdtype_count\u001b[0m \u001b[1;33m=\u001b[0m \u001b[0mdtype\u001b[0m\u001b[1;33m\u001b[0m\u001b[1;33m\u001b[0m\u001b[0m\n\u001b[0;32m    541\u001b[0m     \u001b[0mcount\u001b[0m \u001b[1;33m=\u001b[0m \u001b[0m_get_counts\u001b[0m\u001b[1;33m(\u001b[0m\u001b[0mvalues\u001b[0m\u001b[1;33m.\u001b[0m\u001b[0mshape\u001b[0m\u001b[1;33m,\u001b[0m \u001b[0mmask\u001b[0m\u001b[1;33m,\u001b[0m \u001b[0maxis\u001b[0m\u001b[1;33m,\u001b[0m \u001b[0mdtype\u001b[0m\u001b[1;33m=\u001b[0m\u001b[0mdtype_count\u001b[0m\u001b[1;33m)\u001b[0m\u001b[1;33m\u001b[0m\u001b[1;33m\u001b[0m\u001b[0m\n\u001b[1;32m--> 542\u001b[1;33m     \u001b[0mthe_sum\u001b[0m \u001b[1;33m=\u001b[0m \u001b[0m_ensure_numeric\u001b[0m\u001b[1;33m(\u001b[0m\u001b[0mvalues\u001b[0m\u001b[1;33m.\u001b[0m\u001b[0msum\u001b[0m\u001b[1;33m(\u001b[0m\u001b[0maxis\u001b[0m\u001b[1;33m,\u001b[0m \u001b[0mdtype\u001b[0m\u001b[1;33m=\u001b[0m\u001b[0mdtype_sum\u001b[0m\u001b[1;33m)\u001b[0m\u001b[1;33m)\u001b[0m\u001b[1;33m\u001b[0m\u001b[1;33m\u001b[0m\u001b[0m\n\u001b[0m\u001b[0;32m    543\u001b[0m \u001b[1;33m\u001b[0m\u001b[0m\n\u001b[0;32m    544\u001b[0m     \u001b[1;32mif\u001b[0m \u001b[0maxis\u001b[0m \u001b[1;32mis\u001b[0m \u001b[1;32mnot\u001b[0m \u001b[1;32mNone\u001b[0m \u001b[1;32mand\u001b[0m \u001b[0mgetattr\u001b[0m\u001b[1;33m(\u001b[0m\u001b[0mthe_sum\u001b[0m\u001b[1;33m,\u001b[0m \u001b[1;34m\"ndim\"\u001b[0m\u001b[1;33m,\u001b[0m \u001b[1;32mFalse\u001b[0m\u001b[1;33m)\u001b[0m\u001b[1;33m:\u001b[0m\u001b[1;33m\u001b[0m\u001b[1;33m\u001b[0m\u001b[0m\n",
      "\u001b[1;32m~\\anaconda3\\lib\\site-packages\\pandas\\core\\nanops.py\u001b[0m in \u001b[0;36m_ensure_numeric\u001b[1;34m(x)\u001b[0m\n\u001b[0;32m   1308\u001b[0m             \u001b[1;32mexcept\u001b[0m \u001b[0mValueError\u001b[0m\u001b[1;33m:\u001b[0m\u001b[1;33m\u001b[0m\u001b[1;33m\u001b[0m\u001b[0m\n\u001b[0;32m   1309\u001b[0m                 \u001b[1;31m# e.g. \"foo\"\u001b[0m\u001b[1;33m\u001b[0m\u001b[1;33m\u001b[0m\u001b[1;33m\u001b[0m\u001b[0m\n\u001b[1;32m-> 1310\u001b[1;33m                 \u001b[1;32mraise\u001b[0m \u001b[0mTypeError\u001b[0m\u001b[1;33m(\u001b[0m\u001b[1;34mf\"Could not convert {x} to numeric\"\u001b[0m\u001b[1;33m)\u001b[0m\u001b[1;33m\u001b[0m\u001b[1;33m\u001b[0m\u001b[0m\n\u001b[0m\u001b[0;32m   1311\u001b[0m     \u001b[1;32mreturn\u001b[0m \u001b[0mx\u001b[0m\u001b[1;33m\u001b[0m\u001b[1;33m\u001b[0m\u001b[0m\n\u001b[0;32m   1312\u001b[0m \u001b[1;33m\u001b[0m\u001b[0m\n",
      "\u001b[1;31mTypeError\u001b[0m: Could not convert $53.25 $53.24 $44.91 $35.98 $33.36 $24.84 $22.04 $19.86 $19.62 $19.32 $18.76 $18.61 $18.36 $18.09 $17.10 $16.63 $16.33 $16.14 $16.10 $16.02 $15.10 $14.98 $14.63 $14.51 $14.44 $14.36 $14.31 $14.09 $14.00 $13.67 $12.34 $12.20 $12.18 $12.13 $12.05 $11.84 $11.71 $11.63 $11.16 $11.11 $11.11 $10.73 $10.50 $10.43 $10.37 $10.28 $10.27 $10.18 $10.16 $9.97 $9.96 $9.86 $9.74 $9.42 $9.39 $9.22 $9.06 $9.03 $8.86 $8.76 $8.57 $8.38 $8.36 $8.35 $8.23 $7.86 $7.70 $7.58 $7.51 $7.23 $7.21 $7.12 $6.88 $6.77 $6.64 $6.56 $6.14 $5.92 $5.90 $5.89 $5.73 $5.42 $5.04 $4.92 $4.92 $4.47 $4.25 $4.08 $3.93 $3.72 $2.88 $2.83 $2.82 $2.45 $1.79 $1.68 $1.53 $0.94 $0.81 $0.07 $0.04 $0.00 to numeric"
     ]
    }
   ],
   "source": [
    "raw_compensation['Total Pay'].mean()"
   ]
  },
  {
   "cell_type": "markdown",
   "metadata": {},
   "source": [
    "You should see a TypeError. Let's examine why this error occurred by looking at the values in the `Total Pay` column. \n",
    "\n",
    "**Question 2.1.** Use the `type` function and set `total_pay_type` to the type of the first value in the \"Total Pay\" column."
   ]
  },
  {
   "cell_type": "code",
   "execution_count": 421,
   "metadata": {},
   "outputs": [
    {
     "data": {
      "text/plain": [
       "str"
      ]
     },
     "execution_count": 421,
     "metadata": {},
     "output_type": "execute_result"
    }
   ],
   "source": [
    "total_pay_type = type(raw_compensation['Total Pay'][0])\n",
    "total_pay_type"
   ]
  },
  {
   "cell_type": "markdown",
   "metadata": {},
   "source": [
    "**Question 2.3.** Convert `mark_hurd_pay_string` to a number of *dollars*. \n",
    "\n",
    "Some hints, as this question requires multiple steps:\n",
    "- The string method `strip` will be useful for removing the dollar sign; it removes a specified character from the start or end of a string.  For example, the value of `\"100%\".strip(\"%\")` is the string `\"100\"`.  \n",
    "- You'll also need the function `float`, which converts a string that looks like a number to an actual number.  \n",
    "- Finally, remember that the answer should be in dollars, not millions of dollars.\n"
   ]
  },
  {
   "cell_type": "code",
   "execution_count": 422,
   "metadata": {},
   "outputs": [
    {
     "data": {
      "text/plain": [
       "5325000.0"
      ]
     },
     "execution_count": 422,
     "metadata": {},
     "output_type": "execute_result"
    }
   ],
   "source": [
    "mark_hurd_pay_string = raw_compensation['Total Pay'][0]\n",
    "p=float(mark_hurd_pay_string.strip(\"$\"))*100000\n",
    "p"
   ]
  },
  {
   "cell_type": "markdown",
   "metadata": {},
   "source": [
    "To compute the average pay, we need to do this for every CEO.  But that looks like it would involve copying this code 102 times.\n",
    "\n",
    "This is where functions come in.  First, we'll define a new function, giving a name to the expression that converts \"total pay\" strings to numeric values.  Later in this lab, we'll see the payoff: we can call that function on every pay string in the dataset at once.\n",
    "\n",
    "The next section of this lab explains how to define a function For now, just fill in the ellipses in the cell below.\n",
    "\n",
    "**Question 2.4.** Copy the expression you used to compute `mark_hurd_pay`, and use it as the return expression of the function below. But make sure you replace the specific `mark_hurd_pay_string` with the generic `pay_string` name specified in the first line in the `def` statement.\n",
    "\n",
    "*Hint*: When dealing with functions, you should generally not be referencing any variable outside of the function. Usually, you want to be working with the arguments that are passed into it, such as `pay_string` for this function. If you're using `mark_hurd_pay_string` within your function, you're referencing an outside variable!"
   ]
  },
  {
   "cell_type": "code",
   "execution_count": 423,
   "metadata": {},
   "outputs": [],
   "source": [
    "def convert_pay_string_to_number(pay_string):\n",
    "        paystringnew=pay_string.strip(\"$\")\n",
    "        #print(paystringnew)\n",
    "        flostring=float(paystringnew)*1000000 \n",
    "        return flostring\n",
    "        \n",
    "        "
   ]
  },
  {
   "cell_type": "markdown",
   "metadata": {},
   "source": [
    "Running that cell doesn't convert any particular pay string. Instead, it creates a function called `convert_pay_string_to_number` that can convert *any* string with the right format to a number representing millions of dollars.\n",
    "\n",
    "We can call our function just like we call the built-in functions we've seen. It takes one argument -- a string -- and it returns a float."
   ]
  },
  {
   "cell_type": "code",
   "execution_count": 424,
   "metadata": {},
   "outputs": [
    {
     "data": {
      "text/plain": [
       "42000000.0"
      ]
     },
     "execution_count": 424,
     "metadata": {},
     "output_type": "execute_result"
    }
   ],
   "source": [
    "convert_pay_string_to_number('$42')"
   ]
  },
  {
   "cell_type": "code",
   "execution_count": 425,
   "metadata": {
    "scrolled": true
   },
   "outputs": [
    {
     "data": {
      "text/plain": [
       "53250000.0"
      ]
     },
     "execution_count": 425,
     "metadata": {},
     "output_type": "execute_result"
    }
   ],
   "source": [
    "convert_pay_string_to_number(mark_hurd_pay_string)"
   ]
  },
  {
   "cell_type": "code",
   "execution_count": 426,
   "metadata": {},
   "outputs": [],
   "source": [
    "# We can also compute Safra Catz's pay in the same way: But this time extract the details from the record that matches his first name 'Safra' and then proceed\n",
    "#You can break it down into multiple steps or combine into one line\n",
    "def get_pay_string(name):\n",
    "    if name=='Safra':\n",
    "       Safra_Catz_string=raw_compensation['Total Pay'][1]\n",
    "       q=convert_pay_string_to_number(Safra_Catz_string)\n",
    "       print(q)\n",
    "    else:\n",
    "       print(\"Non available\")\n",
    "      "
   ]
  },
  {
   "cell_type": "code",
   "execution_count": 427,
   "metadata": {},
   "outputs": [
    {
     "name": "stdout",
     "output_type": "stream",
     "text": [
      "53240000.0\n"
     ]
    }
   ],
   "source": [
    "get_pay_string('Safra')\n"
   ]
  },
  {
   "cell_type": "markdown",
   "metadata": {},
   "source": [
    "So, what have we gained by defining the `convert_pay_string_to_number` function? \n",
    "Well, without it, we'd have to copy the code `10**6 * float(some_pay_string.strip(\"$\"))` each time we wanted to convert a pay string.  Now we just call a function whose name says exactly what it's doing."
   ]
  },
  {
   "cell_type": "markdown",
   "metadata": {},
   "source": [
    "## 3. `apply`ing functions\n",
    "\n",
    "Defining a function is a lot like giving a name to a value with `=`.  In fact, a function is a value just like the number 1 or the text \"data\"!\n",
    "\n",
    "For example, we can make a new name for the built-in function `max` if we want:"
   ]
  },
  {
   "cell_type": "code",
   "execution_count": 428,
   "metadata": {},
   "outputs": [
    {
     "data": {
      "text/plain": [
       "6"
      ]
     },
     "execution_count": 428,
     "metadata": {},
     "output_type": "execute_result"
    }
   ],
   "source": [
    "our_name_for_max = max\n",
    "our_name_for_max(2, 6)"
   ]
  },
  {
   "cell_type": "markdown",
   "metadata": {},
   "source": [
    "The old name for `max` is still around:"
   ]
  },
  {
   "cell_type": "code",
   "execution_count": 429,
   "metadata": {},
   "outputs": [
    {
     "data": {
      "text/plain": [
       "6"
      ]
     },
     "execution_count": 429,
     "metadata": {},
     "output_type": "execute_result"
    }
   ],
   "source": [
    "max(2, 6)"
   ]
  },
  {
   "cell_type": "markdown",
   "metadata": {},
   "source": [
    "Try just writing `max` or `our_name_for_max` (or the name of any other function) in a cell, and run that cell.  Python will print out a (very brief) description of the function."
   ]
  },
  {
   "cell_type": "code",
   "execution_count": 430,
   "metadata": {},
   "outputs": [
    {
     "data": {
      "text/plain": [
       "<function max>"
      ]
     },
     "execution_count": 430,
     "metadata": {},
     "output_type": "execute_result"
    }
   ],
   "source": [
    "our_name_for_max"
   ]
  },
  {
   "cell_type": "markdown",
   "metadata": {},
   "source": [
    "Now try writing `?max` or `?our_name_for_max` (or the name of any other function) in a cell, and run that cell.  A information box should show up at the bottom of your screen a longer description of the function\n",
    "\n",
    "*Note: You can also press Shift+Tab after clicking on a name to see similar information!*"
   ]
  },
  {
   "cell_type": "code",
   "execution_count": 431,
   "metadata": {},
   "outputs": [],
   "source": [
    "?our_name_for_max"
   ]
  },
  {
   "cell_type": "markdown",
   "metadata": {},
   "source": [
    "Let's look at what happens when we set `max`to a non-function value. You'll notice that a TypeError will occur when you try calling `max`. Things like integers and strings are not callable. Look out for any functions that might have been renamed when you encounter this type of error"
   ]
  },
  {
   "cell_type": "code",
   "execution_count": 432,
   "metadata": {},
   "outputs": [
    {
     "ename": "TypeError",
     "evalue": "'int' object is not callable",
     "output_type": "error",
     "traceback": [
      "\u001b[1;31m---------------------------------------------------------------------------\u001b[0m",
      "\u001b[1;31mTypeError\u001b[0m                                 Traceback (most recent call last)",
      "\u001b[1;32m<ipython-input-432-e18bead4130c>\u001b[0m in \u001b[0;36m<module>\u001b[1;34m\u001b[0m\n\u001b[0;32m      1\u001b[0m \u001b[0mmax\u001b[0m \u001b[1;33m=\u001b[0m \u001b[1;36m6\u001b[0m\u001b[1;33m\u001b[0m\u001b[1;33m\u001b[0m\u001b[0m\n\u001b[1;32m----> 2\u001b[1;33m \u001b[0mmax\u001b[0m\u001b[1;33m(\u001b[0m\u001b[1;36m2\u001b[0m\u001b[1;33m,\u001b[0m \u001b[1;36m6\u001b[0m\u001b[1;33m)\u001b[0m\u001b[1;33m\u001b[0m\u001b[1;33m\u001b[0m\u001b[0m\n\u001b[0m",
      "\u001b[1;31mTypeError\u001b[0m: 'int' object is not callable"
     ]
    }
   ],
   "source": [
    "max = 6\n",
    "max(2, 6)"
   ]
  },
  {
   "cell_type": "code",
   "execution_count": 433,
   "metadata": {},
   "outputs": [],
   "source": [
    "# This cell resets max to the built-in function. Just run this cell, don't change its contents\n",
    "import builtins\n",
    "max = builtins.max"
   ]
  },
  {
   "cell_type": "markdown",
   "metadata": {},
   "source": [
    "Why is this useful?  Since functions are just values, it's possible to pass them as arguments to other functions.  Here's a simple but not-so-practical example: we can make an array of functions."
   ]
  },
  {
   "cell_type": "markdown",
   "metadata": {},
   "source": [
    "**Question 3.1.** Make an array containing any 3 other functions you've seen.  Call it `some_functions`.\n"
   ]
  },
  {
   "cell_type": "code",
   "execution_count": 434,
   "metadata": {},
   "outputs": [],
   "source": [
    "some_functions = [max, len, min, np.average]"
   ]
  },
  {
   "cell_type": "code",
   "execution_count": 435,
   "metadata": {},
   "outputs": [
    {
     "data": {
      "text/plain": [
       "[<function max>,\n",
       " <function len(obj, /)>,\n",
       " <function min>,\n",
       " <function numpy.average(a, axis=None, weights=None, returned=False)>]"
      ]
     },
     "execution_count": 435,
     "metadata": {},
     "output_type": "execute_result"
    }
   ],
   "source": [
    "some_functions"
   ]
  },
  {
   "cell_type": "markdown",
   "metadata": {},
   "source": [
    "Working with functions as values can lead to some funny-looking code. "
   ]
  },
  {
   "cell_type": "markdown",
   "metadata": {},
   "source": [
    "A more useful example of passing functions to other functions as arguments is the table method `apply`.\n",
    "\n",
    "`apply` calls a function many times, once on *each* element in a column of a table.  It produces an *array* of the results.  Here we use `apply` to convert every CEO's pay to a number, using the function you defined:"
   ]
  },
  {
   "cell_type": "code",
   "execution_count": 436,
   "metadata": {},
   "outputs": [
    {
     "data": {
      "text/plain": [
       "0      53250000.0\n",
       "1      53240000.0\n",
       "2      44910000.0\n",
       "3      35980000.0\n",
       "4      33360000.0\n",
       "          ...    \n",
       "97       940000.0\n",
       "98       810000.0\n",
       "99        70000.0\n",
       "100       40000.0\n",
       "101           0.0\n",
       "Name: Total Pay, Length: 102, dtype: float64"
      ]
     },
     "execution_count": 436,
     "metadata": {},
     "output_type": "execute_result"
    }
   ],
   "source": [
    "raw_compensation['Total Pay'].apply(convert_pay_string_to_number)"
   ]
  },
  {
   "cell_type": "markdown",
   "metadata": {},
   "source": [
    "Here's an illustration of what that did:\n",
    "\n",
    "Note that we didn’t write `raw_compensation.apply(convert_pay_string_to_number(), “Total Pay”)` or `raw_compensation.apply(convert_pay_string_to_number(“Total Pay”))`. We just passed the name of the function, with no parentheses, to `apply`, because all we want to do is let `apply` know the name of the function we’d like to use and the name of the column we’d like to use it on. `apply` will then call the function `convert_pay_string_to_number` on each value in the column for us!\n",
    "\n",
    "**Question 3.2.** Using `apply`, make a table that's a copy of `raw_compensation` with one additional column called `Total Pay ($)`.  That column should contain the result of applying `convert_pay_string_to_number` to the `Total Pay` column (as we did above).  Call the new table `compensation`."
   ]
  },
  {
   "cell_type": "code",
   "execution_count": 437,
   "metadata": {},
   "outputs": [
    {
     "data": {
      "text/html": [
       "<div>\n",
       "<style scoped>\n",
       "    .dataframe tbody tr th:only-of-type {\n",
       "        vertical-align: middle;\n",
       "    }\n",
       "\n",
       "    .dataframe tbody tr th {\n",
       "        vertical-align: top;\n",
       "    }\n",
       "\n",
       "    .dataframe thead th {\n",
       "        text-align: right;\n",
       "    }\n",
       "</style>\n",
       "<table border=\"1\" class=\"dataframe\">\n",
       "  <thead>\n",
       "    <tr style=\"text-align: right;\">\n",
       "      <th></th>\n",
       "      <th>Rank</th>\n",
       "      <th>Name</th>\n",
       "      <th>Company (Headquarters)</th>\n",
       "      <th>Total Pay</th>\n",
       "      <th>% Change</th>\n",
       "      <th>Cash Pay</th>\n",
       "      <th>Equity Pay</th>\n",
       "      <th>Other Pay</th>\n",
       "      <th>Ratio of CEO pay to average industry worker pay</th>\n",
       "      <th>Total Pay ($)</th>\n",
       "    </tr>\n",
       "  </thead>\n",
       "  <tbody>\n",
       "    <tr>\n",
       "      <th>0</th>\n",
       "      <td>1</td>\n",
       "      <td>Mark V. Hurd*</td>\n",
       "      <td>Oracle (Redwood City)</td>\n",
       "      <td>$53.25</td>\n",
       "      <td>(No previous year)</td>\n",
       "      <td>$0.95</td>\n",
       "      <td>$52.27</td>\n",
       "      <td>$0.02</td>\n",
       "      <td>362.00000</td>\n",
       "      <td>53250000.0</td>\n",
       "    </tr>\n",
       "    <tr>\n",
       "      <th>1</th>\n",
       "      <td>2</td>\n",
       "      <td>Safra A. Catz*</td>\n",
       "      <td>Oracle (Redwood City)</td>\n",
       "      <td>$53.24</td>\n",
       "      <td>(No previous year)</td>\n",
       "      <td>$0.95</td>\n",
       "      <td>$52.27</td>\n",
       "      <td>$0.02</td>\n",
       "      <td>362.00000</td>\n",
       "      <td>53240000.0</td>\n",
       "    </tr>\n",
       "    <tr>\n",
       "      <th>2</th>\n",
       "      <td>3</td>\n",
       "      <td>Robert A. Iger</td>\n",
       "      <td>Walt Disney (Burbank)</td>\n",
       "      <td>$44.91</td>\n",
       "      <td>-3%</td>\n",
       "      <td>$24.89</td>\n",
       "      <td>$17.28</td>\n",
       "      <td>$2.74</td>\n",
       "      <td>477.00000</td>\n",
       "      <td>44910000.0</td>\n",
       "    </tr>\n",
       "    <tr>\n",
       "      <th>3</th>\n",
       "      <td>4</td>\n",
       "      <td>Marissa A. Mayer</td>\n",
       "      <td>Yahoo! (Sunnyvale)</td>\n",
       "      <td>$35.98</td>\n",
       "      <td>-15%</td>\n",
       "      <td>$1.00</td>\n",
       "      <td>$34.43</td>\n",
       "      <td>$0.55</td>\n",
       "      <td>342.00000</td>\n",
       "      <td>35980000.0</td>\n",
       "    </tr>\n",
       "    <tr>\n",
       "      <th>4</th>\n",
       "      <td>5</td>\n",
       "      <td>Marc Benioff</td>\n",
       "      <td>salesforce.com (San Francisco)</td>\n",
       "      <td>$33.36</td>\n",
       "      <td>-16%</td>\n",
       "      <td>$4.65</td>\n",
       "      <td>$27.26</td>\n",
       "      <td>$1.45</td>\n",
       "      <td>338.00000</td>\n",
       "      <td>33360000.0</td>\n",
       "    </tr>\n",
       "    <tr>\n",
       "      <th>...</th>\n",
       "      <td>...</td>\n",
       "      <td>...</td>\n",
       "      <td>...</td>\n",
       "      <td>...</td>\n",
       "      <td>...</td>\n",
       "      <td>...</td>\n",
       "      <td>...</td>\n",
       "      <td>...</td>\n",
       "      <td>...</td>\n",
       "      <td>...</td>\n",
       "    </tr>\n",
       "    <tr>\n",
       "      <th>97</th>\n",
       "      <td>98</td>\n",
       "      <td>Gregory N. Roberts</td>\n",
       "      <td>A-Mark Precious Metals (Santa Monica)</td>\n",
       "      <td>$0.94</td>\n",
       "      <td>-11%</td>\n",
       "      <td>$0.93</td>\n",
       "      <td>$0.00</td>\n",
       "      <td>$0.02</td>\n",
       "      <td>17.00000</td>\n",
       "      <td>940000.0</td>\n",
       "    </tr>\n",
       "    <tr>\n",
       "      <th>98</th>\n",
       "      <td>99</td>\n",
       "      <td>Jose L. Laparte</td>\n",
       "      <td>PriceSmart (San Diego)</td>\n",
       "      <td>$0.81</td>\n",
       "      <td>-7%</td>\n",
       "      <td>$0.71</td>\n",
       "      <td>$0.00</td>\n",
       "      <td>$0.10</td>\n",
       "      <td>32.00000</td>\n",
       "      <td>810000.0</td>\n",
       "    </tr>\n",
       "    <tr>\n",
       "      <th>99</th>\n",
       "      <td>100</td>\n",
       "      <td>Jack Dorsey</td>\n",
       "      <td>Twitter (San Francisco)</td>\n",
       "      <td>$0.07</td>\n",
       "      <td>(No previous year)</td>\n",
       "      <td>$0.00</td>\n",
       "      <td>$0.00</td>\n",
       "      <td>$0.07</td>\n",
       "      <td>0.63000</td>\n",
       "      <td>70000.0</td>\n",
       "    </tr>\n",
       "    <tr>\n",
       "      <th>100</th>\n",
       "      <td>101</td>\n",
       "      <td>Elon R. Musk</td>\n",
       "      <td>Tesla Motors (Palo Alto)</td>\n",
       "      <td>$0.04</td>\n",
       "      <td>6%</td>\n",
       "      <td>$0.04</td>\n",
       "      <td>$0.00</td>\n",
       "      <td>$0.00</td>\n",
       "      <td>0.46000</td>\n",
       "      <td>40000.0</td>\n",
       "    </tr>\n",
       "    <tr>\n",
       "      <th>101</th>\n",
       "      <td>102</td>\n",
       "      <td>Lawrence Page***</td>\n",
       "      <td>Alphabet (Mountain View)</td>\n",
       "      <td>$0.00</td>\n",
       "      <td>0%</td>\n",
       "      <td>$0.00</td>\n",
       "      <td>$0.00</td>\n",
       "      <td>$0.00</td>\n",
       "      <td>0.00001</td>\n",
       "      <td>0.0</td>\n",
       "    </tr>\n",
       "  </tbody>\n",
       "</table>\n",
       "<p>102 rows × 10 columns</p>\n",
       "</div>"
      ],
      "text/plain": [
       "     Rank                Name                 Company (Headquarters)  \\\n",
       "0       1       Mark V. Hurd*                  Oracle (Redwood City)   \n",
       "1       2      Safra A. Catz*                  Oracle (Redwood City)   \n",
       "2       3      Robert A. Iger                  Walt Disney (Burbank)   \n",
       "3       4    Marissa A. Mayer                     Yahoo! (Sunnyvale)   \n",
       "4       5        Marc Benioff         salesforce.com (San Francisco)   \n",
       "..    ...                 ...                                    ...   \n",
       "97     98  Gregory N. Roberts  A-Mark Precious Metals (Santa Monica)   \n",
       "98     99     Jose L. Laparte                 PriceSmart (San Diego)   \n",
       "99    100         Jack Dorsey                Twitter (San Francisco)   \n",
       "100   101        Elon R. Musk               Tesla Motors (Palo Alto)   \n",
       "101   102    Lawrence Page***               Alphabet (Mountain View)   \n",
       "\n",
       "    Total Pay            % Change Cash Pay Equity Pay Other Pay  \\\n",
       "0     $53.25   (No previous year)   $0.95     $52.27     $0.02    \n",
       "1     $53.24   (No previous year)   $0.95     $52.27     $0.02    \n",
       "2     $44.91                  -3%  $24.89     $17.28     $2.74    \n",
       "3     $35.98                 -15%   $1.00     $34.43     $0.55    \n",
       "4     $33.36                 -16%   $4.65     $27.26     $1.45    \n",
       "..        ...                 ...      ...        ...       ...   \n",
       "97     $0.94                 -11%   $0.93      $0.00     $0.02    \n",
       "98     $0.81                  -7%   $0.71      $0.00     $0.10    \n",
       "99     $0.07   (No previous year)   $0.00      $0.00     $0.07    \n",
       "100    $0.04                   6%   $0.04      $0.00     $0.00    \n",
       "101     $0.00                  0%    $0.00      $0.00     $0.00   \n",
       "\n",
       "     Ratio of CEO pay to average industry worker pay  Total Pay ($)  \n",
       "0                                          362.00000     53250000.0  \n",
       "1                                          362.00000     53240000.0  \n",
       "2                                          477.00000     44910000.0  \n",
       "3                                          342.00000     35980000.0  \n",
       "4                                          338.00000     33360000.0  \n",
       "..                                               ...            ...  \n",
       "97                                          17.00000       940000.0  \n",
       "98                                          32.00000       810000.0  \n",
       "99                                           0.63000        70000.0  \n",
       "100                                          0.46000        40000.0  \n",
       "101                                          0.00001            0.0  \n",
       "\n",
       "[102 rows x 10 columns]"
      ]
     },
     "execution_count": 437,
     "metadata": {},
     "output_type": "execute_result"
    }
   ],
   "source": [
    "#Now that we have all the pays as numbers, we can learn more about them through computation.\n",
    "compensation = pd.DataFrame( raw_compensation) \n",
    "compensation['Total Pay ($)'] = raw_compensation['Total Pay'].apply(convert_pay_string_to_number)\n",
    "compensation"
   ]
  },
  {
   "cell_type": "markdown",
   "metadata": {},
   "source": [
    "**Question 3.4.** Companies pay executives in a variety of ways: in cash, by granting stock or other equity in the company, or with ancillary benefits (like private jets).  Compute the proportion of each CEO's pay that was cash.  (Your answer should be an array of numbers, one for each CEO in the dataset.)\n",
    "\n",
    "*Note:* When you answer this question, you'll encounter a red box appearing below your code cell that says something like `RuntimeWarning: invalid value encountered in true_divide`. Don't worry too much about the message. Warnings are raised by Python when it encounters an unusual condition in your code, but the condition is not severe enough to warrant throwing an error. \n",
    "\n",
    "The warning below is Python's cryptic way of telling you that you're dividing a number by zero. If you extract the values in `Total Pay ($)` as an array, you'll see that the last element is 0."
   ]
  },
  {
   "cell_type": "code",
   "execution_count": 438,
   "metadata": {},
   "outputs": [
    {
     "data": {
      "text/plain": [
       "0        950000.0\n",
       "1        950000.0\n",
       "2      24890000.0\n",
       "3       1000000.0\n",
       "4       4650000.0\n",
       "          ...    \n",
       "97       930000.0\n",
       "98       710000.0\n",
       "99            0.0\n",
       "100       40000.0\n",
       "101           0.0\n",
       "Name: Cash Pay, Length: 102, dtype: float64"
      ]
     },
     "execution_count": 438,
     "metadata": {},
     "output_type": "execute_result"
    }
   ],
   "source": [
    "cash_proportion = compensation['Cash Pay'].apply(convert_pay_string_to_number)\n",
    "cash_proportion"
   ]
  },
  {
   "cell_type": "markdown",
   "metadata": {},
   "source": [
    "Check out the `% Change` column in `compensation`.  It shows the percentage increase in the CEO's pay from the previous year.  For CEOs with no previous year on record, it instead says \"(No previous year)\".  The values in this column are *strings*, not numbers, so like the `Total Pay` column, it's not usable without a bit of extra work.\n",
    "\n",
    "Given your current pay and the percentage increase from the previous year, you can compute your previous year's pay.  For example, if your pay is $\\$120$ this year, and that's an increase of 50% from the previous year, then your previous year's pay was $\\frac{\\$120}{1 + \\frac{50}{100}}$, or \\$80.\n",
    "\n",
    "**Question 3.5.** Create a new dataframe called `with_previous_compensation`.  It should be a copy of `compensation`, but with the \"(No previous year)\" CEOs filtered out, and with an extra column called `2014 Total Pay ($)`.  That column should have each CEO's pay in 2014.\n",
    "\n",
    "*Hint 1:* You can print out your results after each step to make sure you're on the right track.\n",
    "\n",
    "*Hint 2:* Whats provided below is a structure that you can use to get to the answer. However, if it's confusing, feel free to delete the current structure and approach the problem your own way!"
   ]
  },
  {
   "cell_type": "code",
   "execution_count": 439,
   "metadata": {},
   "outputs": [],
   "source": [
    "#Creating a newdataframe with_previous_ith the \"(No previous year)\" CEOs filtered out\n",
    "with_previous_compensation=pd.DataFrame(compensation) \n"
   ]
  },
  {
   "cell_type": "code",
   "execution_count": 440,
   "metadata": {},
   "outputs": [
    {
     "data": {
      "text/html": [
       "<div>\n",
       "<style scoped>\n",
       "    .dataframe tbody tr th:only-of-type {\n",
       "        vertical-align: middle;\n",
       "    }\n",
       "\n",
       "    .dataframe tbody tr th {\n",
       "        vertical-align: top;\n",
       "    }\n",
       "\n",
       "    .dataframe thead th {\n",
       "        text-align: right;\n",
       "    }\n",
       "</style>\n",
       "<table border=\"1\" class=\"dataframe\">\n",
       "  <thead>\n",
       "    <tr style=\"text-align: right;\">\n",
       "      <th></th>\n",
       "      <th>Rank</th>\n",
       "      <th>Name</th>\n",
       "      <th>Company (Headquarters)</th>\n",
       "      <th>Total Pay</th>\n",
       "      <th>% Change</th>\n",
       "      <th>Cash Pay</th>\n",
       "      <th>Equity Pay</th>\n",
       "      <th>Other Pay</th>\n",
       "      <th>Ratio of CEO pay to average industry worker pay</th>\n",
       "      <th>Total Pay ($)</th>\n",
       "    </tr>\n",
       "  </thead>\n",
       "  <tbody>\n",
       "    <tr>\n",
       "      <th>0</th>\n",
       "      <td>1</td>\n",
       "      <td>Mark V. Hurd*</td>\n",
       "      <td>Oracle (Redwood City)</td>\n",
       "      <td>$53.25</td>\n",
       "      <td>(No previous year)</td>\n",
       "      <td>$0.95</td>\n",
       "      <td>$52.27</td>\n",
       "      <td>$0.02</td>\n",
       "      <td>362.00000</td>\n",
       "      <td>53250000.0</td>\n",
       "    </tr>\n",
       "    <tr>\n",
       "      <th>1</th>\n",
       "      <td>2</td>\n",
       "      <td>Safra A. Catz*</td>\n",
       "      <td>Oracle (Redwood City)</td>\n",
       "      <td>$53.24</td>\n",
       "      <td>(No previous year)</td>\n",
       "      <td>$0.95</td>\n",
       "      <td>$52.27</td>\n",
       "      <td>$0.02</td>\n",
       "      <td>362.00000</td>\n",
       "      <td>53240000.0</td>\n",
       "    </tr>\n",
       "    <tr>\n",
       "      <th>2</th>\n",
       "      <td>3</td>\n",
       "      <td>Robert A. Iger</td>\n",
       "      <td>Walt Disney (Burbank)</td>\n",
       "      <td>$44.91</td>\n",
       "      <td>-3%</td>\n",
       "      <td>$24.89</td>\n",
       "      <td>$17.28</td>\n",
       "      <td>$2.74</td>\n",
       "      <td>477.00000</td>\n",
       "      <td>44910000.0</td>\n",
       "    </tr>\n",
       "    <tr>\n",
       "      <th>3</th>\n",
       "      <td>4</td>\n",
       "      <td>Marissa A. Mayer</td>\n",
       "      <td>Yahoo! (Sunnyvale)</td>\n",
       "      <td>$35.98</td>\n",
       "      <td>-15%</td>\n",
       "      <td>$1.00</td>\n",
       "      <td>$34.43</td>\n",
       "      <td>$0.55</td>\n",
       "      <td>342.00000</td>\n",
       "      <td>35980000.0</td>\n",
       "    </tr>\n",
       "    <tr>\n",
       "      <th>4</th>\n",
       "      <td>5</td>\n",
       "      <td>Marc Benioff</td>\n",
       "      <td>salesforce.com (San Francisco)</td>\n",
       "      <td>$33.36</td>\n",
       "      <td>-16%</td>\n",
       "      <td>$4.65</td>\n",
       "      <td>$27.26</td>\n",
       "      <td>$1.45</td>\n",
       "      <td>338.00000</td>\n",
       "      <td>33360000.0</td>\n",
       "    </tr>\n",
       "    <tr>\n",
       "      <th>...</th>\n",
       "      <td>...</td>\n",
       "      <td>...</td>\n",
       "      <td>...</td>\n",
       "      <td>...</td>\n",
       "      <td>...</td>\n",
       "      <td>...</td>\n",
       "      <td>...</td>\n",
       "      <td>...</td>\n",
       "      <td>...</td>\n",
       "      <td>...</td>\n",
       "    </tr>\n",
       "    <tr>\n",
       "      <th>97</th>\n",
       "      <td>98</td>\n",
       "      <td>Gregory N. Roberts</td>\n",
       "      <td>A-Mark Precious Metals (Santa Monica)</td>\n",
       "      <td>$0.94</td>\n",
       "      <td>-11%</td>\n",
       "      <td>$0.93</td>\n",
       "      <td>$0.00</td>\n",
       "      <td>$0.02</td>\n",
       "      <td>17.00000</td>\n",
       "      <td>940000.0</td>\n",
       "    </tr>\n",
       "    <tr>\n",
       "      <th>98</th>\n",
       "      <td>99</td>\n",
       "      <td>Jose L. Laparte</td>\n",
       "      <td>PriceSmart (San Diego)</td>\n",
       "      <td>$0.81</td>\n",
       "      <td>-7%</td>\n",
       "      <td>$0.71</td>\n",
       "      <td>$0.00</td>\n",
       "      <td>$0.10</td>\n",
       "      <td>32.00000</td>\n",
       "      <td>810000.0</td>\n",
       "    </tr>\n",
       "    <tr>\n",
       "      <th>99</th>\n",
       "      <td>100</td>\n",
       "      <td>Jack Dorsey</td>\n",
       "      <td>Twitter (San Francisco)</td>\n",
       "      <td>$0.07</td>\n",
       "      <td>(No previous year)</td>\n",
       "      <td>$0.00</td>\n",
       "      <td>$0.00</td>\n",
       "      <td>$0.07</td>\n",
       "      <td>0.63000</td>\n",
       "      <td>70000.0</td>\n",
       "    </tr>\n",
       "    <tr>\n",
       "      <th>100</th>\n",
       "      <td>101</td>\n",
       "      <td>Elon R. Musk</td>\n",
       "      <td>Tesla Motors (Palo Alto)</td>\n",
       "      <td>$0.04</td>\n",
       "      <td>6%</td>\n",
       "      <td>$0.04</td>\n",
       "      <td>$0.00</td>\n",
       "      <td>$0.00</td>\n",
       "      <td>0.46000</td>\n",
       "      <td>40000.0</td>\n",
       "    </tr>\n",
       "    <tr>\n",
       "      <th>101</th>\n",
       "      <td>102</td>\n",
       "      <td>Lawrence Page***</td>\n",
       "      <td>Alphabet (Mountain View)</td>\n",
       "      <td>$0.00</td>\n",
       "      <td>0%</td>\n",
       "      <td>$0.00</td>\n",
       "      <td>$0.00</td>\n",
       "      <td>$0.00</td>\n",
       "      <td>0.00001</td>\n",
       "      <td>0.0</td>\n",
       "    </tr>\n",
       "  </tbody>\n",
       "</table>\n",
       "<p>102 rows × 10 columns</p>\n",
       "</div>"
      ],
      "text/plain": [
       "     Rank                Name                 Company (Headquarters)  \\\n",
       "0       1       Mark V. Hurd*                  Oracle (Redwood City)   \n",
       "1       2      Safra A. Catz*                  Oracle (Redwood City)   \n",
       "2       3      Robert A. Iger                  Walt Disney (Burbank)   \n",
       "3       4    Marissa A. Mayer                     Yahoo! (Sunnyvale)   \n",
       "4       5        Marc Benioff         salesforce.com (San Francisco)   \n",
       "..    ...                 ...                                    ...   \n",
       "97     98  Gregory N. Roberts  A-Mark Precious Metals (Santa Monica)   \n",
       "98     99     Jose L. Laparte                 PriceSmart (San Diego)   \n",
       "99    100         Jack Dorsey                Twitter (San Francisco)   \n",
       "100   101        Elon R. Musk               Tesla Motors (Palo Alto)   \n",
       "101   102    Lawrence Page***               Alphabet (Mountain View)   \n",
       "\n",
       "    Total Pay            % Change Cash Pay Equity Pay Other Pay  \\\n",
       "0     $53.25   (No previous year)   $0.95     $52.27     $0.02    \n",
       "1     $53.24   (No previous year)   $0.95     $52.27     $0.02    \n",
       "2     $44.91                  -3%  $24.89     $17.28     $2.74    \n",
       "3     $35.98                 -15%   $1.00     $34.43     $0.55    \n",
       "4     $33.36                 -16%   $4.65     $27.26     $1.45    \n",
       "..        ...                 ...      ...        ...       ...   \n",
       "97     $0.94                 -11%   $0.93      $0.00     $0.02    \n",
       "98     $0.81                  -7%   $0.71      $0.00     $0.10    \n",
       "99     $0.07   (No previous year)   $0.00      $0.00     $0.07    \n",
       "100    $0.04                   6%   $0.04      $0.00     $0.00    \n",
       "101     $0.00                  0%    $0.00      $0.00     $0.00   \n",
       "\n",
       "     Ratio of CEO pay to average industry worker pay  Total Pay ($)  \n",
       "0                                          362.00000     53250000.0  \n",
       "1                                          362.00000     53240000.0  \n",
       "2                                          477.00000     44910000.0  \n",
       "3                                          342.00000     35980000.0  \n",
       "4                                          338.00000     33360000.0  \n",
       "..                                               ...            ...  \n",
       "97                                          17.00000       940000.0  \n",
       "98                                          32.00000       810000.0  \n",
       "99                                           0.63000        70000.0  \n",
       "100                                          0.46000        40000.0  \n",
       "101                                          0.00001            0.0  \n",
       "\n",
       "[102 rows x 10 columns]"
      ]
     },
     "execution_count": 440,
     "metadata": {},
     "output_type": "execute_result"
    }
   ],
   "source": [
    "with_previous_compensation = raw_compensation[~raw_compensation['% Change'].str.contains('|'.join('No previous year'))]\n",
    "raw_compensation"
   ]
  },
  {
   "cell_type": "code",
   "execution_count": 441,
   "metadata": {},
   "outputs": [],
   "source": [
    "def percent_string_to_num(percent_string):\n",
    "    \"\"\"Converts a percentage string to a number.\"\"\"\n",
    "    return float(percent_string.strip(\"%\"))"
   ]
  },
  {
   "cell_type": "code",
   "execution_count": 442,
   "metadata": {},
   "outputs": [],
   "source": [
    "percent_changes = with_previous_compensation['% Change'].apply(percent_string_to_num)"
   ]
  },
  {
   "cell_type": "code",
   "execution_count": 443,
   "metadata": {},
   "outputs": [
    {
     "data": {
      "text/plain": [
       "2      4.629897e+07\n",
       "3      4.232941e+07\n",
       "4      3.971429e+07\n",
       "5      2.587500e+07\n",
       "6      2.592941e+07\n",
       "           ...     \n",
       "96     4.500000e+06\n",
       "97     1.056180e+06\n",
       "98     8.709677e+05\n",
       "100    3.773585e+04\n",
       "101    0.000000e+00\n",
       "Length: 81, dtype: float64"
      ]
     },
     "execution_count": 443,
     "metadata": {},
     "output_type": "execute_result"
    }
   ],
   "source": [
    "#Calculating salary for 2014\n",
    "TotalPaynee = with_previous_compensation['Total Pay ($)']/(1 + percent_changes*0.01)\n",
    "TotalPaynee"
   ]
  },
  {
   "cell_type": "code",
   "execution_count": 444,
   "metadata": {},
   "outputs": [
    {
     "data": {
      "text/html": [
       "<div>\n",
       "<style scoped>\n",
       "    .dataframe tbody tr th:only-of-type {\n",
       "        vertical-align: middle;\n",
       "    }\n",
       "\n",
       "    .dataframe tbody tr th {\n",
       "        vertical-align: top;\n",
       "    }\n",
       "\n",
       "    .dataframe thead th {\n",
       "        text-align: right;\n",
       "    }\n",
       "</style>\n",
       "<table border=\"1\" class=\"dataframe\">\n",
       "  <thead>\n",
       "    <tr style=\"text-align: right;\">\n",
       "      <th></th>\n",
       "      <th>Rank</th>\n",
       "      <th>Name</th>\n",
       "      <th>Company (Headquarters)</th>\n",
       "      <th>Total Pay</th>\n",
       "      <th>% Change</th>\n",
       "      <th>Cash Pay</th>\n",
       "      <th>Equity Pay</th>\n",
       "      <th>Other Pay</th>\n",
       "      <th>Ratio of CEO pay to average industry worker pay</th>\n",
       "      <th>Total Pay ($)</th>\n",
       "      <th>2014 Total Pay ($)</th>\n",
       "    </tr>\n",
       "  </thead>\n",
       "  <tbody>\n",
       "    <tr>\n",
       "      <th>2</th>\n",
       "      <td>3</td>\n",
       "      <td>Robert A. Iger</td>\n",
       "      <td>Walt Disney (Burbank)</td>\n",
       "      <td>$44.91</td>\n",
       "      <td>-3%</td>\n",
       "      <td>$24.89</td>\n",
       "      <td>$17.28</td>\n",
       "      <td>$2.74</td>\n",
       "      <td>477.00000</td>\n",
       "      <td>44910000.0</td>\n",
       "      <td>4.629897e+07</td>\n",
       "    </tr>\n",
       "    <tr>\n",
       "      <th>3</th>\n",
       "      <td>4</td>\n",
       "      <td>Marissa A. Mayer</td>\n",
       "      <td>Yahoo! (Sunnyvale)</td>\n",
       "      <td>$35.98</td>\n",
       "      <td>-15%</td>\n",
       "      <td>$1.00</td>\n",
       "      <td>$34.43</td>\n",
       "      <td>$0.55</td>\n",
       "      <td>342.00000</td>\n",
       "      <td>35980000.0</td>\n",
       "      <td>4.232941e+07</td>\n",
       "    </tr>\n",
       "    <tr>\n",
       "      <th>4</th>\n",
       "      <td>5</td>\n",
       "      <td>Marc Benioff</td>\n",
       "      <td>salesforce.com (San Francisco)</td>\n",
       "      <td>$33.36</td>\n",
       "      <td>-16%</td>\n",
       "      <td>$4.65</td>\n",
       "      <td>$27.26</td>\n",
       "      <td>$1.45</td>\n",
       "      <td>338.00000</td>\n",
       "      <td>33360000.0</td>\n",
       "      <td>3.971429e+07</td>\n",
       "    </tr>\n",
       "    <tr>\n",
       "      <th>5</th>\n",
       "      <td>6</td>\n",
       "      <td>John H. Hammergren</td>\n",
       "      <td>McKesson (San Francisco)</td>\n",
       "      <td>$24.84</td>\n",
       "      <td>-4%</td>\n",
       "      <td>$12.10</td>\n",
       "      <td>$12.37</td>\n",
       "      <td>$0.37</td>\n",
       "      <td>222.00000</td>\n",
       "      <td>24840000.0</td>\n",
       "      <td>2.587500e+07</td>\n",
       "    </tr>\n",
       "    <tr>\n",
       "      <th>6</th>\n",
       "      <td>7</td>\n",
       "      <td>John S. Watson</td>\n",
       "      <td>Chevron (San Ramon)</td>\n",
       "      <td>$22.04</td>\n",
       "      <td>-15%</td>\n",
       "      <td>$4.31</td>\n",
       "      <td>$14.68</td>\n",
       "      <td>$3.05</td>\n",
       "      <td>183.00000</td>\n",
       "      <td>22040000.0</td>\n",
       "      <td>2.592941e+07</td>\n",
       "    </tr>\n",
       "    <tr>\n",
       "      <th>...</th>\n",
       "      <td>...</td>\n",
       "      <td>...</td>\n",
       "      <td>...</td>\n",
       "      <td>...</td>\n",
       "      <td>...</td>\n",
       "      <td>...</td>\n",
       "      <td>...</td>\n",
       "      <td>...</td>\n",
       "      <td>...</td>\n",
       "      <td>...</td>\n",
       "      <td>...</td>\n",
       "    </tr>\n",
       "    <tr>\n",
       "      <th>96</th>\n",
       "      <td>97</td>\n",
       "      <td>David G. Hirz</td>\n",
       "      <td>Smartæ&amp; Final Stores (Commerce)</td>\n",
       "      <td>$1.53</td>\n",
       "      <td>-66%</td>\n",
       "      <td>$1.50</td>\n",
       "      <td>$0.00</td>\n",
       "      <td>$0.04</td>\n",
       "      <td>26.00000</td>\n",
       "      <td>1530000.0</td>\n",
       "      <td>4.500000e+06</td>\n",
       "    </tr>\n",
       "    <tr>\n",
       "      <th>97</th>\n",
       "      <td>98</td>\n",
       "      <td>Gregory N. Roberts</td>\n",
       "      <td>A-Mark Precious Metals (Santa Monica)</td>\n",
       "      <td>$0.94</td>\n",
       "      <td>-11%</td>\n",
       "      <td>$0.93</td>\n",
       "      <td>$0.00</td>\n",
       "      <td>$0.02</td>\n",
       "      <td>17.00000</td>\n",
       "      <td>940000.0</td>\n",
       "      <td>1.056180e+06</td>\n",
       "    </tr>\n",
       "    <tr>\n",
       "      <th>98</th>\n",
       "      <td>99</td>\n",
       "      <td>Jose L. Laparte</td>\n",
       "      <td>PriceSmart (San Diego)</td>\n",
       "      <td>$0.81</td>\n",
       "      <td>-7%</td>\n",
       "      <td>$0.71</td>\n",
       "      <td>$0.00</td>\n",
       "      <td>$0.10</td>\n",
       "      <td>32.00000</td>\n",
       "      <td>810000.0</td>\n",
       "      <td>8.709677e+05</td>\n",
       "    </tr>\n",
       "    <tr>\n",
       "      <th>100</th>\n",
       "      <td>101</td>\n",
       "      <td>Elon R. Musk</td>\n",
       "      <td>Tesla Motors (Palo Alto)</td>\n",
       "      <td>$0.04</td>\n",
       "      <td>6%</td>\n",
       "      <td>$0.04</td>\n",
       "      <td>$0.00</td>\n",
       "      <td>$0.00</td>\n",
       "      <td>0.46000</td>\n",
       "      <td>40000.0</td>\n",
       "      <td>3.773585e+04</td>\n",
       "    </tr>\n",
       "    <tr>\n",
       "      <th>101</th>\n",
       "      <td>102</td>\n",
       "      <td>Lawrence Page***</td>\n",
       "      <td>Alphabet (Mountain View)</td>\n",
       "      <td>$0.00</td>\n",
       "      <td>0%</td>\n",
       "      <td>$0.00</td>\n",
       "      <td>$0.00</td>\n",
       "      <td>$0.00</td>\n",
       "      <td>0.00001</td>\n",
       "      <td>0.0</td>\n",
       "      <td>0.000000e+00</td>\n",
       "    </tr>\n",
       "  </tbody>\n",
       "</table>\n",
       "<p>81 rows × 11 columns</p>\n",
       "</div>"
      ],
      "text/plain": [
       "     Rank                Name                 Company (Headquarters)  \\\n",
       "2       3      Robert A. Iger                  Walt Disney (Burbank)   \n",
       "3       4    Marissa A. Mayer                     Yahoo! (Sunnyvale)   \n",
       "4       5        Marc Benioff         salesforce.com (San Francisco)   \n",
       "5       6  John H. Hammergren               McKesson (San Francisco)   \n",
       "6       7      John S. Watson                    Chevron (San Ramon)   \n",
       "..    ...                 ...                                    ...   \n",
       "96     97       David G. Hirz        Smartæ& Final Stores (Commerce)   \n",
       "97     98  Gregory N. Roberts  A-Mark Precious Metals (Santa Monica)   \n",
       "98     99     Jose L. Laparte                 PriceSmart (San Diego)   \n",
       "100   101        Elon R. Musk               Tesla Motors (Palo Alto)   \n",
       "101   102    Lawrence Page***               Alphabet (Mountain View)   \n",
       "\n",
       "    Total Pay % Change Cash Pay Equity Pay Other Pay  \\\n",
       "2     $44.91       -3%  $24.89     $17.28     $2.74    \n",
       "3     $35.98      -15%   $1.00     $34.43     $0.55    \n",
       "4     $33.36      -16%   $4.65     $27.26     $1.45    \n",
       "5     $24.84       -4%  $12.10     $12.37     $0.37    \n",
       "6     $22.04      -15%   $4.31     $14.68     $3.05    \n",
       "..        ...      ...      ...        ...       ...   \n",
       "96     $1.53      -66%   $1.50      $0.00     $0.04    \n",
       "97     $0.94      -11%   $0.93      $0.00     $0.02    \n",
       "98     $0.81       -7%   $0.71      $0.00     $0.10    \n",
       "100    $0.04        6%   $0.04      $0.00     $0.00    \n",
       "101     $0.00       0%    $0.00      $0.00     $0.00   \n",
       "\n",
       "     Ratio of CEO pay to average industry worker pay  Total Pay ($)  \\\n",
       "2                                          477.00000     44910000.0   \n",
       "3                                          342.00000     35980000.0   \n",
       "4                                          338.00000     33360000.0   \n",
       "5                                          222.00000     24840000.0   \n",
       "6                                          183.00000     22040000.0   \n",
       "..                                               ...            ...   \n",
       "96                                          26.00000      1530000.0   \n",
       "97                                          17.00000       940000.0   \n",
       "98                                          32.00000       810000.0   \n",
       "100                                          0.46000        40000.0   \n",
       "101                                          0.00001            0.0   \n",
       "\n",
       "     2014 Total Pay ($)  \n",
       "2          4.629897e+07  \n",
       "3          4.232941e+07  \n",
       "4          3.971429e+07  \n",
       "5          2.587500e+07  \n",
       "6          2.592941e+07  \n",
       "..                  ...  \n",
       "96         4.500000e+06  \n",
       "97         1.056180e+06  \n",
       "98         8.709677e+05  \n",
       "100        3.773585e+04  \n",
       "101        0.000000e+00  \n",
       "\n",
       "[81 rows x 11 columns]"
      ]
     },
     "execution_count": 444,
     "metadata": {},
     "output_type": "execute_result"
    }
   ],
   "source": [
    "#Adding 2014 salary into datasheet\n",
    "with_new_compensation = pd.DataFrame( with_previous_compensation) \n",
    "with_new_compensation['2014 Total Pay ($)'] = TotalPaynee\n",
    "with_new_compensation"
   ]
  },
  {
   "cell_type": "code",
   "execution_count": 445,
   "metadata": {},
   "outputs": [
    {
     "data": {
      "text/plain": [
       "11649176.115603436"
      ]
     },
     "execution_count": 445,
     "metadata": {},
     "output_type": "execute_result"
    }
   ],
   "source": [
    "average_pay_2014 = np.average(with_previous_compensation['2014 Total Pay ($)'])\n",
    "average_pay_2014"
   ]
  },
  {
   "cell_type": "markdown",
   "metadata": {},
   "source": [
    "**Why is `apply` useful?**\n",
    "\n",
    "For operations like arithmetic, or the functions in the NumPy library, you don't need to use `apply`, because they automatically work on each element of an array.  But there are many things that don't.  The string manipulation we did in today's lab is one example.  Since you can write any code you want in a function, `apply` gives you total control over how you operate on data."
   ]
  },
  {
   "cell_type": "markdown",
   "metadata": {},
   "source": [
    "## 4. Histograms\n",
    "Earlier, we computed the average pay among the CEOs in our 102-CEO dataset.  The average doesn't tell us everything about the amounts CEOs are paid, though.  Maybe just a few CEOs make the bulk of the money, even among these 102.\n",
    "\n",
    "We can use a *histogram* method to display the *distribution* of a set of numbers.  The table method `hist` takes a single argument, the name of a column of numbers.  It produces a histogram of the numbers in that column.\n",
    "\n",
    "**Question 4.1.** Make a histogram of the total pay of the CEOs in `compensation`. Check with your neighbor or a staff member to make sure you have the right plot."
   ]
  },
  {
   "cell_type": "code",
   "execution_count": 446,
   "metadata": {},
   "outputs": [
    {
     "data": {
      "text/plain": [
       "Ellipsis"
      ]
     },
     "execution_count": 446,
     "metadata": {},
     "output_type": "execute_result"
    }
   ],
   "source": [
    "num_ceos_more_than_30_million_2 = ...\n",
    "num_ceos_more_than_30_million_2"
   ]
  },
  {
   "cell_type": "code",
   "execution_count": 447,
   "metadata": {},
   "outputs": [
    {
     "data": {
      "text/plain": [
       "array([[<matplotlib.axes._subplots.AxesSubplot object at 0x0000022812559B80>]],\n",
       "      dtype=object)"
      ]
     },
     "execution_count": 447,
     "metadata": {},
     "output_type": "execute_result"
    },
    {
     "data": {
      "image/png": "[encoded data removed]",
      "text/plain": [
       "<Figure size 432x288 with 1 Axes>"
      ]
     },
     "metadata": {},
     "output_type": "display_data"
    }
   ],
   "source": [
    "compensation = pd.DataFrame( compensation) \n",
    "#df.compensation['Total_Payn']\n",
    "compensation.hist(column='Total Pay ($)')"
   ]
  },
  {
   "cell_type": "markdown",
   "metadata": {},
   "source": [
    "**Question 4.2.** How many CEOs made more than $30 million in total pay? Find the value using code, then check that the value you found is consistent with what you see in the histogram."
   ]
  },
  {
   "cell_type": "code",
   "execution_count": 448,
   "metadata": {},
   "outputs": [
    {
     "data": {
      "text/plain": [
       "5"
      ]
     },
     "execution_count": 448,
     "metadata": {},
     "output_type": "execute_result"
    }
   ],
   "source": [
    "num_ceos_more_than_30_million_2 = compensation[compensation['Total Pay ($)'] >30 * 10**6]['Name'].count()\n",
    "num_ceos_more_than_30_million_2\n"
   ]
  }
 ],
 "metadata": {
  "kernelspec": {
   "display_name": "Python 3",
   "language": "python",
   "name": "python3"
  },
  "language_info": {
   "codemirror_mode": {
    "name": "ipython",
    "version": 3
   },
   "file_extension": ".py",
   "mimetype": "text/x-python",
   "name": "python",
   "nbconvert_exporter": "python",
   "pygments_lexer": "ipython3",
   "version": "3.8.3"
  }
 },
 "nbformat": 4,
 "nbformat_minor": 2
}

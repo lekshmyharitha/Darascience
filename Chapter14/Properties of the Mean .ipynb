{
 "cells": [
  {
   "cell_type": "markdown",
   "metadata": {},
   "source": [
    "## Properties of the Mean \n",
    "In this course, we have used the words \"average\" and \"mean\" interchangeably, and will continue to do so. The definition of the mean will be familiar to you from your high school days or even earlier.\n",
    "\n",
    "Definition. The average or mean of a collection of numbers is the sum of all the elements of the collection, divided by the number of elements in the collection.\n",
    "\n",
    "The methods np.average and np.mean return the mean of an array."
   ]
  },
  {
   "cell_type": "code",
   "execution_count": 1,
   "metadata": {},
   "outputs": [],
   "source": [
    "import  pandas as pd\n",
    "import numpy as np\n",
    "import matplotlib.ticker as tick\n",
    "import matplotlib.pyplot as plt\n",
    "import pylab as pl\n",
    "import matplotlib.patches as mpatches"
   ]
  },
  {
   "cell_type": "code",
   "execution_count": 2,
   "metadata": {},
   "outputs": [],
   "source": [
    "not_symmetric = np.array([2, 3, 3, 9])"
   ]
  },
  {
   "cell_type": "code",
   "execution_count": 3,
   "metadata": {},
   "outputs": [
    {
     "data": {
      "text/plain": [
       "4.25"
      ]
     },
     "execution_count": 3,
     "metadata": {},
     "output_type": "execute_result"
    }
   ],
   "source": [
    "np.average(not_symmetric)"
   ]
  },
  {
   "cell_type": "code",
   "execution_count": 4,
   "metadata": {},
   "outputs": [
    {
     "data": {
      "text/plain": [
       "4.25"
      ]
     },
     "execution_count": 4,
     "metadata": {},
     "output_type": "execute_result"
    }
   ],
   "source": [
    "np.mean(not_symmetric)"
   ]
  },
  {
   "cell_type": "code",
   "execution_count": null,
   "metadata": {},
   "outputs": [],
   "source": []
  },
  {
   "cell_type": "markdown",
   "metadata": {},
   "source": [
    "## Basic Properties \n",
    "\n",
    "The definition and the example above point to some properties of the mean.\n",
    "It need not be an element of the collection.\n",
    "It need not be an integer even if all the elements of the collection are integers.\n",
    "It is somewhere between the smallest and largest values in the collection.\n",
    "It need not be halfway between the two extremes; it is not in general true that half the elements in a collection are above the mean.\n",
    "If the collection consists of values of a variable measured in specified units, then the mean has the same units too.\n",
    "We will now study some other properties that are helpful in understanding the mean and its relation to other statistics.\n",
    "\n"
   ]
  },
  {
   "cell_type": "markdown",
   "metadata": {},
   "source": [
    "The Mean is a \"Smoother\" \n",
    "You can think of taking the mean as an \"equalizing\" or \"smoothing\" operation. For example, imagine the entries in not_symmetric above as the dollars in the pockets of four different people. To get the mean, you first put all of the money into one big pot and then divide it evenly among the four people. They had started out with different amounts of money in their pockets ($2, $3, $3, and $9), but now each person has $4.25, the mean amount.\n",
    "\n"
   ]
  },
  {
   "cell_type": "markdown",
   "metadata": {},
   "source": [
    "Proportions are Means \n",
    "If a collection consists only of ones and zeroes, then the sum of the collection is the number of ones in it, and the mean of the collection is the proportion of ones."
   ]
  },
  {
   "cell_type": "code",
   "execution_count": 5,
   "metadata": {},
   "outputs": [
    {
     "data": {
      "text/plain": [
       "3"
      ]
     },
     "execution_count": 5,
     "metadata": {},
     "output_type": "execute_result"
    }
   ],
   "source": [
    "zero_one = np.array([1, 1, 1, 0])\n",
    "sum(zero_one)"
   ]
  },
  {
   "cell_type": "code",
   "execution_count": 6,
   "metadata": {},
   "outputs": [
    {
     "data": {
      "text/plain": [
       "0.75"
      ]
     },
     "execution_count": 6,
     "metadata": {},
     "output_type": "execute_result"
    }
   ],
   "source": [
    "np.mean(zero_one)"
   ]
  },
  {
   "cell_type": "markdown",
   "metadata": {},
   "source": [
    "You can replace 1 by the Boolean True and 0 by False:"
   ]
  },
  {
   "cell_type": "code",
   "execution_count": 7,
   "metadata": {},
   "outputs": [
    {
     "data": {
      "text/plain": [
       "0.75"
      ]
     },
     "execution_count": 7,
     "metadata": {},
     "output_type": "execute_result"
    }
   ],
   "source": [
    "np.mean(np.array([True, True, True, False]))"
   ]
  },
  {
   "cell_type": "markdown",
   "metadata": {},
   "source": [
    "Because proportions are a special case of means, results about random sample means apply to random sample proportions as well.\n",
    "\n"
   ]
  },
  {
   "cell_type": "markdown",
   "metadata": {},
   "source": [
    "## The Mean and the Histogram \n",
    "The mean of the collection {2, 3, 3, 9} is 4.25, which is not the \"halfway point\" of the data. So then what does the mean measure?\n",
    "\n",
    "To see this, notice that the mean can be calculated in different ways."
   ]
  },
  {
   "cell_type": "markdown",
   "metadata": {},
   "source": [
    "The last expression is an example of a general fact: when we calculate the mean, each distinct value in the collection is weighted by the proportion of times it appears in the collection.\n",
    "\n",
    "This has an important consequence. The mean of a collection depends only on the distinct values and their proportions, not on the number of elements in the collection. In other words, the mean of a collection depends only on the distribution of values in the collection.\n",
    "\n",
    "Therefore, if two collections have the same distribution, then they have the same mean.\n",
    "\n",
    "For example, here is another collection that has the same distribution as not_symmetric and hence the same mean."
   ]
  },
  {
   "cell_type": "code",
   "execution_count": 8,
   "metadata": {},
   "outputs": [
    {
     "data": {
      "text/plain": [
       "array([2, 3, 3, 9])"
      ]
     },
     "execution_count": 8,
     "metadata": {},
     "output_type": "execute_result"
    }
   ],
   "source": [
    "not_symmetric"
   ]
  },
  {
   "cell_type": "code",
   "execution_count": 9,
   "metadata": {},
   "outputs": [
    {
     "data": {
      "text/plain": [
       "4.25"
      ]
     },
     "execution_count": 9,
     "metadata": {},
     "output_type": "execute_result"
    }
   ],
   "source": [
    "same_distribution = np.array([2, 2, 3, 3, 3, 3, 9, 9])\n",
    "np.mean(same_distribution)"
   ]
  },
  {
   "cell_type": "markdown",
   "metadata": {},
   "source": [
    "The mean is a physical attribute of the histogram of the distribution. Here is the histogram of the distribution of not_symmetric or equivalently the distribution of same_distribution."
   ]
  },
  {
   "cell_type": "code",
   "execution_count": 10,
   "metadata": {},
   "outputs": [
    {
     "data": {
      "image/png": "[encoded data removed]",
      "text/plain": [
       "<Figure size 432x288 with 1 Axes>"
      ]
     },
     "metadata": {
      "needs_background": "light"
     },
     "output_type": "display_data"
    }
   ],
   "source": [
    "plt.hist(not_symmetric,density=True)\n",
    "plt.xlabel(\"non symmetric\")\n",
    "plt.ylabel(\"same distribution\")\n",
    "plt.grid()"
   ]
  },
  {
   "cell_type": "markdown",
   "metadata": {},
   "source": [
    "Imagine the histogram as a figure made out of cardboard attached to a wire that runs along the horizontal axis, and imagine the bars as weights attached at the values 2, 3, and 9. Suppose you try to balance this figure on a point on the wire. If the point is near 2, the figure will tip over to the right. If the point is near 9, the figure will tip over to the left. Somewhere in between is the point where the figure will balance; that point is the 4.25, the mean.\n",
    "\n",
    "The mean is the center of gravity or balance point of the histogram.\n",
    "\n",
    "To understand why that is, it helps to know some physics. The center of gravity is calculated exactly as we calculated the mean, by using the distinct values weighted by their proportions.\n",
    "\n",
    "Because the mean is a balance point, it is sometimes displayed as a fulcrum or triangle at the base of the histogram."
   ]
  },
  {
   "cell_type": "code",
   "execution_count": 11,
   "metadata": {},
   "outputs": [
    {
     "data": {
      "image/png": "[encoded data removed]",
      "text/plain": [
       "<Figure size 432x288 with 1 Axes>"
      ]
     },
     "metadata": {
      "needs_background": "light"
     },
     "output_type": "display_data"
    }
   ],
   "source": [
    "plt.hist(not_symmetric,histtype='bar', rwidth=0.8)\n",
    "plt.xlabel(\"non symmetric\")\n",
    "plt.ylabel(\"same distribution\")\n",
    "plt.scatter(4.25, -0.02, marker='^', color='darkblue', s=100)\n",
    "plt.axhline(y=0.00, color='b', linestyle='-')\n",
    "plt.grid()\n",
    "plt.show()"
   ]
  },
  {
   "cell_type": "markdown",
   "metadata": {},
   "source": [
    "The Mean and the Median \n",
    "If a student's score on a test is below average, does that imply that the student is in the bottom half of the class on that test?\n",
    "\n",
    "Happily for the student, the answer is, \"Not necessarily.\" The reason has to do with the relation between the average, which is the balance point of the histogram, and the median, which is the \"half-way point\" of the data.\n",
    "\n",
    "The relationship is easy to see in a simple example. Here is a histogram of the collection {2, 3, 3, 4} which is in the array symmetric. The distribution is symmetric about 3. The mean and the median are both equal to 3."
   ]
  },
  {
   "cell_type": "code",
   "execution_count": 12,
   "metadata": {},
   "outputs": [],
   "source": [
    "symmetric = np.array([2, 3, 3, 4])"
   ]
  },
  {
   "cell_type": "code",
   "execution_count": 13,
   "metadata": {},
   "outputs": [
    {
     "data": {
      "image/png": "[encoded data removed]",
      "text/plain": [
       "<Figure size 432x288 with 1 Axes>"
      ]
     },
     "metadata": {
      "needs_background": "light"
     },
     "output_type": "display_data"
    }
   ],
   "source": [
    "plt.hist(symmetric,histtype='bar')\n",
    "plt.xlabel(\"non symmetric\")\n",
    "plt.ylabel(\"same distribution\")\n",
    "plt.scatter(4.25, -0.02, marker='^', color='darkblue', s=100)\n",
    "plt.axhline(y=0.00, color='b', linestyle='-')\n",
    "plt.grid()\n",
    "plt.show()\n"
   ]
  },
  {
   "cell_type": "code",
   "execution_count": 14,
   "metadata": {},
   "outputs": [
    {
     "data": {
      "text/plain": [
       "3.0"
      ]
     },
     "execution_count": 14,
     "metadata": {},
     "output_type": "execute_result"
    }
   ],
   "source": [
    "np.mean(symmetric)"
   ]
  },
  {
   "cell_type": "code",
   "execution_count": 15,
   "metadata": {},
   "outputs": [
    {
     "data": {
      "text/plain": [
       "3.0"
      ]
     },
     "execution_count": 15,
     "metadata": {},
     "output_type": "execute_result"
    }
   ],
   "source": [
    "np.percentile(symmetric,50)"
   ]
  },
  {
   "cell_type": "code",
   "execution_count": 16,
   "metadata": {},
   "outputs": [
    {
     "data": {
      "text/plain": [
       "(array([1., 0., 0., 0., 0., 2., 0., 0., 0., 1.]),\n",
       " array([2. , 2.2, 2.4, 2.6, 2.8, 3. , 3.2, 3.4, 3.6, 3.8, 4. ]),\n",
       " <a list of 10 Patch objects>)"
      ]
     },
     "execution_count": 16,
     "metadata": {},
     "output_type": "execute_result"
    },
    {
     "data": {
      "image/png": "[encoded data removed]",
      "text/plain": [
       "<Figure size 432x288 with 1 Axes>"
      ]
     },
     "metadata": {
      "needs_background": "light"
     },
     "output_type": "display_data"
    }
   ],
   "source": [
    "plt.hist(symmetric,histtype='bar')"
   ]
  },
  {
   "cell_type": "markdown",
   "metadata": {},
   "source": [
    "In general, for symmetric distributions, the mean and the median are equal.\n",
    "\n",
    "What if the distribution is not symmetric? Let's compare symmetric and not_symmetric."
   ]
  },
  {
   "cell_type": "code",
   "execution_count": 17,
   "metadata": {},
   "outputs": [
    {
     "data": {
      "text/plain": [
       "(array([1., 0., 0., 0., 0., 2., 0., 0., 0., 1.]),\n",
       " array([2. , 2.2, 2.4, 2.6, 2.8, 3. , 3.2, 3.4, 3.6, 3.8, 4. ]),\n",
       " <a list of 10 Patch objects>)"
      ]
     },
     "execution_count": 17,
     "metadata": {},
     "output_type": "execute_result"
    },
    {
     "data": {
      "image/png": "[encoded data removed]",
      "text/plain": [
       "<Figure size 432x288 with 1 Axes>"
      ]
     },
     "metadata": {
      "needs_background": "light"
     },
     "output_type": "display_data"
    }
   ],
   "source": [
    "plt.hist(symmetric,color='blue',alpha=0.5)"
   ]
  },
  {
   "cell_type": "code",
   "execution_count": 25,
   "metadata": {},
   "outputs": [
    {
     "data": {
      "image/png": "[encoded data removed]",
      "text/plain": [
       "<Figure size 432x288 with 1 Axes>"
      ]
     },
     "metadata": {
      "needs_background": "light"
     },
     "output_type": "display_data"
    }
   ],
   "source": [
    "\n",
    "fig, ax = plt.subplots()\n",
    "plt.hist(symmetric,color='blue',alpha=1,rwidth=10,bins=np.arange(1.5, 9.6, 1))\n",
    "plt.hist(not_symmetric,color='yellow',alpha=1,rwidth=50,bins=np.arange(1.5, 9.6, 1))\n",
    "blue_patch = mpatches.Patch(color='blue', label=\"symmetric,\")\n",
    "yellow_patch = mpatches.Patch(color='yellow', label=\"not_symmetric\")\n",
    "plt.legend(handles=[blue_patch,yellow_patch])\n",
    "plt.scatter(4.5, -0.02, marker='^', color='darkblue', s=100)\n",
    "plt.scatter(3, -0.02, marker='^', color='gold', s=100)\n",
    "plt.axhline(y=0.00, color='b', linestyle='-')\n",
    "#plt.legend(handles=[blue_patch,yellow_patch])\n",
    "ax.yaxis.set_major_formatter(tick.FuncFormatter(lambda x,_: f'{(x*40 ):.4f}'))\n",
    "ax.xaxis.set_major_formatter(tick.FuncFormatter(lambda x,_: f'{(x ):.4f}'))\n",
    "#legend= plt.legend()\n",
    "plt.ylabel('Percent per unit') \n",
    "plt.show()"
   ]
  },
  {
   "cell_type": "markdown",
   "metadata": {},
   "source": [
    "The blue histogram represents the original symmetric distribution. The gold histogram of not_symmetric starts out the same as the blue at the left end, but its rightmost bar has slid over to the value 9. The brown part is where the two histograms overlap.\n",
    "\n",
    "The median and mean of the blue distribution are both equal to 3. The median of the gold distribution is also equal to 3, though the right half is distributed differently from the left.\n",
    "\n",
    "But the mean of the gold distribution is not 3: the gold histogram would not balance at 3. The balance point has shifted to the right, to 4.25.\n",
    "\n",
    "In the gold distribution, 3 out of 4 entries (75%) are below average. The student with a below average score can therefore take heart. He or she might be in the majority of the class."
   ]
  },
  {
   "cell_type": "markdown",
   "metadata": {},
   "source": [
    "In general, if the histogram has a tail on one side (the formal term is \"skewed\"), then the mean is pulled away from the median in the direction of the tail.\n",
    "\n"
   ]
  },
  {
   "cell_type": "markdown",
   "metadata": {},
   "source": [
    "Example \n",
    "The table sf2015 contains salary and benefits data for San Francisco City employees in 2015. As before, we will restrict our analysis to those who had the equivalent of at least half-time employment for the year."
   ]
  },
  {
   "cell_type": "code",
   "execution_count": 19,
   "metadata": {},
   "outputs": [
    {
     "data": {
      "text/html": [
       "<div>\n",
       "<style scoped>\n",
       "    .dataframe tbody tr th:only-of-type {\n",
       "        vertical-align: middle;\n",
       "    }\n",
       "\n",
       "    .dataframe tbody tr th {\n",
       "        vertical-align: top;\n",
       "    }\n",
       "\n",
       "    .dataframe thead th {\n",
       "        text-align: right;\n",
       "    }\n",
       "</style>\n",
       "<table border=\"1\" class=\"dataframe\">\n",
       "  <thead>\n",
       "    <tr style=\"text-align: right;\">\n",
       "      <th></th>\n",
       "      <th>Year Type</th>\n",
       "      <th>Year</th>\n",
       "      <th>Organization Group Code</th>\n",
       "      <th>Organization Group</th>\n",
       "      <th>Department Code</th>\n",
       "      <th>Department</th>\n",
       "      <th>Union Code</th>\n",
       "      <th>Union</th>\n",
       "      <th>Job Family Code</th>\n",
       "      <th>Job Family</th>\n",
       "      <th>...</th>\n",
       "      <th>Employee Identifier</th>\n",
       "      <th>Salaries</th>\n",
       "      <th>Overtime</th>\n",
       "      <th>Other Salaries</th>\n",
       "      <th>Total Salary</th>\n",
       "      <th>Retirement</th>\n",
       "      <th>Health/Dental</th>\n",
       "      <th>Other Benefits</th>\n",
       "      <th>Total Benefits</th>\n",
       "      <th>Total Compensation</th>\n",
       "    </tr>\n",
       "  </thead>\n",
       "  <tbody>\n",
       "    <tr>\n",
       "      <th>0</th>\n",
       "      <td>Calendar</td>\n",
       "      <td>2015</td>\n",
       "      <td>2</td>\n",
       "      <td>Public Works, Transportation &amp; Commerce</td>\n",
       "      <td>WTR</td>\n",
       "      <td>PUC Water Department</td>\n",
       "      <td>21.0</td>\n",
       "      <td>Prof &amp; Tech Engineers - Miscellaneous, Local 21</td>\n",
       "      <td>2400</td>\n",
       "      <td>Lab, Pharmacy &amp; Med Techs</td>\n",
       "      <td>...</td>\n",
       "      <td>21538</td>\n",
       "      <td>82146.04</td>\n",
       "      <td>0.00</td>\n",
       "      <td>0.00</td>\n",
       "      <td>82146.04</td>\n",
       "      <td>16942.21</td>\n",
       "      <td>12340.88</td>\n",
       "      <td>6337.73</td>\n",
       "      <td>35620.82</td>\n",
       "      <td>117766.86</td>\n",
       "    </tr>\n",
       "    <tr>\n",
       "      <th>1</th>\n",
       "      <td>Calendar</td>\n",
       "      <td>2015</td>\n",
       "      <td>2</td>\n",
       "      <td>Public Works, Transportation &amp; Commerce</td>\n",
       "      <td>DPW</td>\n",
       "      <td>General Services Agency - Public Works</td>\n",
       "      <td>12.0</td>\n",
       "      <td>Carpet, Linoleum and Soft Tile Workers, Local 12</td>\n",
       "      <td>7300</td>\n",
       "      <td>Journeyman Trade</td>\n",
       "      <td>...</td>\n",
       "      <td>5459</td>\n",
       "      <td>32165.75</td>\n",
       "      <td>973.19</td>\n",
       "      <td>848.96</td>\n",
       "      <td>33987.90</td>\n",
       "      <td>0.00</td>\n",
       "      <td>4587.51</td>\n",
       "      <td>2634.42</td>\n",
       "      <td>7221.93</td>\n",
       "      <td>41209.83</td>\n",
       "    </tr>\n",
       "    <tr>\n",
       "      <th>2</th>\n",
       "      <td>Calendar</td>\n",
       "      <td>2015</td>\n",
       "      <td>4</td>\n",
       "      <td>Community Health</td>\n",
       "      <td>DPH</td>\n",
       "      <td>Public Health</td>\n",
       "      <td>790.0</td>\n",
       "      <td>SEIU - Miscellaneous, Local 1021</td>\n",
       "      <td>1600</td>\n",
       "      <td>Payroll, Billing &amp; Accounting</td>\n",
       "      <td>...</td>\n",
       "      <td>41541</td>\n",
       "      <td>71311.00</td>\n",
       "      <td>5757.98</td>\n",
       "      <td>0.00</td>\n",
       "      <td>77068.98</td>\n",
       "      <td>14697.59</td>\n",
       "      <td>12424.50</td>\n",
       "      <td>6370.06</td>\n",
       "      <td>33492.15</td>\n",
       "      <td>110561.13</td>\n",
       "    </tr>\n",
       "    <tr>\n",
       "      <th>3</th>\n",
       "      <td>Calendar</td>\n",
       "      <td>2015</td>\n",
       "      <td>4</td>\n",
       "      <td>Community Health</td>\n",
       "      <td>DPH</td>\n",
       "      <td>Public Health</td>\n",
       "      <td>351.0</td>\n",
       "      <td>Municipal Executive Association - Miscellaneous</td>\n",
       "      <td>0900</td>\n",
       "      <td>Management</td>\n",
       "      <td>...</td>\n",
       "      <td>26718</td>\n",
       "      <td>28430.25</td>\n",
       "      <td>0.00</td>\n",
       "      <td>763.07</td>\n",
       "      <td>29193.32</td>\n",
       "      <td>0.00</td>\n",
       "      <td>4223.14</td>\n",
       "      <td>5208.51</td>\n",
       "      <td>9431.65</td>\n",
       "      <td>38624.97</td>\n",
       "    </tr>\n",
       "    <tr>\n",
       "      <th>4</th>\n",
       "      <td>Calendar</td>\n",
       "      <td>2015</td>\n",
       "      <td>2</td>\n",
       "      <td>Public Works, Transportation &amp; Commerce</td>\n",
       "      <td>MTA</td>\n",
       "      <td>Municipal Transportation Agency</td>\n",
       "      <td>790.0</td>\n",
       "      <td>SEIU - Miscellaneous, Local 1021</td>\n",
       "      <td>8200</td>\n",
       "      <td>Protection &amp; Apprehension</td>\n",
       "      <td>...</td>\n",
       "      <td>45810</td>\n",
       "      <td>7948.75</td>\n",
       "      <td>0.00</td>\n",
       "      <td>0.00</td>\n",
       "      <td>7948.75</td>\n",
       "      <td>0.00</td>\n",
       "      <td>2873.17</td>\n",
       "      <td>616.24</td>\n",
       "      <td>3489.41</td>\n",
       "      <td>11438.16</td>\n",
       "    </tr>\n",
       "    <tr>\n",
       "      <th>...</th>\n",
       "      <td>...</td>\n",
       "      <td>...</td>\n",
       "      <td>...</td>\n",
       "      <td>...</td>\n",
       "      <td>...</td>\n",
       "      <td>...</td>\n",
       "      <td>...</td>\n",
       "      <td>...</td>\n",
       "      <td>...</td>\n",
       "      <td>...</td>\n",
       "      <td>...</td>\n",
       "      <td>...</td>\n",
       "      <td>...</td>\n",
       "      <td>...</td>\n",
       "      <td>...</td>\n",
       "      <td>...</td>\n",
       "      <td>...</td>\n",
       "      <td>...</td>\n",
       "      <td>...</td>\n",
       "      <td>...</td>\n",
       "      <td>...</td>\n",
       "    </tr>\n",
       "    <tr>\n",
       "      <th>42984</th>\n",
       "      <td>Calendar</td>\n",
       "      <td>2015</td>\n",
       "      <td>2</td>\n",
       "      <td>Public Works, Transportation &amp; Commerce</td>\n",
       "      <td>MTA</td>\n",
       "      <td>Municipal Transportation Agency</td>\n",
       "      <td>200.0</td>\n",
       "      <td>Transportation Workers, Local 200</td>\n",
       "      <td>9100</td>\n",
       "      <td>Street Transit</td>\n",
       "      <td>...</td>\n",
       "      <td>13250</td>\n",
       "      <td>80691.52</td>\n",
       "      <td>11865.91</td>\n",
       "      <td>3290.29</td>\n",
       "      <td>95847.72</td>\n",
       "      <td>16909.07</td>\n",
       "      <td>12244.02</td>\n",
       "      <td>7788.00</td>\n",
       "      <td>36941.09</td>\n",
       "      <td>132788.81</td>\n",
       "    </tr>\n",
       "    <tr>\n",
       "      <th>42985</th>\n",
       "      <td>Calendar</td>\n",
       "      <td>2015</td>\n",
       "      <td>4</td>\n",
       "      <td>Community Health</td>\n",
       "      <td>DPH</td>\n",
       "      <td>Public Health</td>\n",
       "      <td>791.0</td>\n",
       "      <td>SEIU - Staff and Per Diem Nurses, Local 1021</td>\n",
       "      <td>2300</td>\n",
       "      <td>Nursing</td>\n",
       "      <td>...</td>\n",
       "      <td>14845</td>\n",
       "      <td>7559.66</td>\n",
       "      <td>0.00</td>\n",
       "      <td>0.00</td>\n",
       "      <td>7559.66</td>\n",
       "      <td>153.74</td>\n",
       "      <td>0.00</td>\n",
       "      <td>2132.23</td>\n",
       "      <td>2285.97</td>\n",
       "      <td>9845.63</td>\n",
       "    </tr>\n",
       "    <tr>\n",
       "      <th>42986</th>\n",
       "      <td>Calendar</td>\n",
       "      <td>2015</td>\n",
       "      <td>1</td>\n",
       "      <td>Public Protection</td>\n",
       "      <td>POL</td>\n",
       "      <td>Police</td>\n",
       "      <td>911.0</td>\n",
       "      <td>Police Officers' Association</td>\n",
       "      <td>Q000</td>\n",
       "      <td>Police Services</td>\n",
       "      <td>...</td>\n",
       "      <td>40128</td>\n",
       "      <td>48843.58</td>\n",
       "      <td>2965.85</td>\n",
       "      <td>3316.21</td>\n",
       "      <td>55125.64</td>\n",
       "      <td>11047.55</td>\n",
       "      <td>6212.24</td>\n",
       "      <td>910.16</td>\n",
       "      <td>18169.95</td>\n",
       "      <td>73295.59</td>\n",
       "    </tr>\n",
       "    <tr>\n",
       "      <th>42987</th>\n",
       "      <td>Calendar</td>\n",
       "      <td>2015</td>\n",
       "      <td>6</td>\n",
       "      <td>General Administration &amp; Finance</td>\n",
       "      <td>ADM</td>\n",
       "      <td>General Services Agency - City Admin</td>\n",
       "      <td>39.0</td>\n",
       "      <td>Stationary Engineers, Local 39</td>\n",
       "      <td>7300</td>\n",
       "      <td>Journeyman Trade</td>\n",
       "      <td>...</td>\n",
       "      <td>48315</td>\n",
       "      <td>16319.20</td>\n",
       "      <td>0.00</td>\n",
       "      <td>0.00</td>\n",
       "      <td>16319.20</td>\n",
       "      <td>0.00</td>\n",
       "      <td>2389.32</td>\n",
       "      <td>1264.85</td>\n",
       "      <td>3654.17</td>\n",
       "      <td>19973.37</td>\n",
       "    </tr>\n",
       "    <tr>\n",
       "      <th>42988</th>\n",
       "      <td>Calendar</td>\n",
       "      <td>2015</td>\n",
       "      <td>6</td>\n",
       "      <td>General Administration &amp; Finance</td>\n",
       "      <td>ADM</td>\n",
       "      <td>General Services Agency - City Admin</td>\n",
       "      <td>856.0</td>\n",
       "      <td>Teamsters - Miscellaneous, Local 856</td>\n",
       "      <td>3300</td>\n",
       "      <td>Park &amp; Zoo</td>\n",
       "      <td>...</td>\n",
       "      <td>17657</td>\n",
       "      <td>34267.20</td>\n",
       "      <td>344.85</td>\n",
       "      <td>1256.89</td>\n",
       "      <td>35868.94</td>\n",
       "      <td>8643.54</td>\n",
       "      <td>8458.22</td>\n",
       "      <td>2842.20</td>\n",
       "      <td>19943.96</td>\n",
       "      <td>55812.90</td>\n",
       "    </tr>\n",
       "  </tbody>\n",
       "</table>\n",
       "<p>42989 rows × 22 columns</p>\n",
       "</div>"
      ],
      "text/plain": [
       "      Year Type  Year  Organization Group Code  \\\n",
       "0      Calendar  2015                        2   \n",
       "1      Calendar  2015                        2   \n",
       "2      Calendar  2015                        4   \n",
       "3      Calendar  2015                        4   \n",
       "4      Calendar  2015                        2   \n",
       "...         ...   ...                      ...   \n",
       "42984  Calendar  2015                        2   \n",
       "42985  Calendar  2015                        4   \n",
       "42986  Calendar  2015                        1   \n",
       "42987  Calendar  2015                        6   \n",
       "42988  Calendar  2015                        6   \n",
       "\n",
       "                            Organization Group Department Code  \\\n",
       "0      Public Works, Transportation & Commerce             WTR   \n",
       "1      Public Works, Transportation & Commerce             DPW   \n",
       "2                             Community Health             DPH   \n",
       "3                             Community Health             DPH   \n",
       "4      Public Works, Transportation & Commerce             MTA   \n",
       "...                                        ...             ...   \n",
       "42984  Public Works, Transportation & Commerce             MTA   \n",
       "42985                         Community Health             DPH   \n",
       "42986                        Public Protection             POL   \n",
       "42987         General Administration & Finance             ADM   \n",
       "42988         General Administration & Finance             ADM   \n",
       "\n",
       "                                   Department  Union Code  \\\n",
       "0                        PUC Water Department        21.0   \n",
       "1      General Services Agency - Public Works        12.0   \n",
       "2                               Public Health       790.0   \n",
       "3                               Public Health       351.0   \n",
       "4             Municipal Transportation Agency       790.0   \n",
       "...                                       ...         ...   \n",
       "42984         Municipal Transportation Agency       200.0   \n",
       "42985                           Public Health       791.0   \n",
       "42986                                  Police       911.0   \n",
       "42987    General Services Agency - City Admin        39.0   \n",
       "42988    General Services Agency - City Admin       856.0   \n",
       "\n",
       "                                                  Union Job Family Code  \\\n",
       "0       Prof & Tech Engineers - Miscellaneous, Local 21            2400   \n",
       "1      Carpet, Linoleum and Soft Tile Workers, Local 12            7300   \n",
       "2                      SEIU - Miscellaneous, Local 1021            1600   \n",
       "3       Municipal Executive Association - Miscellaneous            0900   \n",
       "4                      SEIU - Miscellaneous, Local 1021            8200   \n",
       "...                                                 ...             ...   \n",
       "42984                 Transportation Workers, Local 200            9100   \n",
       "42985      SEIU - Staff and Per Diem Nurses, Local 1021            2300   \n",
       "42986                      Police Officers' Association            Q000   \n",
       "42987                    Stationary Engineers, Local 39            7300   \n",
       "42988              Teamsters - Miscellaneous, Local 856            3300   \n",
       "\n",
       "                          Job Family  ... Employee Identifier  Salaries  \\\n",
       "0          Lab, Pharmacy & Med Techs  ...               21538  82146.04   \n",
       "1                   Journeyman Trade  ...                5459  32165.75   \n",
       "2      Payroll, Billing & Accounting  ...               41541  71311.00   \n",
       "3                         Management  ...               26718  28430.25   \n",
       "4          Protection & Apprehension  ...               45810   7948.75   \n",
       "...                              ...  ...                 ...       ...   \n",
       "42984                 Street Transit  ...               13250  80691.52   \n",
       "42985                        Nursing  ...               14845   7559.66   \n",
       "42986                Police Services  ...               40128  48843.58   \n",
       "42987               Journeyman Trade  ...               48315  16319.20   \n",
       "42988                     Park & Zoo  ...               17657  34267.20   \n",
       "\n",
       "       Overtime  Other Salaries  Total Salary  Retirement  Health/Dental  \\\n",
       "0          0.00            0.00      82146.04    16942.21       12340.88   \n",
       "1        973.19          848.96      33987.90        0.00        4587.51   \n",
       "2       5757.98            0.00      77068.98    14697.59       12424.50   \n",
       "3          0.00          763.07      29193.32        0.00        4223.14   \n",
       "4          0.00            0.00       7948.75        0.00        2873.17   \n",
       "...         ...             ...           ...         ...            ...   \n",
       "42984  11865.91         3290.29      95847.72    16909.07       12244.02   \n",
       "42985      0.00            0.00       7559.66      153.74           0.00   \n",
       "42986   2965.85         3316.21      55125.64    11047.55        6212.24   \n",
       "42987      0.00            0.00      16319.20        0.00        2389.32   \n",
       "42988    344.85         1256.89      35868.94     8643.54        8458.22   \n",
       "\n",
       "       Other Benefits  Total Benefits  Total Compensation  \n",
       "0             6337.73        35620.82           117766.86  \n",
       "1             2634.42         7221.93            41209.83  \n",
       "2             6370.06        33492.15           110561.13  \n",
       "3             5208.51         9431.65            38624.97  \n",
       "4              616.24         3489.41            11438.16  \n",
       "...               ...             ...                 ...  \n",
       "42984         7788.00        36941.09           132788.81  \n",
       "42985         2132.23         2285.97             9845.63  \n",
       "42986          910.16        18169.95            73295.59  \n",
       "42987         1264.85         3654.17            19973.37  \n",
       "42988         2842.20        19943.96            55812.90  \n",
       "\n",
       "[42989 rows x 22 columns]"
      ]
     },
     "execution_count": 19,
     "metadata": {},
     "output_type": "execute_result"
    }
   ],
   "source": [
    "sf2015 = pd.read_csv('san_francisco_2015.csv') \n",
    "sf2015"
   ]
  },
  {
   "cell_type": "code",
   "execution_count": 20,
   "metadata": {},
   "outputs": [
    {
     "data": {
      "text/html": [
       "<div>\n",
       "<style scoped>\n",
       "    .dataframe tbody tr th:only-of-type {\n",
       "        vertical-align: middle;\n",
       "    }\n",
       "\n",
       "    .dataframe tbody tr th {\n",
       "        vertical-align: top;\n",
       "    }\n",
       "\n",
       "    .dataframe thead th {\n",
       "        text-align: right;\n",
       "    }\n",
       "</style>\n",
       "<table border=\"1\" class=\"dataframe\">\n",
       "  <thead>\n",
       "    <tr style=\"text-align: right;\">\n",
       "      <th></th>\n",
       "      <th>Year Type</th>\n",
       "      <th>Year</th>\n",
       "      <th>Organization Group Code</th>\n",
       "      <th>Organization Group</th>\n",
       "      <th>Department Code</th>\n",
       "      <th>Department</th>\n",
       "      <th>Union Code</th>\n",
       "      <th>Union</th>\n",
       "      <th>Job Family Code</th>\n",
       "      <th>Job Family</th>\n",
       "      <th>...</th>\n",
       "      <th>Employee Identifier</th>\n",
       "      <th>Salaries</th>\n",
       "      <th>Overtime</th>\n",
       "      <th>Other Salaries</th>\n",
       "      <th>Total Salary</th>\n",
       "      <th>Retirement</th>\n",
       "      <th>Health/Dental</th>\n",
       "      <th>Other Benefits</th>\n",
       "      <th>Total Benefits</th>\n",
       "      <th>Total Compensation</th>\n",
       "    </tr>\n",
       "  </thead>\n",
       "  <tbody>\n",
       "    <tr>\n",
       "      <th>0</th>\n",
       "      <td>Calendar</td>\n",
       "      <td>2015</td>\n",
       "      <td>2</td>\n",
       "      <td>Public Works, Transportation &amp; Commerce</td>\n",
       "      <td>WTR</td>\n",
       "      <td>PUC Water Department</td>\n",
       "      <td>21.0</td>\n",
       "      <td>Prof &amp; Tech Engineers - Miscellaneous, Local 21</td>\n",
       "      <td>2400</td>\n",
       "      <td>Lab, Pharmacy &amp; Med Techs</td>\n",
       "      <td>...</td>\n",
       "      <td>21538</td>\n",
       "      <td>82146.04</td>\n",
       "      <td>0.00</td>\n",
       "      <td>0.00</td>\n",
       "      <td>82146.04</td>\n",
       "      <td>16942.21</td>\n",
       "      <td>12340.88</td>\n",
       "      <td>6337.73</td>\n",
       "      <td>35620.82</td>\n",
       "      <td>117766.86</td>\n",
       "    </tr>\n",
       "    <tr>\n",
       "      <th>1</th>\n",
       "      <td>Calendar</td>\n",
       "      <td>2015</td>\n",
       "      <td>2</td>\n",
       "      <td>Public Works, Transportation &amp; Commerce</td>\n",
       "      <td>DPW</td>\n",
       "      <td>General Services Agency - Public Works</td>\n",
       "      <td>12.0</td>\n",
       "      <td>Carpet, Linoleum and Soft Tile Workers, Local 12</td>\n",
       "      <td>7300</td>\n",
       "      <td>Journeyman Trade</td>\n",
       "      <td>...</td>\n",
       "      <td>5459</td>\n",
       "      <td>32165.75</td>\n",
       "      <td>973.19</td>\n",
       "      <td>848.96</td>\n",
       "      <td>33987.90</td>\n",
       "      <td>0.00</td>\n",
       "      <td>4587.51</td>\n",
       "      <td>2634.42</td>\n",
       "      <td>7221.93</td>\n",
       "      <td>41209.83</td>\n",
       "    </tr>\n",
       "    <tr>\n",
       "      <th>2</th>\n",
       "      <td>Calendar</td>\n",
       "      <td>2015</td>\n",
       "      <td>4</td>\n",
       "      <td>Community Health</td>\n",
       "      <td>DPH</td>\n",
       "      <td>Public Health</td>\n",
       "      <td>790.0</td>\n",
       "      <td>SEIU - Miscellaneous, Local 1021</td>\n",
       "      <td>1600</td>\n",
       "      <td>Payroll, Billing &amp; Accounting</td>\n",
       "      <td>...</td>\n",
       "      <td>41541</td>\n",
       "      <td>71311.00</td>\n",
       "      <td>5757.98</td>\n",
       "      <td>0.00</td>\n",
       "      <td>77068.98</td>\n",
       "      <td>14697.59</td>\n",
       "      <td>12424.50</td>\n",
       "      <td>6370.06</td>\n",
       "      <td>33492.15</td>\n",
       "      <td>110561.13</td>\n",
       "    </tr>\n",
       "    <tr>\n",
       "      <th>3</th>\n",
       "      <td>Calendar</td>\n",
       "      <td>2015</td>\n",
       "      <td>4</td>\n",
       "      <td>Community Health</td>\n",
       "      <td>DPH</td>\n",
       "      <td>Public Health</td>\n",
       "      <td>351.0</td>\n",
       "      <td>Municipal Executive Association - Miscellaneous</td>\n",
       "      <td>0900</td>\n",
       "      <td>Management</td>\n",
       "      <td>...</td>\n",
       "      <td>26718</td>\n",
       "      <td>28430.25</td>\n",
       "      <td>0.00</td>\n",
       "      <td>763.07</td>\n",
       "      <td>29193.32</td>\n",
       "      <td>0.00</td>\n",
       "      <td>4223.14</td>\n",
       "      <td>5208.51</td>\n",
       "      <td>9431.65</td>\n",
       "      <td>38624.97</td>\n",
       "    </tr>\n",
       "    <tr>\n",
       "      <th>6</th>\n",
       "      <td>Calendar</td>\n",
       "      <td>2015</td>\n",
       "      <td>4</td>\n",
       "      <td>Community Health</td>\n",
       "      <td>DPH</td>\n",
       "      <td>Public Health</td>\n",
       "      <td>791.0</td>\n",
       "      <td>SEIU - Staff and Per Diem Nurses, Local 1021</td>\n",
       "      <td>2300</td>\n",
       "      <td>Nursing</td>\n",
       "      <td>...</td>\n",
       "      <td>7506</td>\n",
       "      <td>187247.00</td>\n",
       "      <td>0.00</td>\n",
       "      <td>11704.06</td>\n",
       "      <td>198951.06</td>\n",
       "      <td>37683.66</td>\n",
       "      <td>12424.50</td>\n",
       "      <td>11221.73</td>\n",
       "      <td>61329.89</td>\n",
       "      <td>260280.95</td>\n",
       "    </tr>\n",
       "    <tr>\n",
       "      <th>...</th>\n",
       "      <td>...</td>\n",
       "      <td>...</td>\n",
       "      <td>...</td>\n",
       "      <td>...</td>\n",
       "      <td>...</td>\n",
       "      <td>...</td>\n",
       "      <td>...</td>\n",
       "      <td>...</td>\n",
       "      <td>...</td>\n",
       "      <td>...</td>\n",
       "      <td>...</td>\n",
       "      <td>...</td>\n",
       "      <td>...</td>\n",
       "      <td>...</td>\n",
       "      <td>...</td>\n",
       "      <td>...</td>\n",
       "      <td>...</td>\n",
       "      <td>...</td>\n",
       "      <td>...</td>\n",
       "      <td>...</td>\n",
       "      <td>...</td>\n",
       "    </tr>\n",
       "    <tr>\n",
       "      <th>42983</th>\n",
       "      <td>Calendar</td>\n",
       "      <td>2015</td>\n",
       "      <td>1</td>\n",
       "      <td>Public Protection</td>\n",
       "      <td>JUV</td>\n",
       "      <td>Juvenile Probation</td>\n",
       "      <td>790.0</td>\n",
       "      <td>SEIU - Miscellaneous, Local 1021</td>\n",
       "      <td>9700</td>\n",
       "      <td>Community Development</td>\n",
       "      <td>...</td>\n",
       "      <td>49719</td>\n",
       "      <td>42793.30</td>\n",
       "      <td>0.00</td>\n",
       "      <td>0.00</td>\n",
       "      <td>42793.30</td>\n",
       "      <td>8506.93</td>\n",
       "      <td>6731.93</td>\n",
       "      <td>3317.55</td>\n",
       "      <td>18556.41</td>\n",
       "      <td>61349.71</td>\n",
       "    </tr>\n",
       "    <tr>\n",
       "      <th>42984</th>\n",
       "      <td>Calendar</td>\n",
       "      <td>2015</td>\n",
       "      <td>2</td>\n",
       "      <td>Public Works, Transportation &amp; Commerce</td>\n",
       "      <td>MTA</td>\n",
       "      <td>Municipal Transportation Agency</td>\n",
       "      <td>200.0</td>\n",
       "      <td>Transportation Workers, Local 200</td>\n",
       "      <td>9100</td>\n",
       "      <td>Street Transit</td>\n",
       "      <td>...</td>\n",
       "      <td>13250</td>\n",
       "      <td>80691.52</td>\n",
       "      <td>11865.91</td>\n",
       "      <td>3290.29</td>\n",
       "      <td>95847.72</td>\n",
       "      <td>16909.07</td>\n",
       "      <td>12244.02</td>\n",
       "      <td>7788.00</td>\n",
       "      <td>36941.09</td>\n",
       "      <td>132788.81</td>\n",
       "    </tr>\n",
       "    <tr>\n",
       "      <th>42986</th>\n",
       "      <td>Calendar</td>\n",
       "      <td>2015</td>\n",
       "      <td>1</td>\n",
       "      <td>Public Protection</td>\n",
       "      <td>POL</td>\n",
       "      <td>Police</td>\n",
       "      <td>911.0</td>\n",
       "      <td>Police Officers' Association</td>\n",
       "      <td>Q000</td>\n",
       "      <td>Police Services</td>\n",
       "      <td>...</td>\n",
       "      <td>40128</td>\n",
       "      <td>48843.58</td>\n",
       "      <td>2965.85</td>\n",
       "      <td>3316.21</td>\n",
       "      <td>55125.64</td>\n",
       "      <td>11047.55</td>\n",
       "      <td>6212.24</td>\n",
       "      <td>910.16</td>\n",
       "      <td>18169.95</td>\n",
       "      <td>73295.59</td>\n",
       "    </tr>\n",
       "    <tr>\n",
       "      <th>42987</th>\n",
       "      <td>Calendar</td>\n",
       "      <td>2015</td>\n",
       "      <td>6</td>\n",
       "      <td>General Administration &amp; Finance</td>\n",
       "      <td>ADM</td>\n",
       "      <td>General Services Agency - City Admin</td>\n",
       "      <td>39.0</td>\n",
       "      <td>Stationary Engineers, Local 39</td>\n",
       "      <td>7300</td>\n",
       "      <td>Journeyman Trade</td>\n",
       "      <td>...</td>\n",
       "      <td>48315</td>\n",
       "      <td>16319.20</td>\n",
       "      <td>0.00</td>\n",
       "      <td>0.00</td>\n",
       "      <td>16319.20</td>\n",
       "      <td>0.00</td>\n",
       "      <td>2389.32</td>\n",
       "      <td>1264.85</td>\n",
       "      <td>3654.17</td>\n",
       "      <td>19973.37</td>\n",
       "    </tr>\n",
       "    <tr>\n",
       "      <th>42988</th>\n",
       "      <td>Calendar</td>\n",
       "      <td>2015</td>\n",
       "      <td>6</td>\n",
       "      <td>General Administration &amp; Finance</td>\n",
       "      <td>ADM</td>\n",
       "      <td>General Services Agency - City Admin</td>\n",
       "      <td>856.0</td>\n",
       "      <td>Teamsters - Miscellaneous, Local 856</td>\n",
       "      <td>3300</td>\n",
       "      <td>Park &amp; Zoo</td>\n",
       "      <td>...</td>\n",
       "      <td>17657</td>\n",
       "      <td>34267.20</td>\n",
       "      <td>344.85</td>\n",
       "      <td>1256.89</td>\n",
       "      <td>35868.94</td>\n",
       "      <td>8643.54</td>\n",
       "      <td>8458.22</td>\n",
       "      <td>2842.20</td>\n",
       "      <td>19943.96</td>\n",
       "      <td>55812.90</td>\n",
       "    </tr>\n",
       "  </tbody>\n",
       "</table>\n",
       "<p>36569 rows × 22 columns</p>\n",
       "</div>"
      ],
      "text/plain": [
       "      Year Type  Year  Organization Group Code  \\\n",
       "0      Calendar  2015                        2   \n",
       "1      Calendar  2015                        2   \n",
       "2      Calendar  2015                        4   \n",
       "3      Calendar  2015                        4   \n",
       "6      Calendar  2015                        4   \n",
       "...         ...   ...                      ...   \n",
       "42983  Calendar  2015                        1   \n",
       "42984  Calendar  2015                        2   \n",
       "42986  Calendar  2015                        1   \n",
       "42987  Calendar  2015                        6   \n",
       "42988  Calendar  2015                        6   \n",
       "\n",
       "                            Organization Group Department Code  \\\n",
       "0      Public Works, Transportation & Commerce             WTR   \n",
       "1      Public Works, Transportation & Commerce             DPW   \n",
       "2                             Community Health             DPH   \n",
       "3                             Community Health             DPH   \n",
       "6                             Community Health             DPH   \n",
       "...                                        ...             ...   \n",
       "42983                        Public Protection             JUV   \n",
       "42984  Public Works, Transportation & Commerce             MTA   \n",
       "42986                        Public Protection             POL   \n",
       "42987         General Administration & Finance             ADM   \n",
       "42988         General Administration & Finance             ADM   \n",
       "\n",
       "                                   Department  Union Code  \\\n",
       "0                        PUC Water Department        21.0   \n",
       "1      General Services Agency - Public Works        12.0   \n",
       "2                               Public Health       790.0   \n",
       "3                               Public Health       351.0   \n",
       "6                               Public Health       791.0   \n",
       "...                                       ...         ...   \n",
       "42983                      Juvenile Probation       790.0   \n",
       "42984         Municipal Transportation Agency       200.0   \n",
       "42986                                  Police       911.0   \n",
       "42987    General Services Agency - City Admin        39.0   \n",
       "42988    General Services Agency - City Admin       856.0   \n",
       "\n",
       "                                                  Union Job Family Code  \\\n",
       "0       Prof & Tech Engineers - Miscellaneous, Local 21            2400   \n",
       "1      Carpet, Linoleum and Soft Tile Workers, Local 12            7300   \n",
       "2                      SEIU - Miscellaneous, Local 1021            1600   \n",
       "3       Municipal Executive Association - Miscellaneous            0900   \n",
       "6          SEIU - Staff and Per Diem Nurses, Local 1021            2300   \n",
       "...                                                 ...             ...   \n",
       "42983                  SEIU - Miscellaneous, Local 1021            9700   \n",
       "42984                 Transportation Workers, Local 200            9100   \n",
       "42986                      Police Officers' Association            Q000   \n",
       "42987                    Stationary Engineers, Local 39            7300   \n",
       "42988              Teamsters - Miscellaneous, Local 856            3300   \n",
       "\n",
       "                          Job Family  ... Employee Identifier   Salaries  \\\n",
       "0          Lab, Pharmacy & Med Techs  ...               21538   82146.04   \n",
       "1                   Journeyman Trade  ...                5459   32165.75   \n",
       "2      Payroll, Billing & Accounting  ...               41541   71311.00   \n",
       "3                         Management  ...               26718   28430.25   \n",
       "6                            Nursing  ...                7506  187247.00   \n",
       "...                              ...  ...                 ...        ...   \n",
       "42983          Community Development  ...               49719   42793.30   \n",
       "42984                 Street Transit  ...               13250   80691.52   \n",
       "42986                Police Services  ...               40128   48843.58   \n",
       "42987               Journeyman Trade  ...               48315   16319.20   \n",
       "42988                     Park & Zoo  ...               17657   34267.20   \n",
       "\n",
       "       Overtime  Other Salaries  Total Salary  Retirement  Health/Dental  \\\n",
       "0          0.00            0.00      82146.04    16942.21       12340.88   \n",
       "1        973.19          848.96      33987.90        0.00        4587.51   \n",
       "2       5757.98            0.00      77068.98    14697.59       12424.50   \n",
       "3          0.00          763.07      29193.32        0.00        4223.14   \n",
       "6          0.00        11704.06     198951.06    37683.66       12424.50   \n",
       "...         ...             ...           ...         ...            ...   \n",
       "42983      0.00            0.00      42793.30     8506.93        6731.93   \n",
       "42984  11865.91         3290.29      95847.72    16909.07       12244.02   \n",
       "42986   2965.85         3316.21      55125.64    11047.55        6212.24   \n",
       "42987      0.00            0.00      16319.20        0.00        2389.32   \n",
       "42988    344.85         1256.89      35868.94     8643.54        8458.22   \n",
       "\n",
       "       Other Benefits  Total Benefits  Total Compensation  \n",
       "0             6337.73        35620.82           117766.86  \n",
       "1             2634.42         7221.93            41209.83  \n",
       "2             6370.06        33492.15           110561.13  \n",
       "3             5208.51         9431.65            38624.97  \n",
       "6            11221.73        61329.89           260280.95  \n",
       "...               ...             ...                 ...  \n",
       "42983         3317.55        18556.41            61349.71  \n",
       "42984         7788.00        36941.09           132788.81  \n",
       "42986          910.16        18169.95            73295.59  \n",
       "42987         1264.85         3654.17            19973.37  \n",
       "42988         2842.20        19943.96            55812.90  \n",
       "\n",
       "[36569 rows x 22 columns]"
      ]
     },
     "execution_count": 20,
     "metadata": {},
     "output_type": "execute_result"
    }
   ],
   "source": [
    "sf2015=sf2015[sf2015['Salaries'] > 10000]\n",
    "sf2015"
   ]
  },
  {
   "cell_type": "code",
   "execution_count": 21,
   "metadata": {},
   "outputs": [
    {
     "data": {
      "image/png": "[encoded data removed]",
      "text/plain": [
       "<Figure size 432x288 with 1 Axes>"
      ]
     },
     "metadata": {
      "needs_background": "light"
     },
     "output_type": "display_data"
    }
   ],
   "source": [
    "data=sf2015[['Total Compensation']]\n",
    "axarr=data.hist(bins = np.arange(10000, 700000, 25000))\n",
    "for ax in axarr.flatten():\n",
    "        ax.set_xlabel(\"Total Compensation\")\n",
    "        ax.set_ylabel(\"Percentage per unit\")\n",
    "        ax.yaxis.set_major_formatter(tick.FuncFormatter(lambda x,_: f'{(x/10000):.1f}'))\n",
    "        #ax.xaxis.set_major_formatter(tick.FuncFormatter(lambda x,_: f'{(x/10):.1f}'))"
   ]
  },
  {
   "cell_type": "markdown",
   "metadata": {},
   "source": [
    "This histogram is skewed to the right; it has a right-hand tail.\n",
    "\n",
    "The mean gets pulled away from the median in the direction of the tail. So we expect the mean compensation to be larger than the median, and that is indeed the case."
   ]
  },
  {
   "cell_type": "code",
   "execution_count": 23,
   "metadata": {},
   "outputs": [
    {
     "data": {
      "text/plain": [
       "110305.79"
      ]
     },
     "execution_count": 23,
     "metadata": {},
     "output_type": "execute_result"
    }
   ],
   "source": [
    "compensation = sf2015['Total Compensation']\n",
    "np.percentile(compensation,50)"
   ]
  },
  {
   "cell_type": "code",
   "execution_count": 24,
   "metadata": {},
   "outputs": [
    {
     "data": {
      "text/plain": [
       "114725.98411824208"
      ]
     },
     "execution_count": 24,
     "metadata": {},
     "output_type": "execute_result"
    }
   ],
   "source": [
    "np.mean(compensation)"
   ]
  },
  {
   "cell_type": "markdown",
   "metadata": {},
   "source": [
    "Distributions of incomes of large populations tend to be right skewed. When the bulk of a population has middle to low incomes, but a very small proportion has very high incomes, the histogram has a long, thin tail to the right.\n",
    "\n",
    "The mean income is affected by this tail: the farther the tail stretches to the right, the larger the mean becomes. But the median is not affected by values at the extremes of the distribution. That is why economists often summarize income distributions by the median instead of the mean."
   ]
  }
 ],
 "metadata": {
  "kernelspec": {
   "display_name": "Python 3",
   "language": "python",
   "name": "python3"
  },
  "language_info": {
   "codemirror_mode": {
    "name": "ipython",
    "version": 3
   },
   "file_extension": ".py",
   "mimetype": "text/x-python",
   "name": "python",
   "nbconvert_exporter": "python",
   "pygments_lexer": "ipython3",
   "version": "3.8.3"
  }
 },
 "nbformat": 4,
 "nbformat_minor": 4
}

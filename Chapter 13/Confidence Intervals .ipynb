{
 "cells": [
  {
   "cell_type": "markdown",
   "metadata": {},
   "source": [
    "## Confidence Intervals \n",
    "We have developed a method for estimating a parameter by using random sampling and the bootstrap. Our method produces an interval of estimates, to account for chance variability in the random sample. By providing an interval of estimates instead of just one estimate, we give ourselves some wiggle room.\n",
    "\n",
    "In the previous example we saw that our process of estimation produced a good interval about 95% of the time, a \"good\" interval being one that contains the parameter. We say that we are 95% confident that the process results in a good interval. Our interval of estimates is called a 95% confidence interval for the parameter, and 95% is called the confidence level of the interval.\n",
    "\n",
    "The situation in the previous example was a bit unusual. Because we happened to know the value of the parameter, we were able to check whether an interval was good or a dud, and this in turn helped us to see that our process of estimation captured the parameter about 95 out of every 100 times we used it.\n",
    "\n",
    "But usually, data scientists don't know the value of the parameter. That is the reason they want to estimate it in the first place. In such situations, they provide an interval of estimates for the unknown parameter by using methods like the one we have developed. Because of statistical theory and demonstrations like the one we have seen, data scientists can be confident that their process of generating the interval results in a good interval a known percent of the time."
   ]
  },
  {
   "cell_type": "markdown",
   "metadata": {},
   "source": [
    "## Confidence Interval for a Population Median: Bootstrap Percentile Method \n",
    "We will now use the bootstrap method to estimate an unknown population median. The data come from a sample of newborns in a large hospital system; we will treat it as if it were a simple random sample though the sampling was done in multiple stages. Stat Labs by Deborah Nolan and Terry Speed has details about a larger dataset from which this set is drawn.\n",
    "\n",
    "The table baby contains the following variables for mother-baby pairs: the baby's birth weight in ounces, the number of gestational days, the mother's age in completed years, the mother's height in inches, pregnancy weight in pounds, and whether or not the mother smoked during pregnancy."
   ]
  },
  {
   "cell_type": "code",
   "execution_count": 1,
   "metadata": {},
   "outputs": [],
   "source": [
    "import  pandas as pd\n",
    "import numpy as np\n",
    "import matplotlib.ticker as tick\n",
    "import matplotlib.pyplot as plt\n",
    "import pylab as pl"
   ]
  },
  {
   "cell_type": "code",
   "execution_count": 2,
   "metadata": {},
   "outputs": [
    {
     "data": {
      "text/html": [
       "<div>\n",
       "<style scoped>\n",
       "    .dataframe tbody tr th:only-of-type {\n",
       "        vertical-align: middle;\n",
       "    }\n",
       "\n",
       "    .dataframe tbody tr th {\n",
       "        vertical-align: top;\n",
       "    }\n",
       "\n",
       "    .dataframe thead th {\n",
       "        text-align: right;\n",
       "    }\n",
       "</style>\n",
       "<table border=\"1\" class=\"dataframe\">\n",
       "  <thead>\n",
       "    <tr style=\"text-align: right;\">\n",
       "      <th></th>\n",
       "      <th>Birth Weight</th>\n",
       "      <th>Gestational Days</th>\n",
       "      <th>Maternal Age</th>\n",
       "      <th>Maternal Height</th>\n",
       "      <th>Maternal Pregnancy Weight</th>\n",
       "      <th>Maternal Smoker</th>\n",
       "    </tr>\n",
       "  </thead>\n",
       "  <tbody>\n",
       "    <tr>\n",
       "      <th>0</th>\n",
       "      <td>120</td>\n",
       "      <td>284</td>\n",
       "      <td>27</td>\n",
       "      <td>62</td>\n",
       "      <td>100</td>\n",
       "      <td>False</td>\n",
       "    </tr>\n",
       "    <tr>\n",
       "      <th>1</th>\n",
       "      <td>113</td>\n",
       "      <td>282</td>\n",
       "      <td>33</td>\n",
       "      <td>64</td>\n",
       "      <td>135</td>\n",
       "      <td>False</td>\n",
       "    </tr>\n",
       "    <tr>\n",
       "      <th>2</th>\n",
       "      <td>128</td>\n",
       "      <td>279</td>\n",
       "      <td>28</td>\n",
       "      <td>64</td>\n",
       "      <td>115</td>\n",
       "      <td>True</td>\n",
       "    </tr>\n",
       "    <tr>\n",
       "      <th>3</th>\n",
       "      <td>108</td>\n",
       "      <td>282</td>\n",
       "      <td>23</td>\n",
       "      <td>67</td>\n",
       "      <td>125</td>\n",
       "      <td>True</td>\n",
       "    </tr>\n",
       "    <tr>\n",
       "      <th>4</th>\n",
       "      <td>136</td>\n",
       "      <td>286</td>\n",
       "      <td>25</td>\n",
       "      <td>62</td>\n",
       "      <td>93</td>\n",
       "      <td>False</td>\n",
       "    </tr>\n",
       "    <tr>\n",
       "      <th>...</th>\n",
       "      <td>...</td>\n",
       "      <td>...</td>\n",
       "      <td>...</td>\n",
       "      <td>...</td>\n",
       "      <td>...</td>\n",
       "      <td>...</td>\n",
       "    </tr>\n",
       "    <tr>\n",
       "      <th>1169</th>\n",
       "      <td>113</td>\n",
       "      <td>275</td>\n",
       "      <td>27</td>\n",
       "      <td>60</td>\n",
       "      <td>100</td>\n",
       "      <td>False</td>\n",
       "    </tr>\n",
       "    <tr>\n",
       "      <th>1170</th>\n",
       "      <td>128</td>\n",
       "      <td>265</td>\n",
       "      <td>24</td>\n",
       "      <td>67</td>\n",
       "      <td>120</td>\n",
       "      <td>False</td>\n",
       "    </tr>\n",
       "    <tr>\n",
       "      <th>1171</th>\n",
       "      <td>130</td>\n",
       "      <td>291</td>\n",
       "      <td>30</td>\n",
       "      <td>65</td>\n",
       "      <td>150</td>\n",
       "      <td>True</td>\n",
       "    </tr>\n",
       "    <tr>\n",
       "      <th>1172</th>\n",
       "      <td>125</td>\n",
       "      <td>281</td>\n",
       "      <td>21</td>\n",
       "      <td>65</td>\n",
       "      <td>110</td>\n",
       "      <td>False</td>\n",
       "    </tr>\n",
       "    <tr>\n",
       "      <th>1173</th>\n",
       "      <td>117</td>\n",
       "      <td>297</td>\n",
       "      <td>38</td>\n",
       "      <td>65</td>\n",
       "      <td>129</td>\n",
       "      <td>False</td>\n",
       "    </tr>\n",
       "  </tbody>\n",
       "</table>\n",
       "<p>1174 rows × 6 columns</p>\n",
       "</div>"
      ],
      "text/plain": [
       "      Birth Weight  Gestational Days  Maternal Age  Maternal Height  \\\n",
       "0              120               284            27               62   \n",
       "1              113               282            33               64   \n",
       "2              128               279            28               64   \n",
       "3              108               282            23               67   \n",
       "4              136               286            25               62   \n",
       "...            ...               ...           ...              ...   \n",
       "1169           113               275            27               60   \n",
       "1170           128               265            24               67   \n",
       "1171           130               291            30               65   \n",
       "1172           125               281            21               65   \n",
       "1173           117               297            38               65   \n",
       "\n",
       "      Maternal Pregnancy Weight  Maternal Smoker  \n",
       "0                           100            False  \n",
       "1                           135            False  \n",
       "2                           115             True  \n",
       "3                           125             True  \n",
       "4                            93            False  \n",
       "...                         ...              ...  \n",
       "1169                        100            False  \n",
       "1170                        120            False  \n",
       "1171                        150             True  \n",
       "1172                        110            False  \n",
       "1173                        129            False  \n",
       "\n",
       "[1174 rows x 6 columns]"
      ]
     },
     "execution_count": 2,
     "metadata": {},
     "output_type": "execute_result"
    }
   ],
   "source": [
    "baby=pd.read_csv('baby.csv')\n",
    "baby"
   ]
  },
  {
   "cell_type": "markdown",
   "metadata": {},
   "source": [
    "Birth weight is an important factor in the health of a newborn infant – smaller babies tend to need more medical care in their first days than larger newborns. It is therefore helpful to have an estimate of birth weight before the baby is born. One way to do this is to examine the relationship between birth weight and the number of gestational days.\n",
    "\n",
    "A simple measure of this relationship is the ratio of birth weight to the number of gestational days. The table ratios contains the first two columns of baby, as well as a column of the ratios. The first entry in that column was calcualted as follows:"
   ]
  },
  {
   "cell_type": "code",
   "execution_count": 4,
   "metadata": {},
   "outputs": [
    {
     "data": {
      "text/plain": [
       "0       0.422535\n",
       "1       0.400709\n",
       "2       0.458781\n",
       "3       0.382979\n",
       "4       0.475524\n",
       "          ...   \n",
       "1169    0.410909\n",
       "1170    0.483019\n",
       "1171    0.446735\n",
       "1172    0.444840\n",
       "1173    0.393939\n",
       "Length: 1174, dtype: float64"
      ]
     },
     "execution_count": 4,
     "metadata": {},
     "output_type": "execute_result"
    }
   ],
   "source": [
    "ratios=baby['Birth Weight']/baby['Gestational Days']\n",
    "ratios"
   ]
  },
  {
   "cell_type": "code",
   "execution_count": 11,
   "metadata": {},
   "outputs": [
    {
     "data": {
      "text/html": [
       "<div>\n",
       "<style scoped>\n",
       "    .dataframe tbody tr th:only-of-type {\n",
       "        vertical-align: middle;\n",
       "    }\n",
       "\n",
       "    .dataframe tbody tr th {\n",
       "        vertical-align: top;\n",
       "    }\n",
       "\n",
       "    .dataframe thead th {\n",
       "        text-align: right;\n",
       "    }\n",
       "</style>\n",
       "<table border=\"1\" class=\"dataframe\">\n",
       "  <thead>\n",
       "    <tr style=\"text-align: right;\">\n",
       "      <th></th>\n",
       "      <th>Birth Weight</th>\n",
       "      <th>Gestational Days</th>\n",
       "      <th>Ratio BW/GD</th>\n",
       "    </tr>\n",
       "  </thead>\n",
       "  <tbody>\n",
       "    <tr>\n",
       "      <th>0</th>\n",
       "      <td>120</td>\n",
       "      <td>284</td>\n",
       "      <td>0.422535</td>\n",
       "    </tr>\n",
       "    <tr>\n",
       "      <th>1</th>\n",
       "      <td>113</td>\n",
       "      <td>282</td>\n",
       "      <td>0.400709</td>\n",
       "    </tr>\n",
       "    <tr>\n",
       "      <th>2</th>\n",
       "      <td>128</td>\n",
       "      <td>279</td>\n",
       "      <td>0.458781</td>\n",
       "    </tr>\n",
       "    <tr>\n",
       "      <th>3</th>\n",
       "      <td>108</td>\n",
       "      <td>282</td>\n",
       "      <td>0.382979</td>\n",
       "    </tr>\n",
       "    <tr>\n",
       "      <th>4</th>\n",
       "      <td>136</td>\n",
       "      <td>286</td>\n",
       "      <td>0.475524</td>\n",
       "    </tr>\n",
       "    <tr>\n",
       "      <th>...</th>\n",
       "      <td>...</td>\n",
       "      <td>...</td>\n",
       "      <td>...</td>\n",
       "    </tr>\n",
       "    <tr>\n",
       "      <th>1169</th>\n",
       "      <td>113</td>\n",
       "      <td>275</td>\n",
       "      <td>0.410909</td>\n",
       "    </tr>\n",
       "    <tr>\n",
       "      <th>1170</th>\n",
       "      <td>128</td>\n",
       "      <td>265</td>\n",
       "      <td>0.483019</td>\n",
       "    </tr>\n",
       "    <tr>\n",
       "      <th>1171</th>\n",
       "      <td>130</td>\n",
       "      <td>291</td>\n",
       "      <td>0.446735</td>\n",
       "    </tr>\n",
       "    <tr>\n",
       "      <th>1172</th>\n",
       "      <td>125</td>\n",
       "      <td>281</td>\n",
       "      <td>0.444840</td>\n",
       "    </tr>\n",
       "    <tr>\n",
       "      <th>1173</th>\n",
       "      <td>117</td>\n",
       "      <td>297</td>\n",
       "      <td>0.393939</td>\n",
       "    </tr>\n",
       "  </tbody>\n",
       "</table>\n",
       "<p>1174 rows × 3 columns</p>\n",
       "</div>"
      ],
      "text/plain": [
       "      Birth Weight  Gestational Days  Ratio BW/GD\n",
       "0              120               284     0.422535\n",
       "1              113               282     0.400709\n",
       "2              128               279     0.458781\n",
       "3              108               282     0.382979\n",
       "4              136               286     0.475524\n",
       "...            ...               ...          ...\n",
       "1169           113               275     0.410909\n",
       "1170           128               265     0.483019\n",
       "1171           130               291     0.446735\n",
       "1172           125               281     0.444840\n",
       "1173           117               297     0.393939\n",
       "\n",
       "[1174 rows x 3 columns]"
      ]
     },
     "execution_count": 11,
     "metadata": {},
     "output_type": "execute_result"
    }
   ],
   "source": [
    "ratios_table  =pd.DataFrame({'Birth Weight': baby['Birth Weight'],'Gestational Days': baby['Gestational Days'],'Ratio BW/GD':ratios})\n",
    "ratios_table"
   ]
  },
  {
   "cell_type": "markdown",
   "metadata": {},
   "source": [
    "Here is a histogram of the ratios."
   ]
  },
  {
   "cell_type": "code",
   "execution_count": 107,
   "metadata": {},
   "outputs": [
    {
     "data": {
      "image/png": "[encoded data removed]",
      "text/plain": [
       "<Figure size 432x288 with 1 Axes>"
      ]
     },
     "metadata": {
      "needs_background": "light"
     },
     "output_type": "display_data"
    }
   ],
   "source": [
    "data=ratios_table[['Ratio BW/GD']]\n",
    "axarr=data.hist()\n",
    "for ax in axarr.flatten():\n",
    "        ax.set_xlabel(\"Ratio BW/GD\")\n",
    "        ax.set_ylabel(\"Percentage per unit\")\n",
    "        ax.yaxis.set_major_formatter(tick.FuncFormatter(lambda x,_: f'{(x):.1f}'))\n",
    "        #ax.xaxis.set_major_formatter(tick.FuncFormatter(lambda x,_: f'{(x/2):.1f}'))"
   ]
  },
  {
   "cell_type": "markdown",
   "metadata": {},
   "source": [
    "At first glance the histogram looks quite symmetric, with the density at its maximum over the interval 4 ounces per day to 4.5 ounces per day. But a closer look reveals that some of the ratios were quite large by comparison. The maximum value of the ratios was just over 0.78 ounces per day, almost double the typical value."
   ]
  },
  {
   "cell_type": "code",
   "execution_count": null,
   "metadata": {},
   "outputs": [],
   "source": [
    "ratios.sort('Ratio BW/GD', descending=True).take(0)"
   ]
  },
  {
   "cell_type": "code",
   "execution_count": 19,
   "metadata": {},
   "outputs": [
    {
     "data": {
      "text/html": [
       "<div>\n",
       "<style scoped>\n",
       "    .dataframe tbody tr th:only-of-type {\n",
       "        vertical-align: middle;\n",
       "    }\n",
       "\n",
       "    .dataframe tbody tr th {\n",
       "        vertical-align: top;\n",
       "    }\n",
       "\n",
       "    .dataframe thead th {\n",
       "        text-align: right;\n",
       "    }\n",
       "</style>\n",
       "<table border=\"1\" class=\"dataframe\">\n",
       "  <thead>\n",
       "    <tr style=\"text-align: right;\">\n",
       "      <th></th>\n",
       "      <th>Birth Weight</th>\n",
       "      <th>Gestational Days</th>\n",
       "      <th>Ratio BW/GD</th>\n",
       "    </tr>\n",
       "  </thead>\n",
       "  <tbody>\n",
       "    <tr>\n",
       "      <th>238</th>\n",
       "      <td>116</td>\n",
       "      <td>148</td>\n",
       "      <td>0.783784</td>\n",
       "    </tr>\n",
       "    <tr>\n",
       "      <th>519</th>\n",
       "      <td>174</td>\n",
       "      <td>281</td>\n",
       "      <td>0.619217</td>\n",
       "    </tr>\n",
       "    <tr>\n",
       "      <th>1041</th>\n",
       "      <td>174</td>\n",
       "      <td>284</td>\n",
       "      <td>0.612676</td>\n",
       "    </tr>\n",
       "    <tr>\n",
       "      <th>819</th>\n",
       "      <td>110</td>\n",
       "      <td>181</td>\n",
       "      <td>0.607735</td>\n",
       "    </tr>\n",
       "    <tr>\n",
       "      <th>700</th>\n",
       "      <td>174</td>\n",
       "      <td>288</td>\n",
       "      <td>0.604167</td>\n",
       "    </tr>\n",
       "    <tr>\n",
       "      <th>...</th>\n",
       "      <td>...</td>\n",
       "      <td>...</td>\n",
       "      <td>...</td>\n",
       "    </tr>\n",
       "    <tr>\n",
       "      <th>851</th>\n",
       "      <td>72</td>\n",
       "      <td>271</td>\n",
       "      <td>0.265683</td>\n",
       "    </tr>\n",
       "    <tr>\n",
       "      <th>1005</th>\n",
       "      <td>73</td>\n",
       "      <td>277</td>\n",
       "      <td>0.263538</td>\n",
       "    </tr>\n",
       "    <tr>\n",
       "      <th>492</th>\n",
       "      <td>71</td>\n",
       "      <td>277</td>\n",
       "      <td>0.256318</td>\n",
       "    </tr>\n",
       "    <tr>\n",
       "      <th>287</th>\n",
       "      <td>71</td>\n",
       "      <td>281</td>\n",
       "      <td>0.252669</td>\n",
       "    </tr>\n",
       "    <tr>\n",
       "      <th>859</th>\n",
       "      <td>58</td>\n",
       "      <td>245</td>\n",
       "      <td>0.236735</td>\n",
       "    </tr>\n",
       "  </tbody>\n",
       "</table>\n",
       "<p>1174 rows × 3 columns</p>\n",
       "</div>"
      ],
      "text/plain": [
       "      Birth Weight  Gestational Days  Ratio BW/GD\n",
       "238            116               148     0.783784\n",
       "519            174               281     0.619217\n",
       "1041           174               284     0.612676\n",
       "819            110               181     0.607735\n",
       "700            174               288     0.604167\n",
       "...            ...               ...          ...\n",
       "851             72               271     0.265683\n",
       "1005            73               277     0.263538\n",
       "492             71               277     0.256318\n",
       "287             71               281     0.252669\n",
       "859             58               245     0.236735\n",
       "\n",
       "[1174 rows x 3 columns]"
      ]
     },
     "execution_count": 19,
     "metadata": {},
     "output_type": "execute_result"
    }
   ],
   "source": [
    "ratiosnew=ratios_table.sort_values(by=['Ratio BW/GD'],ascending=False)\n",
    "ratiosnew"
   ]
  },
  {
   "cell_type": "code",
   "execution_count": 27,
   "metadata": {},
   "outputs": [
    {
     "data": {
      "text/plain": [
       "Birth Weight        116.000000\n",
       "Gestational Days    148.000000\n",
       "Ratio BW/GD           0.783784\n",
       "Name: 238, dtype: float64"
      ]
     },
     "execution_count": 27,
     "metadata": {},
     "output_type": "execute_result"
    }
   ],
   "source": [
    "ratiosnew.iloc[0,:]"
   ]
  },
  {
   "cell_type": "code",
   "execution_count": 28,
   "metadata": {},
   "outputs": [
    {
     "data": {
      "text/plain": [
       "0.42907801418439717"
      ]
     },
     "execution_count": 28,
     "metadata": {},
     "output_type": "execute_result"
    }
   ],
   "source": [
    "np.median(ratiosnew['Ratio BW/GD'])"
   ]
  },
  {
   "cell_type": "markdown",
   "metadata": {},
   "source": [
    "But what was the median in the population? We don't know, so we will estimate it.\n",
    "\n",
    "Our method will be exactly the same as in the previous section. We will bootstrap the sample 5,000 times resulting in 5,000 estimates of the median. Our 95% confidence interval will be the \"middle 95%\" of all of our estimates.\n",
    "\n",
    "Recall the function bootstrap_median defined in the previous section. We will call this function and construct a 95% confidence interval for the median ratio in the population. Remember that the table ratios contains the relevant data from our original sample."
   ]
  },
  {
   "cell_type": "code",
   "execution_count": 29,
   "metadata": {},
   "outputs": [],
   "source": [
    "def bootstrap_median(original_sample, label, replications):\n",
    "    \"\"\"Returns an array of bootstrapped sample medians:\n",
    "    original_sample: table containing the original sample\n",
    "    label: label of column containing the variable\n",
    "    replications: number of bootstrap samples\n",
    "    \"\"\"\n",
    "    just_one_column = original_sample[[label]]\n",
    "    medians = np.array([])\n",
    "    for i in np.arange(replications):\n",
    "        bootstrap_sample = just_one_column.sample(len(just_one_column),replace=True)\n",
    "        resampled_median = np.percentile(bootstrap_sample[label],50)\n",
    "        medians = np.append(medians, resampled_median)\n",
    "        \n",
    "    return medians"
   ]
  },
  {
   "cell_type": "code",
   "execution_count": 31,
   "metadata": {},
   "outputs": [],
   "source": [
    "bstrap_medians = bootstrap_median(ratiosnew, 'Ratio BW/GD', 5000)"
   ]
  },
  {
   "cell_type": "code",
   "execution_count": 33,
   "metadata": {},
   "outputs": [
    {
     "data": {
      "text/plain": [
       "array([0.42545455, 0.43267569])"
      ]
     },
     "execution_count": 33,
     "metadata": {},
     "output_type": "execute_result"
    }
   ],
   "source": [
    "left = np.percentile(bstrap_medians,2.5)\n",
    "right = np.percentile(bstrap_medians,97.5)\n",
    "\n",
    "np.array([left, right])"
   ]
  },
  {
   "cell_type": "markdown",
   "metadata": {},
   "source": [
    "The 95% confidence interval goes from about 0.425 ounces per day to about 0.433 ounces per day. We are estimating the median \"birth weight to gestational days\" ratio in the population is somewhere in the interval 0.425 ounces per day to 0.433 ounces per day.\n",
    "\n",
    "The estimate of 0.429 based on the original sample happens to be exactly half-way in between the two ends of the interval, though that need not be true in general.\n",
    "\n",
    "To visualize our results, let us draw the empirical histogram of our bootstrapped medians and place the confidence interval on the horizontal axis."
   ]
  },
  {
   "cell_type": "code",
   "execution_count": 36,
   "metadata": {},
   "outputs": [
    {
     "data": {
      "image/png": "[encoded data removed]",
      "text/plain": [
       "<Figure size 432x288 with 1 Axes>"
      ]
     },
     "metadata": {
      "needs_background": "light"
     },
     "output_type": "display_data"
    }
   ],
   "source": [
    "resampled_medians=pd.DataFrame({'Bootstrap Sample Median' : bstrap_medians})\n",
    "axarr=resampled_medians.hist()\n",
    "for ax in axarr.flatten():\n",
    "        ax.set_xlabel(\"Bootstrap Sample Median\")\n",
    "        ax.set_ylabel(\"Percentage per unit\")\n",
    "        ax.plot(np.array([left,right]),np.array([0,0]), color='yellow')\n",
    "        ax.yaxis.set_major_formatter(tick.FuncFormatter(lambda x,_: f'{(x):.1f}'))\n",
    "        #ax.xaxis.set_major_formatter(tick.FuncFormatter(lambda x,_: f'{(x/2):.1f}'))"
   ]
  },
  {
   "cell_type": "markdown",
   "metadata": {},
   "source": [
    "This histogram and interval resembles those we drew in the previous section, with one big difference – there is no red dot showing where the parameter is. We don't know where that dot should be, or whether it is even in the interval.\n",
    "\n",
    "We just have an interval of estimates. It is a 95% confidence interval of estimates, because the process that generates it produces a good interval about 95% of the time. That certainly beats guessing at random!\n",
    "\n",
    "Keep in mind that this interval is an approximate 95% confidence interval. There are many approximations involved in its computation. The approximation is not bad, but it is not exact.\n",
    "\n"
   ]
  },
  {
   "cell_type": "markdown",
   "metadata": {},
   "source": [
    "## Confidence Interval for a Population Mean: Bootstrap Percentile Method \n",
    "What we have done for medians can be done for means as well. Suppose we want to estimate the average age of the mothers in the population. A natural estimate is the average age of the mothers in the sample. Here is the distribution of their ages, and their average age which was about 27.2 years."
   ]
  },
  {
   "cell_type": "code",
   "execution_count": 47,
   "metadata": {},
   "outputs": [
    {
     "data": {
      "image/png": "[encoded data removed]",
      "text/plain": [
       "<Figure size 432x288 with 1 Axes>"
      ]
     },
     "metadata": {
      "needs_background": "light"
     },
     "output_type": "display_data"
    }
   ],
   "source": [
    "axarr=baby[['Maternal Age']].hist()\n",
    "for ax in axarr.flatten():\n",
    "        ax.set_xlabel(\"Bootstrap Sample Median\")\n",
    "        ax.set_ylabel(\"Percentage per unit\")\n",
    "        ax.plot(np.array([left,right]),np.array([0,0]), color='yellow')\n",
    "        ax.yaxis.set_major_formatter(tick.FuncFormatter(lambda x,_: f'{(x/50):.1f}'))\n",
    "        ax.xaxis.set_major_formatter(tick.FuncFormatter(lambda x,_: f'{(x):.1f}'))"
   ]
  },
  {
   "cell_type": "code",
   "execution_count": 48,
   "metadata": {},
   "outputs": [
    {
     "data": {
      "text/plain": [
       "27.228279386712096"
      ]
     },
     "execution_count": 48,
     "metadata": {},
     "output_type": "execute_result"
    }
   ],
   "source": [
    "np.mean(baby['Maternal Age'])"
   ]
  },
  {
   "cell_type": "markdown",
   "metadata": {},
   "source": [
    "What was the average age of the mothers in the population? We don't know the value of this parameter.\n",
    "\n",
    "Let's estimate the unknown parameter by the bootstrap method. To do this, we will edit the code for bootstrap_median to instead define the function bootstrap_mean. The code is the same except that the statistics are means instead of medians, and are collected in an array called means instead of medians"
   ]
  },
  {
   "cell_type": "code",
   "execution_count": 59,
   "metadata": {},
   "outputs": [],
   "source": [
    "def bootstrap_means(original_sample, label, replications):\n",
    "    \"\"\"Returns an array of bootstrapped sample medians:\n",
    "    original_sample: table containing the original sample\n",
    "    label: label of column containing the variable\n",
    "    replications: number of bootstrap samples\n",
    "    \"\"\"\n",
    "    just_one_column = original_sample[[label]]\n",
    "    means = np.array([])\n",
    "    for i in np.arange(replications):\n",
    "        bootstrap_sample = just_one_column.sample(len(just_one_column),replace=True)\n",
    "        resampled_mean = np.mean(bootstrap_sample[label])\n",
    "        means = np.append(means, resampled_mean)\n",
    "        \n",
    "    return means"
   ]
  },
  {
   "cell_type": "code",
   "execution_count": 61,
   "metadata": {},
   "outputs": [
    {
     "data": {
      "text/plain": [
       "array([26.89267462, 27.56731261])"
      ]
     },
     "execution_count": 61,
     "metadata": {},
     "output_type": "execute_result"
    }
   ],
   "source": [
    "bstrap_means = bootstrap_means(baby, 'Maternal Age', 5000)\n",
    "left = np.percentile(bstrap_means,2.5)\n",
    "right = np.percentile(bstrap_means,97.5)\n",
    "\n",
    "np.array([left, right])"
   ]
  },
  {
   "cell_type": "code",
   "execution_count": 65,
   "metadata": {},
   "outputs": [
    {
     "data": {
      "text/html": [
       "<div>\n",
       "<style scoped>\n",
       "    .dataframe tbody tr th:only-of-type {\n",
       "        vertical-align: middle;\n",
       "    }\n",
       "\n",
       "    .dataframe tbody tr th {\n",
       "        vertical-align: top;\n",
       "    }\n",
       "\n",
       "    .dataframe thead th {\n",
       "        text-align: right;\n",
       "    }\n",
       "</style>\n",
       "<table border=\"1\" class=\"dataframe\">\n",
       "  <thead>\n",
       "    <tr style=\"text-align: right;\">\n",
       "      <th></th>\n",
       "      <th>Bootstrap Sample Mean</th>\n",
       "    </tr>\n",
       "  </thead>\n",
       "  <tbody>\n",
       "    <tr>\n",
       "      <th>0</th>\n",
       "      <td>27.321124</td>\n",
       "    </tr>\n",
       "    <tr>\n",
       "      <th>1</th>\n",
       "      <td>27.064736</td>\n",
       "    </tr>\n",
       "    <tr>\n",
       "      <th>2</th>\n",
       "      <td>27.371380</td>\n",
       "    </tr>\n",
       "    <tr>\n",
       "      <th>3</th>\n",
       "      <td>27.154174</td>\n",
       "    </tr>\n",
       "    <tr>\n",
       "      <th>4</th>\n",
       "      <td>27.127768</td>\n",
       "    </tr>\n",
       "    <tr>\n",
       "      <th>...</th>\n",
       "      <td>...</td>\n",
       "    </tr>\n",
       "    <tr>\n",
       "      <th>4995</th>\n",
       "      <td>27.075809</td>\n",
       "    </tr>\n",
       "    <tr>\n",
       "      <th>4996</th>\n",
       "      <td>27.406303</td>\n",
       "    </tr>\n",
       "    <tr>\n",
       "      <th>4997</th>\n",
       "      <td>27.132027</td>\n",
       "    </tr>\n",
       "    <tr>\n",
       "      <th>4998</th>\n",
       "      <td>27.519591</td>\n",
       "    </tr>\n",
       "    <tr>\n",
       "      <th>4999</th>\n",
       "      <td>27.361158</td>\n",
       "    </tr>\n",
       "  </tbody>\n",
       "</table>\n",
       "<p>5000 rows × 1 columns</p>\n",
       "</div>"
      ],
      "text/plain": [
       "      Bootstrap Sample Mean\n",
       "0                 27.321124\n",
       "1                 27.064736\n",
       "2                 27.371380\n",
       "3                 27.154174\n",
       "4                 27.127768\n",
       "...                     ...\n",
       "4995              27.075809\n",
       "4996              27.406303\n",
       "4997              27.132027\n",
       "4998              27.519591\n",
       "4999              27.361158\n",
       "\n",
       "[5000 rows x 1 columns]"
      ]
     },
     "execution_count": 65,
     "metadata": {},
     "output_type": "execute_result"
    }
   ],
   "source": [
    "resampled_means=pd.DataFrame({'Bootstrap Sample Mean': bstrap_means})\n",
    "resampled_means"
   ]
  },
  {
   "cell_type": "markdown",
   "metadata": {},
   "source": [
    "The 95% confidence interval goes from about 26.9 years to about 27.6 years. That is, we are estimating that the average age of the mothers in the population is somewhere in the interval 26.9 years to 27.6 years.\n",
    "\n",
    "Notice how close the two ends are to the average of about 27.2 years in the original sample. The sample size is very large – 1,174 mothers – and so the sample averages don't vary much. We will explore this observation further in the next chapter.\n",
    "\n",
    "The empirical histogram of the 5,000 bootstrapped means is shown below, along with the 95% confidence interval for the population mean."
   ]
  },
  {
   "cell_type": "code",
   "execution_count": 69,
   "metadata": {},
   "outputs": [
    {
     "data": {
      "image/png": "[encoded data removed]",
      "text/plain": [
       "<Figure size 432x288 with 1 Axes>"
      ]
     },
     "metadata": {
      "needs_background": "light"
     },
     "output_type": "display_data"
    }
   ],
   "source": [
    "resampled_means=pd.DataFrame({'Bootstrap Sample Mean': bstrap_means})\n",
    "axarr=resampled_means.hist()\n",
    "for ax in axarr.flatten():\n",
    "        ax.set_xlabel(\"Bootstrap Sample Mean\")\n",
    "        ax.set_ylabel(\"Percentage per unit\")\n",
    "        ax.plot(np.array([left,right]),np.array([0,0]), color='yellow')\n",
    "        ax.yaxis.set_major_formatter(tick.FuncFormatter(lambda x,_: f'{(x/4):.1f}'))\n",
    "        #ax.xaxis.set_major_formatter(tick.FuncFormatter(lambda x,_: f'{(x/2):.1f}'))"
   ]
  },
  {
   "cell_type": "markdown",
   "metadata": {},
   "source": [
    "Once again, the average of the original sample (27.23 years) is close to the center of the interval. That's not very surprising, because each bootstrapped sample is drawn from that same original sample. The averages of the bootstrapped samples are about symmetrically distributed on either side of the average of the sample from which they were drawn.\n",
    "\n",
    "Notice also that the empirical histogram of the resampled means has roughly a symmetric bell shape, even though the histogram of the sampled ages was not symmetric at all:"
   ]
  },
  {
   "cell_type": "code",
   "execution_count": 70,
   "metadata": {},
   "outputs": [
    {
     "data": {
      "image/png": "[encoded data removed]",
      "text/plain": [
       "<Figure size 432x288 with 1 Axes>"
      ]
     },
     "metadata": {
      "needs_background": "light"
     },
     "output_type": "display_data"
    }
   ],
   "source": [
    "axarr=baby[['Maternal Age']].hist()\n",
    "for ax in axarr.flatten():\n",
    "        ax.set_xlabel(\"Bootstrap Sample Median\")\n",
    "        ax.set_ylabel(\"Percentage per unit\")\n",
    "        ax.plot(np.array([left,right]),np.array([0,0]), color='yellow')\n",
    "        ax.yaxis.set_major_formatter(tick.FuncFormatter(lambda x,_: f'{(x/50):.1f}'))\n",
    "        ax.xaxis.set_major_formatter(tick.FuncFormatter(lambda x,_: f'{(x):.1f}'))"
   ]
  },
  {
   "cell_type": "markdown",
   "metadata": {},
   "source": [
    "This is a consequence of the Central Limit Theorem of probability and statistics. In later sections, we will see what the theorem says.\n",
    "\n"
   ]
  },
  {
   "cell_type": "markdown",
   "metadata": {},
   "source": [
    "An 80% Confidence Interval \n",
    "You can use the bootstrapped sample means to construct an interval of any level of confidence. For example, to construct an 80% confidence interval for the mean age in the population, you would take the \"middle 80%\" of the resampled means. So you would want 10% of the distribution in each of the two tails, and hence the endpoints would be the 10th and 90th percentiles of the resampled means."
   ]
  },
  {
   "cell_type": "code",
   "execution_count": 71,
   "metadata": {},
   "outputs": [
    {
     "data": {
      "text/plain": [
       "array([27.01107325, 27.44804089])"
      ]
     },
     "execution_count": 71,
     "metadata": {},
     "output_type": "execute_result"
    }
   ],
   "source": [
    "left_80 = np.percentile( bstrap_means,10)\n",
    "right_80 = np.percentile(bstrap_means,90)\n",
    "np.array([left_80, right_80])"
   ]
  },
  {
   "cell_type": "code",
   "execution_count": 73,
   "metadata": {},
   "outputs": [
    {
     "data": {
      "image/png": "[encoded data removed]",
      "text/plain": [
       "<Figure size 432x288 with 1 Axes>"
      ]
     },
     "metadata": {
      "needs_background": "light"
     },
     "output_type": "display_data"
    }
   ],
   "source": [
    "resampled_means=pd.DataFrame({'Bootstrap Sample Mean': bstrap_means})\n",
    "axarr=resampled_means.hist()\n",
    "for ax in axarr.flatten():\n",
    "        ax.set_xlabel(\"Bootstrap Sample Mean\")\n",
    "        ax.set_ylabel(\"Percentage per unit\")\n",
    "        ax.plot(np.array([left_80,right_80]),np.array([0,0]), color='yellow')\n",
    "        ax.yaxis.set_major_formatter(tick.FuncFormatter(lambda x,_: f'{(x/4):.1f}'))\n",
    "        #ax.xaxis.set_major_formatter(tick.FuncFormatter(lambda x,_: f'{(x/2):.1f}'))"
   ]
  },
  {
   "cell_type": "markdown",
   "metadata": {},
   "source": [
    "This 80% confidence interval is much shorter than the 95% confidence interval. It only goes from about 27.0 years to about 27.4 years. While that's a tight set of estimates, you know that this process only produces a good interval about 80% of the time.\n",
    "\n",
    "The earlier process produced a wider interval but we had more confidence in the process that generated it.\n",
    "\n",
    "To get a narrow confidence interval at a high level of confidence, you'll have to start with a larger sample. We'll see why in the next chapter.\n",
    "\n"
   ]
  },
  {
   "cell_type": "markdown",
   "metadata": {},
   "source": [
    "## Confidence Interval for a Population Proportion: Bootstrap Percentile Method \n",
    "In the sample, 39% of the mothers smoked during pregnancy."
   ]
  },
  {
   "cell_type": "code",
   "execution_count": null,
   "metadata": {},
   "outputs": [],
   "source": [
    "#baby.where('Maternal Smoker', are.equal_to(True)).num_rows/baby.num_rows\n",
    "baby.has_cancer[baby['Maternal Smoker']==True].count()"
   ]
  },
  {
   "cell_type": "code",
   "execution_count": 92,
   "metadata": {},
   "outputs": [
    {
     "data": {
      "text/plain": [
       "0.3909710391822828"
      ]
     },
     "execution_count": 92,
     "metadata": {},
     "output_type": "execute_result"
    }
   ],
   "source": [
    "sum(baby[\"Maternal Smoker\"])/len(baby)"
   ]
  },
  {
   "cell_type": "markdown",
   "metadata": {},
   "source": [
    "What percent of mothers in the population smoked during pregnancy? This is an unknown parameter which we can estimate by a bootstrap confidence interval. The steps in the process are analogous to those we took to estimate the population mean and median.\n",
    "\n",
    "We will start by defining a function bootstrap_proportion that returns an array of bootstrapped sampled proportions. Once again, we will achieve this by editing our definition of bootstrap_median. The only change in computation is in replacing the median of the resample by the proportion of smokers in it. The code assumes that the column of data consists of Boolean values. The other changes are only to the names of arrays, to help us read and understand our code."
   ]
  },
  {
   "cell_type": "code",
   "execution_count": 100,
   "metadata": {},
   "outputs": [],
   "source": [
    "def bootstrap_proportion(original_sample, label, replications):\n",
    "    \"\"\"Returns an array of bootstrapped sample medians:\n",
    "    original_sample: table containing the original sample\n",
    "    label: label of column containing the variable\n",
    "    replications: number of bootstrap samples\n",
    "    \"\"\"\n",
    "    just_one_column = original_sample[[label]]\n",
    "    proportions = np.array([])\n",
    "    for i in np.arange(replications):\n",
    "        bootstrap_sample = just_one_column.sample(len(just_one_column),replace=True)\n",
    "        resample_array = bootstrap_sample[[label]]\n",
    "        resampled_proportion = np.count_nonzero(resample_array)/len(resample_array)\n",
    "        proportions = np.append(proportions, resampled_proportion)\n",
    "        \n",
    "    return proportions"
   ]
  },
  {
   "cell_type": "markdown",
   "metadata": {},
   "source": [
    "Let us use bootstrap_proportion to construct an approximate 95% confidence interval for the percent of smokers among the mothers in the population. The code is analogous to the corresponding code for the mean and median."
   ]
  },
  {
   "cell_type": "code",
   "execution_count": 101,
   "metadata": {},
   "outputs": [
    {
     "data": {
      "text/plain": [
       "array([0.3637138 , 0.41908007])"
      ]
     },
     "execution_count": 101,
     "metadata": {},
     "output_type": "execute_result"
    }
   ],
   "source": [
    "# Generate the proportions from 5000 bootstrap samples\n",
    "bstrap_props = bootstrap_proportion(baby, 'Maternal Smoker', 5000)\n",
    "\n",
    "# Get the endpoints of the 95% confidence interval\n",
    "left = np.percentile(bstrap_props,2.5)\n",
    "right = np.percentile(bstrap_props,97.5)\n",
    "\n",
    "np.array([left, right])"
   ]
  },
  {
   "cell_type": "markdown",
   "metadata": {},
   "source": [
    "The confidence interval goes from about 36% to about 42%. The original sample percent of 39% is very close to the center of the interval, as you can see below."
   ]
  },
  {
   "cell_type": "code",
   "execution_count": 105,
   "metadata": {},
   "outputs": [
    {
     "data": {
      "image/png": "[encoded data removed]",
      "text/plain": [
       "<Figure size 432x288 with 1 Axes>"
      ]
     },
     "metadata": {
      "needs_background": "light"
     },
     "output_type": "display_data"
    }
   ],
   "source": [
    "resampled_proportion=pd.DataFrame({'Bootstrap Sample Proportion': bstrap_props})\n",
    "axarr=resampled_proportion.hist()\n",
    "for ax in axarr.flatten():\n",
    "        ax.set_xlabel(\"Bootstrap Sample Mean\")\n",
    "        ax.set_ylabel(\"Percentage per unit\")\n",
    "        ax.plot(np.array([left,right]),np.array([0,0]), color='yellow')\n",
    "        #ax.yaxis.set_major_formatter(tick.FuncFormatter(lambda x,_: f'{(x/4):.1f}'))\n",
    "        #ax.xaxis.set_major_formatter(tick.FuncFormatter(lambda x,_: f'{(x/2):.1f}'))"
   ]
  },
  {
   "cell_type": "markdown",
   "metadata": {},
   "source": [
    "## Care in Using the Bootstrap \n",
    "The bootstrap is an elegant and powerful method. Before using it, it is important to keep some points in mind.\n",
    "\n",
    "Start with a large random sample. If you don't, the method might not work. Its success is based on large random samples (and hence also resamples from the sample) resembling the population. The Law of Averages says that this is likely to be true provided the random sample is large.\n",
    "\n",
    "To approximate the probability distribution of a statistic, it is a good idea to replicate the resampling procedure as many times as possible. A few thousand replications will result in decent approximations to the distribution of sample median, especially if the distribution of the population has one peak and is not very asymmetric. We used 5,000 replications in our examples but would recommend 10,000 in general.\n",
    "\n",
    "The bootstrap percentile method works well for estimating the population median or mean based on a large random sample. However, it has limitations, as do all methods of estimation. For example, it is not expected to do well in the following situations.\n",
    "\n",
    "The goal is to estimate the minimum or maximum value in the population, or a very low or very high percentile, or parameters that are greatly influenced by rare elements of the population.\n",
    "The probability distribution of the statistic is not roughly bell shaped.\n",
    "The original sample is very small, say less than 10 or 15."
   ]
  },
  {
   "cell_type": "code",
   "execution_count": null,
   "metadata": {},
   "outputs": [],
   "source": []
  }
 ],
 "metadata": {
  "kernelspec": {
   "display_name": "Python 3",
   "language": "python",
   "name": "python3"
  },
  "language_info": {
   "codemirror_mode": {
    "name": "ipython",
    "version": 3
   },
   "file_extension": ".py",
   "mimetype": "text/x-python",
   "name": "python",
   "nbconvert_exporter": "python",
   "pygments_lexer": "ipython3",
   "version": "3.8.3"
  }
 },
 "nbformat": 4,
 "nbformat_minor": 4
}
